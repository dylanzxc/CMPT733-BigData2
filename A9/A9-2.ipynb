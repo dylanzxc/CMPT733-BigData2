{
 "cells": [
  {
   "cell_type": "markdown",
   "metadata": {},
   "source": [
    "# Assignment 9: Causal Inference (Part 2)\n",
    "\n",
    "## Objective:\n",
    "\n",
    "Causal inference is the process of drawing a conclusion about a causal connection based on the conditions of the occurrence of an effect. It is a very powerful and widely-used tool in real-world applications and scenarios. In this assignment, you are expected to apply the basic concepts of causal inference to solve problems on real datasets and be able to achieve the following goals.\n",
    "\n",
    "* Understand why causality is needed.\n",
    "* Understand what is causality, particularly the difference between causality and correlation.\n",
    "* Understand how to estimate counterfactual results.\n",
    "* Understand how to use the graphical model to represent causality.\n",
    "* Can use some tools (e.g., dowhy) to infer causality, express causality and estimate treatment effects."
   ]
  },
  {
   "cell_type": "markdown",
   "metadata": {},
   "source": [
    "# 0. Preparation"
   ]
  },
  {
   "cell_type": "code",
   "execution_count": 25,
   "metadata": {},
   "outputs": [],
   "source": [
    "import numpy as np\n",
    "import pandas as pd\n",
    "from dataprep.eda import plot\n",
    "pd.options.mode.chained_assignment = None"
   ]
  },
  {
   "cell_type": "markdown",
   "metadata": {},
   "source": [
    "In this assignment, you are going to use the [Lalonde](lalonde.csv) dataset. Each tuple in the dataset represents an individual who was enrolled (or not enrolled) in a job training program. It aims to evaluate the effectiveness of a job training program (the treatment variable) on the real earnings of an individual, after completing the program for years. \n",
    "\n",
    "The dataset consists of a number of demographic variables, like age, race, academic background, marriage status, and previous real earnings in 1974, 1975 as well as a treatment indicator, and the real earnings in the year 1978 (the outcome variable)."
   ]
  },
  {
   "cell_type": "code",
   "execution_count": 26,
   "metadata": {},
   "outputs": [
    {
     "data": {
      "text/html": [
       "<div>\n",
       "<style scoped>\n",
       "    .dataframe tbody tr th:only-of-type {\n",
       "        vertical-align: middle;\n",
       "    }\n",
       "\n",
       "    .dataframe tbody tr th {\n",
       "        vertical-align: top;\n",
       "    }\n",
       "\n",
       "    .dataframe thead th {\n",
       "        text-align: right;\n",
       "    }\n",
       "</style>\n",
       "<table border=\"1\" class=\"dataframe\">\n",
       "  <thead>\n",
       "    <tr style=\"text-align: right;\">\n",
       "      <th></th>\n",
       "      <th>treat</th>\n",
       "      <th>age</th>\n",
       "      <th>educ</th>\n",
       "      <th>black</th>\n",
       "      <th>hispan</th>\n",
       "      <th>married</th>\n",
       "      <th>nodegree</th>\n",
       "      <th>re74</th>\n",
       "      <th>re75</th>\n",
       "      <th>re78</th>\n",
       "    </tr>\n",
       "    <tr>\n",
       "      <th>id</th>\n",
       "      <th></th>\n",
       "      <th></th>\n",
       "      <th></th>\n",
       "      <th></th>\n",
       "      <th></th>\n",
       "      <th></th>\n",
       "      <th></th>\n",
       "      <th></th>\n",
       "      <th></th>\n",
       "      <th></th>\n",
       "    </tr>\n",
       "  </thead>\n",
       "  <tbody>\n",
       "    <tr>\n",
       "      <th>NSW1</th>\n",
       "      <td>1</td>\n",
       "      <td>37</td>\n",
       "      <td>11</td>\n",
       "      <td>1</td>\n",
       "      <td>0</td>\n",
       "      <td>1</td>\n",
       "      <td>1</td>\n",
       "      <td>0.0</td>\n",
       "      <td>0.0</td>\n",
       "      <td>9930.0460</td>\n",
       "    </tr>\n",
       "    <tr>\n",
       "      <th>NSW2</th>\n",
       "      <td>1</td>\n",
       "      <td>22</td>\n",
       "      <td>9</td>\n",
       "      <td>0</td>\n",
       "      <td>1</td>\n",
       "      <td>0</td>\n",
       "      <td>1</td>\n",
       "      <td>0.0</td>\n",
       "      <td>0.0</td>\n",
       "      <td>3595.8940</td>\n",
       "    </tr>\n",
       "    <tr>\n",
       "      <th>NSW3</th>\n",
       "      <td>1</td>\n",
       "      <td>30</td>\n",
       "      <td>12</td>\n",
       "      <td>1</td>\n",
       "      <td>0</td>\n",
       "      <td>0</td>\n",
       "      <td>0</td>\n",
       "      <td>0.0</td>\n",
       "      <td>0.0</td>\n",
       "      <td>24909.4500</td>\n",
       "    </tr>\n",
       "    <tr>\n",
       "      <th>NSW4</th>\n",
       "      <td>1</td>\n",
       "      <td>27</td>\n",
       "      <td>11</td>\n",
       "      <td>1</td>\n",
       "      <td>0</td>\n",
       "      <td>0</td>\n",
       "      <td>1</td>\n",
       "      <td>0.0</td>\n",
       "      <td>0.0</td>\n",
       "      <td>7506.1460</td>\n",
       "    </tr>\n",
       "    <tr>\n",
       "      <th>NSW5</th>\n",
       "      <td>1</td>\n",
       "      <td>33</td>\n",
       "      <td>8</td>\n",
       "      <td>1</td>\n",
       "      <td>0</td>\n",
       "      <td>0</td>\n",
       "      <td>1</td>\n",
       "      <td>0.0</td>\n",
       "      <td>0.0</td>\n",
       "      <td>289.7899</td>\n",
       "    </tr>\n",
       "    <tr>\n",
       "      <th>...</th>\n",
       "      <td>...</td>\n",
       "      <td>...</td>\n",
       "      <td>...</td>\n",
       "      <td>...</td>\n",
       "      <td>...</td>\n",
       "      <td>...</td>\n",
       "      <td>...</td>\n",
       "      <td>...</td>\n",
       "      <td>...</td>\n",
       "      <td>...</td>\n",
       "    </tr>\n",
       "    <tr>\n",
       "      <th>PSID420</th>\n",
       "      <td>0</td>\n",
       "      <td>39</td>\n",
       "      <td>2</td>\n",
       "      <td>1</td>\n",
       "      <td>0</td>\n",
       "      <td>1</td>\n",
       "      <td>1</td>\n",
       "      <td>0.0</td>\n",
       "      <td>0.0</td>\n",
       "      <td>964.9555</td>\n",
       "    </tr>\n",
       "    <tr>\n",
       "      <th>PSID421</th>\n",
       "      <td>0</td>\n",
       "      <td>55</td>\n",
       "      <td>8</td>\n",
       "      <td>0</td>\n",
       "      <td>0</td>\n",
       "      <td>1</td>\n",
       "      <td>1</td>\n",
       "      <td>0.0</td>\n",
       "      <td>0.0</td>\n",
       "      <td>0.0000</td>\n",
       "    </tr>\n",
       "    <tr>\n",
       "      <th>PSID422</th>\n",
       "      <td>0</td>\n",
       "      <td>16</td>\n",
       "      <td>9</td>\n",
       "      <td>0</td>\n",
       "      <td>0</td>\n",
       "      <td>0</td>\n",
       "      <td>1</td>\n",
       "      <td>0.0</td>\n",
       "      <td>0.0</td>\n",
       "      <td>5551.8190</td>\n",
       "    </tr>\n",
       "    <tr>\n",
       "      <th>PSID423</th>\n",
       "      <td>0</td>\n",
       "      <td>27</td>\n",
       "      <td>10</td>\n",
       "      <td>1</td>\n",
       "      <td>0</td>\n",
       "      <td>0</td>\n",
       "      <td>1</td>\n",
       "      <td>0.0</td>\n",
       "      <td>0.0</td>\n",
       "      <td>7543.7940</td>\n",
       "    </tr>\n",
       "    <tr>\n",
       "      <th>PSID424</th>\n",
       "      <td>0</td>\n",
       "      <td>25</td>\n",
       "      <td>14</td>\n",
       "      <td>0</td>\n",
       "      <td>0</td>\n",
       "      <td>0</td>\n",
       "      <td>0</td>\n",
       "      <td>0.0</td>\n",
       "      <td>0.0</td>\n",
       "      <td>0.0000</td>\n",
       "    </tr>\n",
       "  </tbody>\n",
       "</table>\n",
       "<p>609 rows × 10 columns</p>\n",
       "</div>"
      ],
      "text/plain": [
       "         treat  age  educ  black  hispan  married  nodegree  re74  re75  \\\n",
       "id                                                                        \n",
       "NSW1         1   37    11      1       0        1         1   0.0   0.0   \n",
       "NSW2         1   22     9      0       1        0         1   0.0   0.0   \n",
       "NSW3         1   30    12      1       0        0         0   0.0   0.0   \n",
       "NSW4         1   27    11      1       0        0         1   0.0   0.0   \n",
       "NSW5         1   33     8      1       0        0         1   0.0   0.0   \n",
       "...        ...  ...   ...    ...     ...      ...       ...   ...   ...   \n",
       "PSID420      0   39     2      1       0        1         1   0.0   0.0   \n",
       "PSID421      0   55     8      0       0        1         1   0.0   0.0   \n",
       "PSID422      0   16     9      0       0        0         1   0.0   0.0   \n",
       "PSID423      0   27    10      1       0        0         1   0.0   0.0   \n",
       "PSID424      0   25    14      0       0        0         0   0.0   0.0   \n",
       "\n",
       "               re78  \n",
       "id                   \n",
       "NSW1      9930.0460  \n",
       "NSW2      3595.8940  \n",
       "NSW3     24909.4500  \n",
       "NSW4      7506.1460  \n",
       "NSW5       289.7899  \n",
       "...             ...  \n",
       "PSID420    964.9555  \n",
       "PSID421      0.0000  \n",
       "PSID422   5551.8190  \n",
       "PSID423   7543.7940  \n",
       "PSID424      0.0000  \n",
       "\n",
       "[609 rows x 10 columns]"
      ]
     },
     "execution_count": 26,
     "metadata": {},
     "output_type": "execute_result"
    }
   ],
   "source": [
    "lalonde = pd.read_csv('lalonde.csv', index_col=0)\n",
    "lalonde.head()\n",
    "lalonde.head(-5)"
   ]
  },
  {
   "cell_type": "code",
   "execution_count": 27,
   "metadata": {},
   "outputs": [
    {
     "data": {
      "text/html": [
       "\n",
       "\n",
       "\n",
       "\n",
       "\n",
       "\n",
       "  <div class=\"bk-root\" id=\"3f3b3ee3-47f9-441c-95e5-2913c8cc7467\" data-root-id=\"2204\"></div>\n"
      ]
     },
     "metadata": {},
     "output_type": "display_data"
    },
    {
     "data": {
      "application/javascript": [
       "(function(root) {\n",
       "  function embed_document(root) {\n",
       "    \n",
       "  var docs_json = {\"f4b5cc37-a3a3-4eb8-bb09-813e1c672178\":{\"roots\":{\"references\":[{\"attributes\":{\"children\":[[{\"id\":\"1814\",\"subtype\":\"Figure\",\"type\":\"Plot\"},0,0],[{\"id\":\"1846\",\"subtype\":\"Figure\",\"type\":\"Plot\"},0,1],[{\"id\":\"1878\",\"subtype\":\"Figure\",\"type\":\"Plot\"},0,2],[{\"id\":\"1910\",\"subtype\":\"Figure\",\"type\":\"Plot\"},1,0],[{\"id\":\"1942\",\"subtype\":\"Figure\",\"type\":\"Plot\"},1,1],[{\"id\":\"1974\",\"subtype\":\"Figure\",\"type\":\"Plot\"},1,2],[{\"id\":\"2006\",\"subtype\":\"Figure\",\"type\":\"Plot\"},2,0],[{\"id\":\"2038\",\"subtype\":\"Figure\",\"type\":\"Plot\"},2,1],[{\"id\":\"2070\",\"subtype\":\"Figure\",\"type\":\"Plot\"},2,2],[{\"id\":\"2102\",\"subtype\":\"Figure\",\"type\":\"Plot\"},3,0]]},\"id\":\"2204\",\"type\":\"GridBox\"},{\"attributes\":{\"bottom\":{\"value\":0.01},\"fill_alpha\":{\"value\":0.1},\"fill_color\":{\"value\":\"#1f77b4\"},\"left\":{\"field\":\"left\"},\"line_alpha\":{\"value\":0.1},\"line_color\":{\"value\":\"#1f77b4\"},\"right\":{\"field\":\"right\"},\"top\":{\"field\":\"freq\"}},\"id\":\"2095\",\"type\":\"Quad\"},{\"attributes\":{},\"id\":\"2153\",\"type\":\"Selection\"},{\"attributes\":{\"below\":[{\"id\":\"1825\",\"type\":\"LinearAxis\"}],\"center\":[{\"id\":\"1829\",\"type\":\"Grid\"},{\"id\":\"1834\",\"type\":\"Grid\"}],\"left\":[{\"id\":\"1830\",\"type\":\"LinearAxis\"}],\"plot_height\":300,\"plot_width\":324,\"renderers\":[{\"id\":\"1840\",\"type\":\"GlyphRenderer\"}],\"title\":{\"id\":\"1815\",\"type\":\"Title\"},\"toolbar\":{\"id\":\"1835\",\"type\":\"Toolbar\"},\"toolbar_location\":null,\"x_range\":{\"id\":\"1817\",\"type\":\"DataRange1d\"},\"x_scale\":{\"id\":\"1821\",\"type\":\"LinearScale\"},\"y_range\":{\"id\":\"1819\",\"type\":\"DataRange1d\"},\"y_scale\":{\"id\":\"1823\",\"type\":\"LinearScale\"}},\"id\":\"1814\",\"subtype\":\"Figure\",\"type\":\"Plot\"},{\"attributes\":{\"data_source\":{\"id\":\"2092\",\"type\":\"ColumnDataSource\"},\"glyph\":{\"id\":\"2094\",\"type\":\"Quad\"},\"hover_glyph\":null,\"muted_glyph\":null,\"nonselection_glyph\":{\"id\":\"2095\",\"type\":\"Quad\"},\"selection_glyph\":null,\"view\":{\"id\":\"2097\",\"type\":\"CDSView\"}},\"id\":\"2096\",\"type\":\"GlyphRenderer\"},{\"attributes\":{},\"id\":\"2156\",\"type\":\"BasicTickFormatter\"},{\"attributes\":{\"source\":{\"id\":\"2092\",\"type\":\"ColumnDataSource\"}},\"id\":\"2097\",\"type\":\"CDSView\"},{\"attributes\":{},\"id\":\"2159\",\"type\":\"UnionRenderers\"},{\"attributes\":{\"callback\":null,\"mode\":\"vline\",\"tooltips\":[[\"Bin\",\"@intervals\"],[\"Frequency\",\"@freq\"],[\"Percent\",\"@pct{0.2f}%\"]]},\"id\":\"2098\",\"type\":\"HoverTool\"},{\"attributes\":{},\"id\":\"2160\",\"type\":\"Selection\"},{\"attributes\":{},\"id\":\"2163\",\"type\":\"BasicTickFormatter\"},{\"attributes\":{\"below\":[{\"id\":\"2113\",\"type\":\"LinearAxis\"}],\"center\":[{\"id\":\"2117\",\"type\":\"Grid\"},{\"id\":\"2122\",\"type\":\"Grid\"}],\"left\":[{\"id\":\"2118\",\"type\":\"LinearAxis\"}],\"plot_height\":300,\"plot_width\":324,\"renderers\":[{\"id\":\"2128\",\"type\":\"GlyphRenderer\"}],\"title\":{\"id\":\"2103\",\"type\":\"Title\"},\"toolbar\":{\"id\":\"2123\",\"type\":\"Toolbar\"},\"toolbar_location\":null,\"x_range\":{\"id\":\"2105\",\"type\":\"DataRange1d\"},\"x_scale\":{\"id\":\"2109\",\"type\":\"LinearScale\"},\"y_range\":{\"id\":\"2107\",\"type\":\"DataRange1d\"},\"y_scale\":{\"id\":\"2111\",\"type\":\"LinearScale\"}},\"id\":\"2102\",\"subtype\":\"Figure\",\"type\":\"Plot\"},{\"attributes\":{},\"id\":\"2164\",\"type\":\"BasicTickFormatter\"},{\"attributes\":{\"callback\":null,\"data\":{\"freq\":[341,138,76,36,20,1,1,0,0,1],\"index\":[0,1,2,3,4,5,6,7,8,9],\"intervals\":[\"[0.0,6030.793)\",\"[6030.793,12061.586)\",\"[12061.586,18092.379)\",\"[18092.379,24123.172)\",\"[24123.172,30153.965)\",\"[30153.965,36184.758)\",\"[36184.758,42215.551)\",\"[42215.551,48246.344)\",\"[48246.344,54277.137)\",\"[54277.137,60307.93]\"],\"left\":{\"__ndarray__\":\"AAAAAAAAAAC6SQwCy463QLpJDALLjsdATDeJQRir0UC6SQwCy47XQChcj8J9ct1ATDeJQRir4UCDwMqh8ZzkQLpJDALLjudA8dJNYqSA6kA=\",\"dtype\":\"float64\",\"shape\":[10]},\"pct\":{\"__ndarray__\":\"bYo+d8vES0Ak3Cj1vnk2QG+ZmJN1wShAaXbGpuhzF0B1vGqAAg8KQF4wIs3O2MQ/XjAizc7YxD8AAAAAAAAAAAAAAAAAAAAAXjAizc7YxD8=\",\"dtype\":\"float64\",\"shape\":[10]},\"right\":{\"__ndarray__\":\"ukkMAsuOt0C6SQwCy47HQEw3iUEYq9FAukkMAsuO10AoXI/CfXLdQEw3iUEYq+FAg8DKofGc5EC6SQwCy47nQPHSTWKkgOpAKVyPwn1y7UA=\",\"dtype\":\"float64\",\"shape\":[10]}},\"selected\":{\"id\":\"2202\",\"type\":\"Selection\"},\"selection_policy\":{\"id\":\"2201\",\"type\":\"UnionRenderers\"}},\"id\":\"2124\",\"type\":\"ColumnDataSource\"},{\"attributes\":{\"ticks\":[0.0,2514.224,5028.448,7542.6720000000005,10056.896,12571.12,15085.344000000001,17599.568,20113.792,22628.016000000003,25142.24]},\"id\":\"2100\",\"type\":\"FixedTicker\"},{\"attributes\":{},\"id\":\"2166\",\"type\":\"UnionRenderers\"},{\"attributes\":{},\"id\":\"1823\",\"type\":\"LinearScale\"},{\"attributes\":{\"text\":\"re78\",\"text_font_size\":{\"value\":\"10pt\"}},\"id\":\"2103\",\"type\":\"Title\"},{\"attributes\":{},\"id\":\"2167\",\"type\":\"Selection\"},{\"attributes\":{\"callback\":null},\"id\":\"2105\",\"type\":\"DataRange1d\"},{\"attributes\":{},\"id\":\"2170\",\"type\":\"BasicTickFormatter\"},{\"attributes\":{\"callback\":null},\"id\":\"2107\",\"type\":\"DataRange1d\"},{\"attributes\":{},\"id\":\"2171\",\"type\":\"BasicTickFormatter\"},{\"attributes\":{},\"id\":\"2109\",\"type\":\"LinearScale\"},{\"attributes\":{},\"id\":\"2173\",\"type\":\"UnionRenderers\"},{\"attributes\":{},\"id\":\"2111\",\"type\":\"LinearScale\"},{\"attributes\":{},\"id\":\"2174\",\"type\":\"Selection\"},{\"attributes\":{\"formatter\":{\"id\":\"2177\",\"type\":\"BasicTickFormatter\"},\"major_label_orientation\":1.0471975511965976,\"major_label_text_font_size\":{\"value\":\"9pt\"},\"minor_tick_line_color\":{\"value\":null},\"ticker\":{\"id\":\"2036\",\"type\":\"FixedTicker\"}},\"id\":\"2017\",\"type\":\"LinearAxis\"},{\"attributes\":{\"formatter\":{\"id\":\"2198\",\"type\":\"BasicTickFormatter\"},\"major_label_orientation\":1.0471975511965976,\"major_label_text_font_size\":{\"value\":\"9pt\"},\"minor_tick_line_color\":{\"value\":null},\"ticker\":{\"id\":\"2132\",\"type\":\"FixedTicker\"}},\"id\":\"2113\",\"type\":\"LinearAxis\"},{\"attributes\":{},\"id\":\"2177\",\"type\":\"BasicTickFormatter\"},{\"attributes\":{},\"id\":\"2178\",\"type\":\"BasicTickFormatter\"},{\"attributes\":{},\"id\":\"2114\",\"type\":\"BasicTicker\"},{\"attributes\":{\"grid_line_color\":null,\"ticker\":{\"id\":\"2114\",\"type\":\"BasicTicker\"}},\"id\":\"2117\",\"type\":\"Grid\"},{\"attributes\":{},\"id\":\"2180\",\"type\":\"UnionRenderers\"},{\"attributes\":{\"axis_label\":\"Frequency\",\"formatter\":{\"id\":\"2199\",\"type\":\"BasicTickFormatter\"},\"major_label_text_font_size\":{\"value\":\"0pt\"},\"major_tick_line_color\":{\"value\":null},\"minor_tick_line_color\":{\"value\":null},\"ticker\":{\"id\":\"2119\",\"type\":\"BasicTicker\"}},\"id\":\"2118\",\"type\":\"LinearAxis\"},{\"attributes\":{},\"id\":\"2181\",\"type\":\"Selection\"},{\"attributes\":{},\"id\":\"2184\",\"type\":\"BasicTickFormatter\"},{\"attributes\":{},\"id\":\"2119\",\"type\":\"BasicTicker\"},{\"attributes\":{\"formatter\":{\"id\":\"2156\",\"type\":\"BasicTickFormatter\"},\"major_label_orientation\":1.0471975511965976,\"major_label_text_font_size\":{\"value\":\"9pt\"},\"minor_tick_line_color\":{\"value\":null},\"ticker\":{\"id\":\"1940\",\"type\":\"FixedTicker\"}},\"id\":\"1921\",\"type\":\"LinearAxis\"},{\"attributes\":{\"dimension\":1,\"grid_line_color\":null,\"ticker\":{\"id\":\"2119\",\"type\":\"BasicTicker\"}},\"id\":\"2122\",\"type\":\"Grid\"},{\"attributes\":{},\"id\":\"2185\",\"type\":\"BasicTickFormatter\"},{\"attributes\":{\"active_drag\":\"auto\",\"active_inspect\":\"auto\",\"active_multi\":null,\"active_scroll\":\"auto\",\"active_tap\":\"auto\",\"tools\":[{\"id\":\"2130\",\"type\":\"HoverTool\"}]},\"id\":\"2123\",\"type\":\"Toolbar\"},{\"attributes\":{},\"id\":\"2187\",\"type\":\"UnionRenderers\"},{\"attributes\":{},\"id\":\"2188\",\"type\":\"Selection\"},{\"attributes\":{\"data_source\":{\"id\":\"2124\",\"type\":\"ColumnDataSource\"},\"glyph\":{\"id\":\"2126\",\"type\":\"Quad\"},\"hover_glyph\":null,\"muted_glyph\":null,\"nonselection_glyph\":{\"id\":\"2127\",\"type\":\"Quad\"},\"selection_glyph\":null,\"view\":{\"id\":\"2129\",\"type\":\"CDSView\"}},\"id\":\"2128\",\"type\":\"GlyphRenderer\"},{\"attributes\":{},\"id\":\"2191\",\"type\":\"BasicTickFormatter\"},{\"attributes\":{\"below\":[{\"id\":\"1921\",\"type\":\"LinearAxis\"}],\"center\":[{\"id\":\"1925\",\"type\":\"Grid\"},{\"id\":\"1930\",\"type\":\"Grid\"}],\"left\":[{\"id\":\"1926\",\"type\":\"LinearAxis\"}],\"plot_height\":300,\"plot_width\":324,\"renderers\":[{\"id\":\"1936\",\"type\":\"GlyphRenderer\"}],\"title\":{\"id\":\"1911\",\"type\":\"Title\"},\"toolbar\":{\"id\":\"1931\",\"type\":\"Toolbar\"},\"toolbar_location\":null,\"x_range\":{\"id\":\"1913\",\"type\":\"DataRange1d\"},\"x_scale\":{\"id\":\"1917\",\"type\":\"LinearScale\"},\"y_range\":{\"id\":\"1915\",\"type\":\"DataRange1d\"},\"y_scale\":{\"id\":\"1919\",\"type\":\"LinearScale\"}},\"id\":\"1910\",\"subtype\":\"Figure\",\"type\":\"Plot\"},{\"attributes\":{\"callback\":null,\"mode\":\"vline\",\"tooltips\":[[\"Bin\",\"@intervals\"],[\"Frequency\",\"@freq\"],[\"Percent\",\"@pct{0.2f}%\"]]},\"id\":\"1906\",\"type\":\"HoverTool\"},{\"attributes\":{},\"id\":\"2192\",\"type\":\"BasicTickFormatter\"},{\"attributes\":{\"callback\":null,\"mode\":\"vline\",\"tooltips\":[[\"Bin\",\"@intervals\"],[\"Frequency\",\"@freq\"],[\"Percent\",\"@pct{0.2f}%\"]]},\"id\":\"2130\",\"type\":\"HoverTool\"},{\"attributes\":{},\"id\":\"2135\",\"type\":\"BasicTickFormatter\"},{\"attributes\":{},\"id\":\"2194\",\"type\":\"UnionRenderers\"},{\"attributes\":{},\"id\":\"2195\",\"type\":\"Selection\"},{\"attributes\":{\"source\":{\"id\":\"2124\",\"type\":\"ColumnDataSource\"}},\"id\":\"2129\",\"type\":\"CDSView\"},{\"attributes\":{},\"id\":\"2198\",\"type\":\"BasicTickFormatter\"},{\"attributes\":{\"ticks\":[0.0,6030.793,12061.586,18092.379,24123.172,30153.964999999997,36184.758,42215.551,48246.344,54277.136999999995,60307.93]},\"id\":\"2132\",\"type\":\"FixedTicker\"},{\"attributes\":{},\"id\":\"2199\",\"type\":\"BasicTickFormatter\"},{\"attributes\":{},\"id\":\"2136\",\"type\":\"BasicTickFormatter\"},{\"attributes\":{},\"id\":\"2201\",\"type\":\"UnionRenderers\"},{\"attributes\":{},\"id\":\"2138\",\"type\":\"UnionRenderers\"},{\"attributes\":{},\"id\":\"2202\",\"type\":\"Selection\"},{\"attributes\":{},\"id\":\"2139\",\"type\":\"Selection\"},{\"attributes\":{},\"id\":\"2142\",\"type\":\"BasicTickFormatter\"},{\"attributes\":{},\"id\":\"2143\",\"type\":\"BasicTickFormatter\"},{\"attributes\":{},\"id\":\"2145\",\"type\":\"UnionRenderers\"},{\"attributes\":{},\"id\":\"2146\",\"type\":\"Selection\"},{\"attributes\":{},\"id\":\"1821\",\"type\":\"LinearScale\"},{\"attributes\":{},\"id\":\"2149\",\"type\":\"BasicTickFormatter\"},{\"attributes\":{\"source\":{\"id\":\"1900\",\"type\":\"ColumnDataSource\"}},\"id\":\"1905\",\"type\":\"CDSView\"},{\"attributes\":{\"ticks\":[0.0,0.1,0.2,0.30000000000000004,0.4,0.5,0.6000000000000001,0.7000000000000001,0.8,0.9,1.0]},\"id\":\"2036\",\"type\":\"FixedTicker\"},{\"attributes\":{},\"id\":\"2150\",\"type\":\"BasicTickFormatter\"},{\"attributes\":{},\"id\":\"2152\",\"type\":\"UnionRenderers\"},{\"attributes\":{\"dimension\":1,\"grid_line_color\":null,\"ticker\":{\"id\":\"1927\",\"type\":\"BasicTicker\"}},\"id\":\"1930\",\"type\":\"Grid\"},{\"attributes\":{},\"id\":\"1981\",\"type\":\"LinearScale\"},{\"attributes\":{\"text\":\"re74\",\"text_font_size\":{\"value\":\"10pt\"}},\"id\":\"2039\",\"type\":\"Title\"},{\"attributes\":{\"callback\":null},\"id\":\"1819\",\"type\":\"DataRange1d\"},{\"attributes\":{\"text\":\"age\",\"text_font_size\":{\"value\":\"10pt\"}},\"id\":\"1847\",\"type\":\"Title\"},{\"attributes\":{\"active_drag\":\"auto\",\"active_inspect\":\"auto\",\"active_multi\":null,\"active_scroll\":\"auto\",\"active_tap\":\"auto\",\"tools\":[{\"id\":\"1938\",\"type\":\"HoverTool\"}]},\"id\":\"1931\",\"type\":\"Toolbar\"},{\"attributes\":{},\"id\":\"1983\",\"type\":\"LinearScale\"},{\"attributes\":{\"callback\":null},\"id\":\"2041\",\"type\":\"DataRange1d\"},{\"attributes\":{\"callback\":null},\"id\":\"1849\",\"type\":\"DataRange1d\"},{\"attributes\":{\"grid_line_color\":null,\"ticker\":{\"id\":\"1826\",\"type\":\"BasicTicker\"}},\"id\":\"1829\",\"type\":\"Grid\"},{\"attributes\":{\"formatter\":{\"id\":\"2170\",\"type\":\"BasicTickFormatter\"},\"major_label_orientation\":1.0471975511965976,\"major_label_text_font_size\":{\"value\":\"9pt\"},\"minor_tick_line_color\":{\"value\":null},\"ticker\":{\"id\":\"2004\",\"type\":\"FixedTicker\"}},\"id\":\"1985\",\"type\":\"LinearAxis\"},{\"attributes\":{\"callback\":null},\"id\":\"2043\",\"type\":\"DataRange1d\"},{\"attributes\":{\"callback\":null},\"id\":\"1851\",\"type\":\"DataRange1d\"},{\"attributes\":{},\"id\":\"2015\",\"type\":\"LinearScale\"},{\"attributes\":{\"data_source\":{\"id\":\"1932\",\"type\":\"ColumnDataSource\"},\"glyph\":{\"id\":\"1934\",\"type\":\"Quad\"},\"hover_glyph\":null,\"muted_glyph\":null,\"nonselection_glyph\":{\"id\":\"1935\",\"type\":\"Quad\"},\"selection_glyph\":null,\"view\":{\"id\":\"1937\",\"type\":\"CDSView\"}},\"id\":\"1936\",\"type\":\"GlyphRenderer\"},{\"attributes\":{},\"id\":\"2045\",\"type\":\"LinearScale\"},{\"attributes\":{},\"id\":\"1986\",\"type\":\"BasicTicker\"},{\"attributes\":{},\"id\":\"1853\",\"type\":\"LinearScale\"},{\"attributes\":{\"bottom\":{\"value\":0.01},\"fill_alpha\":{\"value\":0.5},\"fill_color\":{\"value\":\"#6baed6\"},\"left\":{\"field\":\"left\"},\"line_alpha\":{\"value\":0.5},\"line_color\":{\"value\":\"#1f77b4\"},\"right\":{\"field\":\"right\"},\"top\":{\"field\":\"freq\"}},\"id\":\"1934\",\"type\":\"Quad\"},{\"attributes\":{\"grid_line_color\":null,\"ticker\":{\"id\":\"1986\",\"type\":\"BasicTicker\"}},\"id\":\"1989\",\"type\":\"Grid\"},{\"attributes\":{},\"id\":\"2047\",\"type\":\"LinearScale\"},{\"attributes\":{},\"id\":\"1855\",\"type\":\"LinearScale\"},{\"attributes\":{\"axis_label\":\"Frequency\",\"formatter\":{\"id\":\"2171\",\"type\":\"BasicTickFormatter\"},\"major_label_text_font_size\":{\"value\":\"0pt\"},\"major_tick_line_color\":{\"value\":null},\"minor_tick_line_color\":{\"value\":null},\"ticker\":{\"id\":\"1991\",\"type\":\"BasicTicker\"}},\"id\":\"1990\",\"type\":\"LinearAxis\"},{\"attributes\":{\"formatter\":{\"id\":\"2184\",\"type\":\"BasicTickFormatter\"},\"major_label_orientation\":1.0471975511965976,\"major_label_text_font_size\":{\"value\":\"9pt\"},\"minor_tick_line_color\":{\"value\":null},\"ticker\":{\"id\":\"2068\",\"type\":\"FixedTicker\"}},\"id\":\"2049\",\"type\":\"LinearAxis\"},{\"attributes\":{\"formatter\":{\"id\":\"2142\",\"type\":\"BasicTickFormatter\"},\"major_label_orientation\":1.0471975511965976,\"major_label_text_font_size\":{\"value\":\"9pt\"},\"minor_tick_line_color\":{\"value\":null},\"ticker\":{\"id\":\"1876\",\"type\":\"FixedTicker\"}},\"id\":\"1857\",\"type\":\"LinearAxis\"},{\"attributes\":{\"text\":\"black\",\"text_font_size\":{\"value\":\"10pt\"}},\"id\":\"1911\",\"type\":\"Title\"},{\"attributes\":{\"bottom\":{\"value\":0.01},\"fill_alpha\":{\"value\":0.1},\"fill_color\":{\"value\":\"#1f77b4\"},\"left\":{\"field\":\"left\"},\"line_alpha\":{\"value\":0.1},\"line_color\":{\"value\":\"#1f77b4\"},\"right\":{\"field\":\"right\"},\"top\":{\"field\":\"freq\"}},\"id\":\"1935\",\"type\":\"Quad\"},{\"attributes\":{\"source\":{\"id\":\"1932\",\"type\":\"ColumnDataSource\"}},\"id\":\"1937\",\"type\":\"CDSView\"},{\"attributes\":{},\"id\":\"1991\",\"type\":\"BasicTicker\"},{\"attributes\":{},\"id\":\"2050\",\"type\":\"BasicTicker\"},{\"attributes\":{},\"id\":\"1858\",\"type\":\"BasicTicker\"},{\"attributes\":{\"dimension\":1,\"grid_line_color\":null,\"ticker\":{\"id\":\"1991\",\"type\":\"BasicTicker\"}},\"id\":\"1994\",\"type\":\"Grid\"},{\"attributes\":{\"grid_line_color\":null,\"ticker\":{\"id\":\"2050\",\"type\":\"BasicTicker\"}},\"id\":\"2053\",\"type\":\"Grid\"},{\"attributes\":{\"grid_line_color\":null,\"ticker\":{\"id\":\"1858\",\"type\":\"BasicTicker\"}},\"id\":\"1861\",\"type\":\"Grid\"},{\"attributes\":{\"callback\":null},\"id\":\"1915\",\"type\":\"DataRange1d\"},{\"attributes\":{\"callback\":null,\"mode\":\"vline\",\"tooltips\":[[\"Bin\",\"@intervals\"],[\"Frequency\",\"@freq\"],[\"Percent\",\"@pct{0.2f}%\"]]},\"id\":\"1938\",\"type\":\"HoverTool\"},{\"attributes\":{\"active_drag\":\"auto\",\"active_inspect\":\"auto\",\"active_multi\":null,\"active_scroll\":\"auto\",\"active_tap\":\"auto\",\"tools\":[{\"id\":\"2002\",\"type\":\"HoverTool\"}]},\"id\":\"1995\",\"type\":\"Toolbar\"},{\"attributes\":{\"axis_label\":\"Frequency\",\"formatter\":{\"id\":\"2185\",\"type\":\"BasicTickFormatter\"},\"major_label_text_font_size\":{\"value\":\"0pt\"},\"major_tick_line_color\":{\"value\":null},\"minor_tick_line_color\":{\"value\":null},\"ticker\":{\"id\":\"2055\",\"type\":\"BasicTicker\"}},\"id\":\"2054\",\"type\":\"LinearAxis\"},{\"attributes\":{\"axis_label\":\"Frequency\",\"formatter\":{\"id\":\"2143\",\"type\":\"BasicTickFormatter\"},\"major_label_text_font_size\":{\"value\":\"0pt\"},\"major_tick_line_color\":{\"value\":null},\"minor_tick_line_color\":{\"value\":null},\"ticker\":{\"id\":\"1863\",\"type\":\"BasicTicker\"}},\"id\":\"1862\",\"type\":\"LinearAxis\"},{\"attributes\":{\"below\":[{\"id\":\"1953\",\"type\":\"LinearAxis\"}],\"center\":[{\"id\":\"1957\",\"type\":\"Grid\"},{\"id\":\"1962\",\"type\":\"Grid\"}],\"left\":[{\"id\":\"1958\",\"type\":\"LinearAxis\"}],\"plot_height\":300,\"plot_width\":324,\"renderers\":[{\"id\":\"1968\",\"type\":\"GlyphRenderer\"}],\"title\":{\"id\":\"1943\",\"type\":\"Title\"},\"toolbar\":{\"id\":\"1963\",\"type\":\"Toolbar\"},\"toolbar_location\":null,\"x_range\":{\"id\":\"1945\",\"type\":\"DataRange1d\"},\"x_scale\":{\"id\":\"1949\",\"type\":\"LinearScale\"},\"y_range\":{\"id\":\"1947\",\"type\":\"DataRange1d\"},\"y_scale\":{\"id\":\"1951\",\"type\":\"LinearScale\"}},\"id\":\"1942\",\"subtype\":\"Figure\",\"type\":\"Plot\"},{\"attributes\":{\"callback\":null},\"id\":\"1913\",\"type\":\"DataRange1d\"},{\"attributes\":{},\"id\":\"2055\",\"type\":\"BasicTicker\"},{\"attributes\":{\"axis_label\":\"Frequency\",\"formatter\":{\"id\":\"2157\",\"type\":\"BasicTickFormatter\"},\"major_label_text_font_size\":{\"value\":\"0pt\"},\"major_tick_line_color\":{\"value\":null},\"minor_tick_line_color\":{\"value\":null},\"ticker\":{\"id\":\"1927\",\"type\":\"BasicTicker\"}},\"id\":\"1926\",\"type\":\"LinearAxis\"},{\"attributes\":{\"axis_label\":\"Frequency\",\"formatter\":{\"id\":\"2178\",\"type\":\"BasicTickFormatter\"},\"major_label_text_font_size\":{\"value\":\"0pt\"},\"major_tick_line_color\":{\"value\":null},\"minor_tick_line_color\":{\"value\":null},\"ticker\":{\"id\":\"2023\",\"type\":\"BasicTicker\"}},\"id\":\"2022\",\"type\":\"LinearAxis\"},{\"attributes\":{},\"id\":\"1863\",\"type\":\"BasicTicker\"},{\"attributes\":{\"data_source\":{\"id\":\"1996\",\"type\":\"ColumnDataSource\"},\"glyph\":{\"id\":\"1998\",\"type\":\"Quad\"},\"hover_glyph\":null,\"muted_glyph\":null,\"nonselection_glyph\":{\"id\":\"1999\",\"type\":\"Quad\"},\"selection_glyph\":null,\"view\":{\"id\":\"2001\",\"type\":\"CDSView\"}},\"id\":\"2000\",\"type\":\"GlyphRenderer\"},{\"attributes\":{\"dimension\":1,\"grid_line_color\":null,\"ticker\":{\"id\":\"2055\",\"type\":\"BasicTicker\"}},\"id\":\"2058\",\"type\":\"Grid\"},{\"attributes\":{\"callback\":null,\"data\":{\"freq\":[542,0,0,0,0,0,0,0,0,72],\"index\":[0,1,2,3,4,5,6,7,8,9],\"intervals\":[\"[0.0,0.1)\",\"[0.1,0.2)\",\"[0.2,0.3)\",\"[0.3,0.4)\",\"[0.4,0.5)\",\"[0.5,0.6)\",\"[0.6,0.7)\",\"[0.7,0.8)\",\"[0.8,0.9)\",\"[0.9,1.0]\"],\"left\":{\"__ndarray__\":\"AAAAAAAAAACamZmZmZm5P5qZmZmZmck/NDMzMzMz0z+amZmZmZnZPwAAAAAAAOA/NDMzMzMz4z9nZmZmZmbmP5qZmZmZmek/zczMzMzM7D8=\",\"dtype\":\"float64\",\"shape\":[10]},\"pct\":{\"__ndarray__\":\"MjEn64IRVkAAAAAAAAAAAAAAAAAAAAAAAAAAAAAAAAAAAAAAAAAAAAAAAAAAAAAAAAAAAAAAAAAAAAAAAAAAAAAAAAAAAAAAaXbGpuhzJ0A=\",\"dtype\":\"float64\",\"shape\":[10]},\"right\":{\"__ndarray__\":\"mpmZmZmZuT+amZmZmZnJPzQzMzMzM9M/mpmZmZmZ2T8AAAAAAADgPzQzMzMzM+M/Z2ZmZmZm5j+amZmZmZnpP83MzMzMzOw/AAAAAAAA8D8=\",\"dtype\":\"float64\",\"shape\":[10]}},\"selected\":{\"id\":\"2167\",\"type\":\"Selection\"},\"selection_policy\":{\"id\":\"2166\",\"type\":\"UnionRenderers\"}},\"id\":\"1964\",\"type\":\"ColumnDataSource\"},{\"attributes\":{\"dimension\":1,\"grid_line_color\":null,\"ticker\":{\"id\":\"1863\",\"type\":\"BasicTicker\"}},\"id\":\"1866\",\"type\":\"Grid\"},{\"attributes\":{\"grid_line_color\":null,\"ticker\":{\"id\":\"1922\",\"type\":\"BasicTicker\"}},\"id\":\"1925\",\"type\":\"Grid\"},{\"attributes\":{\"ticks\":[0.0,0.1,0.2,0.30000000000000004,0.4,0.5,0.6000000000000001,0.7000000000000001,0.8,0.9,1.0]},\"id\":\"1940\",\"type\":\"FixedTicker\"},{\"attributes\":{\"active_drag\":\"auto\",\"active_inspect\":\"auto\",\"active_multi\":null,\"active_scroll\":\"auto\",\"active_tap\":\"auto\",\"tools\":[{\"id\":\"2066\",\"type\":\"HoverTool\"}]},\"id\":\"2059\",\"type\":\"Toolbar\"},{\"attributes\":{\"bottom\":{\"value\":0.01},\"fill_alpha\":{\"value\":0.5},\"fill_color\":{\"value\":\"#6baed6\"},\"left\":{\"field\":\"left\"},\"line_alpha\":{\"value\":0.5},\"line_color\":{\"value\":\"#1f77b4\"},\"right\":{\"field\":\"right\"},\"top\":{\"field\":\"freq\"}},\"id\":\"1998\",\"type\":\"Quad\"},{\"attributes\":{\"active_drag\":\"auto\",\"active_inspect\":\"auto\",\"active_multi\":null,\"active_scroll\":\"auto\",\"active_tap\":\"auto\",\"tools\":[{\"id\":\"1874\",\"type\":\"HoverTool\"}]},\"id\":\"1867\",\"type\":\"Toolbar\"},{\"attributes\":{\"text\":\"hispan\",\"text_font_size\":{\"value\":\"10pt\"}},\"id\":\"1943\",\"type\":\"Title\"},{\"attributes\":{\"axis_label\":\"Frequency\",\"formatter\":{\"id\":\"2136\",\"type\":\"BasicTickFormatter\"},\"major_label_text_font_size\":{\"value\":\"0pt\"},\"major_tick_line_color\":{\"value\":null},\"minor_tick_line_color\":{\"value\":null},\"ticker\":{\"id\":\"1831\",\"type\":\"BasicTicker\"}},\"id\":\"1830\",\"type\":\"LinearAxis\"},{\"attributes\":{},\"id\":\"1826\",\"type\":\"BasicTicker\"},{\"attributes\":{\"callback\":null},\"id\":\"1945\",\"type\":\"DataRange1d\"},{\"attributes\":{\"bottom\":{\"value\":0.01},\"fill_alpha\":{\"value\":0.1},\"fill_color\":{\"value\":\"#1f77b4\"},\"left\":{\"field\":\"left\"},\"line_alpha\":{\"value\":0.1},\"line_color\":{\"value\":\"#1f77b4\"},\"right\":{\"field\":\"right\"},\"top\":{\"field\":\"freq\"}},\"id\":\"1999\",\"type\":\"Quad\"},{\"attributes\":{\"bottom\":{\"value\":0.01},\"fill_alpha\":{\"value\":0.5},\"fill_color\":{\"value\":\"#6baed6\"},\"left\":{\"field\":\"left\"},\"line_alpha\":{\"value\":0.5},\"line_color\":{\"value\":\"#1f77b4\"},\"right\":{\"field\":\"right\"},\"top\":{\"field\":\"freq\"}},\"id\":\"2126\",\"type\":\"Quad\"},{\"attributes\":{\"data_source\":{\"id\":\"2060\",\"type\":\"ColumnDataSource\"},\"glyph\":{\"id\":\"2062\",\"type\":\"Quad\"},\"hover_glyph\":null,\"muted_glyph\":null,\"nonselection_glyph\":{\"id\":\"2063\",\"type\":\"Quad\"},\"selection_glyph\":null,\"view\":{\"id\":\"2065\",\"type\":\"CDSView\"}},\"id\":\"2064\",\"type\":\"GlyphRenderer\"},{\"attributes\":{\"source\":{\"id\":\"1996\",\"type\":\"ColumnDataSource\"}},\"id\":\"2001\",\"type\":\"CDSView\"},{\"attributes\":{\"data_source\":{\"id\":\"1868\",\"type\":\"ColumnDataSource\"},\"glyph\":{\"id\":\"1870\",\"type\":\"Quad\"},\"hover_glyph\":null,\"muted_glyph\":null,\"nonselection_glyph\":{\"id\":\"1871\",\"type\":\"Quad\"},\"selection_glyph\":null,\"view\":{\"id\":\"1873\",\"type\":\"CDSView\"}},\"id\":\"1872\",\"type\":\"GlyphRenderer\"},{\"attributes\":{\"callback\":null},\"id\":\"1947\",\"type\":\"DataRange1d\"},{\"attributes\":{\"bottom\":{\"value\":0.01},\"fill_alpha\":{\"value\":0.5},\"fill_color\":{\"value\":\"#6baed6\"},\"left\":{\"field\":\"left\"},\"line_alpha\":{\"value\":0.5},\"line_color\":{\"value\":\"#1f77b4\"},\"right\":{\"field\":\"right\"},\"top\":{\"field\":\"freq\"}},\"id\":\"2062\",\"type\":\"Quad\"},{\"attributes\":{\"bottom\":{\"value\":0.01},\"fill_alpha\":{\"value\":0.5},\"fill_color\":{\"value\":\"#6baed6\"},\"left\":{\"field\":\"left\"},\"line_alpha\":{\"value\":0.5},\"line_color\":{\"value\":\"#1f77b4\"},\"right\":{\"field\":\"right\"},\"top\":{\"field\":\"freq\"}},\"id\":\"1870\",\"type\":\"Quad\"},{\"attributes\":{},\"id\":\"1949\",\"type\":\"LinearScale\"},{\"attributes\":{\"ticks\":[0.0,1.8,3.6,5.4,7.2,9.0,10.8,12.6,14.4,16.2,18.0]},\"id\":\"1908\",\"type\":\"FixedTicker\"},{\"attributes\":{\"callback\":null,\"mode\":\"vline\",\"tooltips\":[[\"Bin\",\"@intervals\"],[\"Frequency\",\"@freq\"],[\"Percent\",\"@pct{0.2f}%\"]]},\"id\":\"2002\",\"type\":\"HoverTool\"},{\"attributes\":{},\"id\":\"1922\",\"type\":\"BasicTicker\"},{\"attributes\":{},\"id\":\"1951\",\"type\":\"LinearScale\"},{\"attributes\":{\"bottom\":{\"value\":0.01},\"fill_alpha\":{\"value\":0.1},\"fill_color\":{\"value\":\"#1f77b4\"},\"left\":{\"field\":\"left\"},\"line_alpha\":{\"value\":0.1},\"line_color\":{\"value\":\"#1f77b4\"},\"right\":{\"field\":\"right\"},\"top\":{\"field\":\"freq\"}},\"id\":\"2063\",\"type\":\"Quad\"},{\"attributes\":{\"below\":[{\"id\":\"2017\",\"type\":\"LinearAxis\"}],\"center\":[{\"id\":\"2021\",\"type\":\"Grid\"},{\"id\":\"2026\",\"type\":\"Grid\"}],\"left\":[{\"id\":\"2022\",\"type\":\"LinearAxis\"}],\"plot_height\":300,\"plot_width\":324,\"renderers\":[{\"id\":\"2032\",\"type\":\"GlyphRenderer\"}],\"title\":{\"id\":\"2007\",\"type\":\"Title\"},\"toolbar\":{\"id\":\"2027\",\"type\":\"Toolbar\"},\"toolbar_location\":null,\"x_range\":{\"id\":\"2009\",\"type\":\"DataRange1d\"},\"x_scale\":{\"id\":\"2013\",\"type\":\"LinearScale\"},\"y_range\":{\"id\":\"2011\",\"type\":\"DataRange1d\"},\"y_scale\":{\"id\":\"2015\",\"type\":\"LinearScale\"}},\"id\":\"2006\",\"subtype\":\"Figure\",\"type\":\"Plot\"},{\"attributes\":{\"bottom\":{\"value\":0.01},\"fill_alpha\":{\"value\":0.1},\"fill_color\":{\"value\":\"#1f77b4\"},\"left\":{\"field\":\"left\"},\"line_alpha\":{\"value\":0.1},\"line_color\":{\"value\":\"#1f77b4\"},\"right\":{\"field\":\"right\"},\"top\":{\"field\":\"freq\"}},\"id\":\"1871\",\"type\":\"Quad\"},{\"attributes\":{\"source\":{\"id\":\"2060\",\"type\":\"ColumnDataSource\"}},\"id\":\"2065\",\"type\":\"CDSView\"},{\"attributes\":{\"formatter\":{\"id\":\"2163\",\"type\":\"BasicTickFormatter\"},\"major_label_orientation\":1.0471975511965976,\"major_label_text_font_size\":{\"value\":\"9pt\"},\"minor_tick_line_color\":{\"value\":null},\"ticker\":{\"id\":\"1972\",\"type\":\"FixedTicker\"}},\"id\":\"1953\",\"type\":\"LinearAxis\"},{\"attributes\":{},\"id\":\"1919\",\"type\":\"LinearScale\"},{\"attributes\":{\"source\":{\"id\":\"1868\",\"type\":\"ColumnDataSource\"}},\"id\":\"1873\",\"type\":\"CDSView\"},{\"attributes\":{\"callback\":null,\"data\":{\"freq\":[227,0,0,0,0,0,0,0,0,387],\"index\":[0,1,2,3,4,5,6,7,8,9],\"intervals\":[\"[0.0,0.1)\",\"[0.1,0.2)\",\"[0.2,0.3)\",\"[0.3,0.4)\",\"[0.4,0.5)\",\"[0.5,0.6)\",\"[0.6,0.7)\",\"[0.7,0.8)\",\"[0.8,0.9)\",\"[0.9,1.0]\"],\"left\":{\"__ndarray__\":\"AAAAAAAAAACamZmZmZm5P5qZmZmZmck/NDMzMzMz0z+amZmZmZnZPwAAAAAAAOA/NDMzMzMz4z9nZmZmZmbmP5qZmZmZmek/zczMzMzM7D8=\",\"dtype\":\"float64\",\"shape\":[10]},\"pct\":{\"__ndarray__\":\"41DlXz98QkAAAAAAAAAAAAAAAAAAAAAAAAAAAAAAAAAAAAAAAAAAAAAAAAAAAAAAAAAAAAAAAAAAAAAAAAAAAAAAAAAAAAAAHK8aoMCDT0A=\",\"dtype\":\"float64\",\"shape\":[10]},\"right\":{\"__ndarray__\":\"mpmZmZmZuT+amZmZmZnJPzQzMzMzM9M/mpmZmZmZ2T8AAAAAAADgPzQzMzMzM+M/Z2ZmZmZm5j+amZmZmZnpP83MzMzMzOw/AAAAAAAA8D8=\",\"dtype\":\"float64\",\"shape\":[10]}},\"selected\":{\"id\":\"2181\",\"type\":\"Selection\"},\"selection_policy\":{\"id\":\"2180\",\"type\":\"UnionRenderers\"}},\"id\":\"2028\",\"type\":\"ColumnDataSource\"},{\"attributes\":{\"data_source\":{\"id\":\"1900\",\"type\":\"ColumnDataSource\"},\"glyph\":{\"id\":\"1902\",\"type\":\"Quad\"},\"hover_glyph\":null,\"muted_glyph\":null,\"nonselection_glyph\":{\"id\":\"1903\",\"type\":\"Quad\"},\"selection_glyph\":null,\"view\":{\"id\":\"1905\",\"type\":\"CDSView\"}},\"id\":\"1904\",\"type\":\"GlyphRenderer\"},{\"attributes\":{},\"id\":\"1927\",\"type\":\"BasicTicker\"},{\"attributes\":{},\"id\":\"1954\",\"type\":\"BasicTicker\"},{\"attributes\":{\"callback\":null,\"data\":{\"freq\":[429,0,0,0,0,0,0,0,0,185],\"index\":[0,1,2,3,4,5,6,7,8,9],\"intervals\":[\"[0.0,0.1)\",\"[0.1,0.2)\",\"[0.2,0.3)\",\"[0.3,0.4)\",\"[0.4,0.5)\",\"[0.5,0.6)\",\"[0.6,0.7)\",\"[0.7,0.8)\",\"[0.8,0.9)\",\"[0.9,1.0]\"],\"left\":{\"__ndarray__\":\"AAAAAAAAAACamZmZmZm5P5qZmZmZmck/NDMzMzMz0z+amZmZmZnZPwAAAAAAAOA/NDMzMzMz4z9nZmZmZmbmP5qZmZmZmek/zczMzMzM7D8=\",\"dtype\":\"float64\",\"shape\":[10]},\"pct\":{\"__ndarray__\":\"hiXhRql3UUAAAAAAAAAAAAAAAAAAAAAAAAAAAAAAAAAAAAAAAAAAAAAAAAAAAAAAAAAAAAAAAAAAAAAAAAAAAAAAAAAAAAAA6Gl75FohPkA=\",\"dtype\":\"float64\",\"shape\":[10]},\"right\":{\"__ndarray__\":\"mpmZmZmZuT+amZmZmZnJPzQzMzMzM9M/mpmZmZmZ2T8AAAAAAADgPzQzMzMzM+M/Z2ZmZmZm5j+amZmZmZnpP83MzMzMzOw/AAAAAAAA8D8=\",\"dtype\":\"float64\",\"shape\":[10]}},\"selected\":{\"id\":\"2139\",\"type\":\"Selection\"},\"selection_policy\":{\"id\":\"2138\",\"type\":\"UnionRenderers\"}},\"id\":\"1836\",\"type\":\"ColumnDataSource\"},{\"attributes\":{\"callback\":null,\"mode\":\"vline\",\"tooltips\":[[\"Bin\",\"@intervals\"],[\"Frequency\",\"@freq\"],[\"Percent\",\"@pct{0.2f}%\"]]},\"id\":\"1874\",\"type\":\"HoverTool\"},{\"attributes\":{\"ticks\":[0.0,0.1,0.2,0.30000000000000004,0.4,0.5,0.6000000000000001,0.7000000000000001,0.8,0.9,1.0]},\"id\":\"2004\",\"type\":\"FixedTicker\"},{\"attributes\":{\"callback\":null,\"mode\":\"vline\",\"tooltips\":[[\"Bin\",\"@intervals\"],[\"Frequency\",\"@freq\"],[\"Percent\",\"@pct{0.2f}%\"]]},\"id\":\"2066\",\"type\":\"HoverTool\"},{\"attributes\":{\"grid_line_color\":null,\"ticker\":{\"id\":\"1954\",\"type\":\"BasicTicker\"}},\"id\":\"1957\",\"type\":\"Grid\"},{\"attributes\":{\"text\":\"nodegree\",\"text_font_size\":{\"value\":\"10pt\"}},\"id\":\"2007\",\"type\":\"Title\"},{\"attributes\":{\"bottom\":{\"value\":0.01},\"fill_alpha\":{\"value\":0.5},\"fill_color\":{\"value\":\"#6baed6\"},\"left\":{\"field\":\"left\"},\"line_alpha\":{\"value\":0.5},\"line_color\":{\"value\":\"#1f77b4\"},\"right\":{\"field\":\"right\"},\"top\":{\"field\":\"freq\"}},\"id\":\"2094\",\"type\":\"Quad\"},{\"attributes\":{\"below\":[{\"id\":\"2081\",\"type\":\"LinearAxis\"}],\"center\":[{\"id\":\"2085\",\"type\":\"Grid\"},{\"id\":\"2090\",\"type\":\"Grid\"}],\"left\":[{\"id\":\"2086\",\"type\":\"LinearAxis\"}],\"plot_height\":300,\"plot_width\":324,\"renderers\":[{\"id\":\"2096\",\"type\":\"GlyphRenderer\"}],\"title\":{\"id\":\"2071\",\"type\":\"Title\"},\"toolbar\":{\"id\":\"2091\",\"type\":\"Toolbar\"},\"toolbar_location\":null,\"x_range\":{\"id\":\"2073\",\"type\":\"DataRange1d\"},\"x_scale\":{\"id\":\"2077\",\"type\":\"LinearScale\"},\"y_range\":{\"id\":\"2075\",\"type\":\"DataRange1d\"},\"y_scale\":{\"id\":\"2079\",\"type\":\"LinearScale\"}},\"id\":\"2070\",\"subtype\":\"Figure\",\"type\":\"Plot\"},{\"attributes\":{\"below\":[{\"id\":\"1889\",\"type\":\"LinearAxis\"}],\"center\":[{\"id\":\"1893\",\"type\":\"Grid\"},{\"id\":\"1898\",\"type\":\"Grid\"}],\"left\":[{\"id\":\"1894\",\"type\":\"LinearAxis\"}],\"plot_height\":300,\"plot_width\":324,\"renderers\":[{\"id\":\"1904\",\"type\":\"GlyphRenderer\"}],\"title\":{\"id\":\"1879\",\"type\":\"Title\"},\"toolbar\":{\"id\":\"1899\",\"type\":\"Toolbar\"},\"toolbar_location\":null,\"x_range\":{\"id\":\"1881\",\"type\":\"DataRange1d\"},\"x_scale\":{\"id\":\"1885\",\"type\":\"LinearScale\"},\"y_range\":{\"id\":\"1883\",\"type\":\"DataRange1d\"},\"y_scale\":{\"id\":\"1887\",\"type\":\"LinearScale\"}},\"id\":\"1878\",\"subtype\":\"Figure\",\"type\":\"Plot\"},{\"attributes\":{},\"id\":\"1917\",\"type\":\"LinearScale\"},{\"attributes\":{\"axis_label\":\"Frequency\",\"formatter\":{\"id\":\"2164\",\"type\":\"BasicTickFormatter\"},\"major_label_text_font_size\":{\"value\":\"0pt\"},\"major_tick_line_color\":{\"value\":null},\"minor_tick_line_color\":{\"value\":null},\"ticker\":{\"id\":\"1959\",\"type\":\"BasicTicker\"}},\"id\":\"1958\",\"type\":\"LinearAxis\"},{\"attributes\":{\"callback\":null},\"id\":\"2009\",\"type\":\"DataRange1d\"},{\"attributes\":{\"callback\":null,\"data\":{\"freq\":[5,7,21,39,62,158,252,48,18,4],\"index\":[0,1,2,3,4,5,6,7,8,9],\"intervals\":[\"[0.0,1.8)\",\"[1.8,3.6)\",\"[3.6,5.4)\",\"[5.4,7.2)\",\"[7.2,9.0)\",\"[9.0,10.8)\",\"[10.8,12.6)\",\"[12.6,14.4)\",\"[14.4,16.2)\",\"[16.2,18.0]\"],\"left\":{\"__ndarray__\":\"AAAAAAAAAADNzMzMzMz8P83MzMzMzAxAmpmZmZmZFUDNzMzMzMwcQAAAAAAAACJAmpmZmZmZJUAzMzMzMzMpQM3MzMzMzCxAMzMzMzMzMEA=\",\"dtype\":\"float64\",\"shape\":[10]},\"pct\":{\"__ndarray__\":\"dbxqgAIP6j9S6n3ztD3yP3vfPG2PXAtA8qoBCjxoGUDbHrlWCDIkQLMzNkWfuzlAnKftkWuFRECLSLMzNkUfQGl2xqbocwdAXjAizc7Y5D8=\",\"dtype\":\"float64\",\"shape\":[10]},\"right\":{\"__ndarray__\":\"zczMzMzM/D/NzMzMzMwMQJqZmZmZmRVAzczMzMzMHEAAAAAAAAAiQJqZmZmZmSVAMzMzMzMzKUDNzMzMzMwsQDMzMzMzMzBAAAAAAAAAMkA=\",\"dtype\":\"float64\",\"shape\":[10]}},\"selected\":{\"id\":\"2153\",\"type\":\"Selection\"},\"selection_policy\":{\"id\":\"2152\",\"type\":\"UnionRenderers\"}},\"id\":\"1900\",\"type\":\"ColumnDataSource\"},{\"attributes\":{\"callback\":null,\"data\":{\"freq\":[421,97,53,19,14,5,1,3,0,1],\"index\":[0,1,2,3,4,5,6,7,8,9],\"intervals\":[\"[0.0,2514.224)\",\"[2514.224,5028.448)\",\"[5028.448,7542.672)\",\"[7542.672,10056.896)\",\"[10056.896,12571.12)\",\"[12571.12,15085.344)\",\"[15085.344,17599.568)\",\"[17599.568,20113.792)\",\"[20113.792,22628.016)\",\"[22628.016,25142.24]\"],\"left\":{\"__ndarray__\":\"AAAAAAAAAACcxCCwcqSjQJzEILBypLNA6iYxCKx2vUCcxCCwcqTDQMP1KFyPjchA6iYxCKx2zUAIrBxa5C/RQJzEILBypNNAMN0kBgEZ1kA=\",\"dtype\":\"float64\",\"shape\":[10]},\"pct\":{\"__ndarray__\":\"xZysC0YkUUBN0edumZgvQA1Q4EGLQyFAb5mYk3XBCEBS6n3ztD0CQHW8aoACD+o/XjAizc7YxD+LSLMzNkXfPwAAAAAAAAAAXjAizc7YxD8=\",\"dtype\":\"float64\",\"shape\":[10]},\"right\":{\"__ndarray__\":\"nMQgsHKko0CcxCCwcqSzQOomMQisdr1AnMQgsHKkw0DD9Shcj43IQOomMQisds1ACKwcWuQv0UCcxCCwcqTTQDDdJAYBGdZAw/UoXI+N2EA=\",\"dtype\":\"float64\",\"shape\":[10]}},\"selected\":{\"id\":\"2195\",\"type\":\"Selection\"},\"selection_policy\":{\"id\":\"2194\",\"type\":\"UnionRenderers\"}},\"id\":\"2092\",\"type\":\"ColumnDataSource\"},{\"attributes\":{\"callback\":null},\"id\":\"2011\",\"type\":\"DataRange1d\"},{\"attributes\":{},\"id\":\"1959\",\"type\":\"BasicTicker\"},{\"attributes\":{\"ticks\":[0.0,3504.007,7008.014,10512.021,14016.028,17520.035,21024.042,24528.049,28032.056,31536.063000000002,35040.07]},\"id\":\"2068\",\"type\":\"FixedTicker\"},{\"attributes\":{\"ticks\":[16.0,19.9,23.8,27.7,31.6,35.5,39.4,43.3,47.2,51.1,55.0]},\"id\":\"1876\",\"type\":\"FixedTicker\"},{\"attributes\":{\"dimension\":1,\"grid_line_color\":null,\"ticker\":{\"id\":\"1959\",\"type\":\"BasicTicker\"}},\"id\":\"1962\",\"type\":\"Grid\"},{\"attributes\":{\"text\":\"re75\",\"text_font_size\":{\"value\":\"10pt\"}},\"id\":\"2071\",\"type\":\"Title\"},{\"attributes\":{},\"id\":\"2018\",\"type\":\"BasicTicker\"},{\"attributes\":{\"text\":\"educ\",\"text_font_size\":{\"value\":\"10pt\"}},\"id\":\"1879\",\"type\":\"Title\"},{\"attributes\":{\"bottom\":{\"value\":0.01},\"fill_alpha\":{\"value\":0.5},\"fill_color\":{\"value\":\"#6baed6\"},\"left\":{\"field\":\"left\"},\"line_alpha\":{\"value\":0.5},\"line_color\":{\"value\":\"#1f77b4\"},\"right\":{\"field\":\"right\"},\"top\":{\"field\":\"freq\"}},\"id\":\"1902\",\"type\":\"Quad\"},{\"attributes\":{\"active_drag\":\"auto\",\"active_inspect\":\"auto\",\"active_multi\":null,\"active_scroll\":\"auto\",\"active_tap\":\"auto\",\"tools\":[{\"id\":\"1970\",\"type\":\"HoverTool\"}]},\"id\":\"1963\",\"type\":\"Toolbar\"},{\"attributes\":{\"grid_line_color\":null,\"ticker\":{\"id\":\"2018\",\"type\":\"BasicTicker\"}},\"id\":\"2021\",\"type\":\"Grid\"},{\"attributes\":{\"callback\":null},\"id\":\"2073\",\"type\":\"DataRange1d\"},{\"attributes\":{\"callback\":null},\"id\":\"1881\",\"type\":\"DataRange1d\"},{\"attributes\":{\"callback\":null},\"id\":\"2075\",\"type\":\"DataRange1d\"},{\"attributes\":{},\"id\":\"2023\",\"type\":\"BasicTicker\"},{\"attributes\":{\"callback\":null},\"id\":\"1883\",\"type\":\"DataRange1d\"},{\"attributes\":{},\"id\":\"2013\",\"type\":\"LinearScale\"},{\"attributes\":{\"data_source\":{\"id\":\"1964\",\"type\":\"ColumnDataSource\"},\"glyph\":{\"id\":\"1966\",\"type\":\"Quad\"},\"hover_glyph\":null,\"muted_glyph\":null,\"nonselection_glyph\":{\"id\":\"1967\",\"type\":\"Quad\"},\"selection_glyph\":null,\"view\":{\"id\":\"1969\",\"type\":\"CDSView\"}},\"id\":\"1968\",\"type\":\"GlyphRenderer\"},{\"attributes\":{\"dimension\":1,\"grid_line_color\":null,\"ticker\":{\"id\":\"2023\",\"type\":\"BasicTicker\"}},\"id\":\"2026\",\"type\":\"Grid\"},{\"attributes\":{},\"id\":\"2077\",\"type\":\"LinearScale\"},{\"attributes\":{},\"id\":\"1885\",\"type\":\"LinearScale\"},{\"attributes\":{},\"id\":\"1831\",\"type\":\"BasicTicker\"},{\"attributes\":{\"bottom\":{\"value\":0.01},\"fill_alpha\":{\"value\":0.5},\"fill_color\":{\"value\":\"#6baed6\"},\"left\":{\"field\":\"left\"},\"line_alpha\":{\"value\":0.5},\"line_color\":{\"value\":\"#1f77b4\"},\"right\":{\"field\":\"right\"},\"top\":{\"field\":\"freq\"}},\"id\":\"1966\",\"type\":\"Quad\"},{\"attributes\":{\"data_source\":{\"id\":\"1836\",\"type\":\"ColumnDataSource\"},\"glyph\":{\"id\":\"1838\",\"type\":\"Quad\"},\"hover_glyph\":null,\"muted_glyph\":null,\"nonselection_glyph\":{\"id\":\"1839\",\"type\":\"Quad\"},\"selection_glyph\":null,\"view\":{\"id\":\"1841\",\"type\":\"CDSView\"}},\"id\":\"1840\",\"type\":\"GlyphRenderer\"},{\"attributes\":{\"active_drag\":\"auto\",\"active_inspect\":\"auto\",\"active_multi\":null,\"active_scroll\":\"auto\",\"active_tap\":\"auto\",\"tools\":[{\"id\":\"2034\",\"type\":\"HoverTool\"}]},\"id\":\"2027\",\"type\":\"Toolbar\"},{\"attributes\":{},\"id\":\"2079\",\"type\":\"LinearScale\"},{\"attributes\":{},\"id\":\"1887\",\"type\":\"LinearScale\"},{\"attributes\":{\"callback\":null},\"id\":\"1817\",\"type\":\"DataRange1d\"},{\"attributes\":{\"formatter\":{\"id\":\"2191\",\"type\":\"BasicTickFormatter\"},\"major_label_orientation\":1.0471975511965976,\"major_label_text_font_size\":{\"value\":\"9pt\"},\"minor_tick_line_color\":{\"value\":null},\"ticker\":{\"id\":\"2100\",\"type\":\"FixedTicker\"}},\"id\":\"2081\",\"type\":\"LinearAxis\"},{\"attributes\":{\"formatter\":{\"id\":\"2149\",\"type\":\"BasicTickFormatter\"},\"major_label_orientation\":1.0471975511965976,\"major_label_text_font_size\":{\"value\":\"9pt\"},\"minor_tick_line_color\":{\"value\":null},\"ticker\":{\"id\":\"1908\",\"type\":\"FixedTicker\"}},\"id\":\"1889\",\"type\":\"LinearAxis\"},{\"attributes\":{\"bottom\":{\"value\":0.01},\"fill_alpha\":{\"value\":0.1},\"fill_color\":{\"value\":\"#1f77b4\"},\"left\":{\"field\":\"left\"},\"line_alpha\":{\"value\":0.1},\"line_color\":{\"value\":\"#1f77b4\"},\"right\":{\"field\":\"right\"},\"top\":{\"field\":\"freq\"}},\"id\":\"1967\",\"type\":\"Quad\"},{\"attributes\":{\"bottom\":{\"value\":0.01},\"fill_alpha\":{\"value\":0.1},\"fill_color\":{\"value\":\"#1f77b4\"},\"left\":{\"field\":\"left\"},\"line_alpha\":{\"value\":0.1},\"line_color\":{\"value\":\"#1f77b4\"},\"right\":{\"field\":\"right\"},\"top\":{\"field\":\"freq\"}},\"id\":\"2127\",\"type\":\"Quad\"},{\"attributes\":{\"data_source\":{\"id\":\"2028\",\"type\":\"ColumnDataSource\"},\"glyph\":{\"id\":\"2030\",\"type\":\"Quad\"},\"hover_glyph\":null,\"muted_glyph\":null,\"nonselection_glyph\":{\"id\":\"2031\",\"type\":\"Quad\"},\"selection_glyph\":null,\"view\":{\"id\":\"2033\",\"type\":\"CDSView\"}},\"id\":\"2032\",\"type\":\"GlyphRenderer\"},{\"attributes\":{\"source\":{\"id\":\"1964\",\"type\":\"ColumnDataSource\"}},\"id\":\"1969\",\"type\":\"CDSView\"},{\"attributes\":{},\"id\":\"2082\",\"type\":\"BasicTicker\"},{\"attributes\":{\"active_drag\":\"auto\",\"active_inspect\":\"auto\",\"active_multi\":null,\"active_scroll\":\"auto\",\"active_tap\":\"auto\",\"tools\":[{\"id\":\"1842\",\"type\":\"HoverTool\"}]},\"id\":\"1835\",\"type\":\"Toolbar\"},{\"attributes\":{},\"id\":\"1890\",\"type\":\"BasicTicker\"},{\"attributes\":{\"bottom\":{\"value\":0.01},\"fill_alpha\":{\"value\":0.5},\"fill_color\":{\"value\":\"#6baed6\"},\"left\":{\"field\":\"left\"},\"line_alpha\":{\"value\":0.5},\"line_color\":{\"value\":\"#1f77b4\"},\"right\":{\"field\":\"right\"},\"top\":{\"field\":\"freq\"}},\"id\":\"2030\",\"type\":\"Quad\"},{\"attributes\":{\"grid_line_color\":null,\"ticker\":{\"id\":\"2082\",\"type\":\"BasicTicker\"}},\"id\":\"2085\",\"type\":\"Grid\"},{\"attributes\":{\"grid_line_color\":null,\"ticker\":{\"id\":\"1890\",\"type\":\"BasicTicker\"}},\"id\":\"1893\",\"type\":\"Grid\"},{\"attributes\":{\"callback\":null,\"mode\":\"vline\",\"tooltips\":[[\"Bin\",\"@intervals\"],[\"Frequency\",\"@freq\"],[\"Percent\",\"@pct{0.2f}%\"]]},\"id\":\"1970\",\"type\":\"HoverTool\"},{\"attributes\":{\"dimension\":1,\"grid_line_color\":null,\"ticker\":{\"id\":\"1831\",\"type\":\"BasicTicker\"}},\"id\":\"1834\",\"type\":\"Grid\"},{\"attributes\":{\"axis_label\":\"Frequency\",\"formatter\":{\"id\":\"2192\",\"type\":\"BasicTickFormatter\"},\"major_label_text_font_size\":{\"value\":\"0pt\"},\"major_tick_line_color\":{\"value\":null},\"minor_tick_line_color\":{\"value\":null},\"ticker\":{\"id\":\"2087\",\"type\":\"BasicTicker\"}},\"id\":\"2086\",\"type\":\"LinearAxis\"},{\"attributes\":{\"axis_label\":\"Frequency\",\"formatter\":{\"id\":\"2150\",\"type\":\"BasicTickFormatter\"},\"major_label_text_font_size\":{\"value\":\"0pt\"},\"major_tick_line_color\":{\"value\":null},\"minor_tick_line_color\":{\"value\":null},\"ticker\":{\"id\":\"1895\",\"type\":\"BasicTicker\"}},\"id\":\"1894\",\"type\":\"LinearAxis\"},{\"attributes\":{\"callback\":null,\"data\":{\"freq\":[371,0,0,0,0,0,0,0,0,243],\"index\":[0,1,2,3,4,5,6,7,8,9],\"intervals\":[\"[0.0,0.1)\",\"[0.1,0.2)\",\"[0.2,0.3)\",\"[0.3,0.4)\",\"[0.4,0.5)\",\"[0.5,0.6)\",\"[0.6,0.7)\",\"[0.7,0.8)\",\"[0.8,0.9)\",\"[0.9,1.0]\"],\"left\":{\"__ndarray__\":\"AAAAAAAAAACamZmZmZm5P5qZmZmZmck/NDMzMzMz0z+amZmZmZnZPwAAAAAAAOA/NDMzMzMz4z9nZmZmZmbmP5qZmZmZmek/zczMzMzM7D8=\",\"dtype\":\"float64\",\"shape\":[10]},\"pct\":{\"__ndarray__\":\"GIxIszM2TkAAAAAAAAAAAAAAAAAAAAAAAAAAAAAAAAAAAAAAAAAAAAAAAAAAAAAAAAAAAAAAAAAAAAAAAAAAAAAAAAAAAAAA6XO3TMzJQ0A=\",\"dtype\":\"float64\",\"shape\":[10]},\"right\":{\"__ndarray__\":\"mpmZmZmZuT+amZmZmZnJPzQzMzMzM9M/mpmZmZmZ2T8AAAAAAADgPzQzMzMzM+M/Z2ZmZmZm5j+amZmZmZnpP83MzMzMzOw/AAAAAAAA8D8=\",\"dtype\":\"float64\",\"shape\":[10]}},\"selected\":{\"id\":\"2160\",\"type\":\"Selection\"},\"selection_policy\":{\"id\":\"2159\",\"type\":\"UnionRenderers\"}},\"id\":\"1932\",\"type\":\"ColumnDataSource\"},{\"attributes\":{\"bottom\":{\"value\":0.01},\"fill_alpha\":{\"value\":0.1},\"fill_color\":{\"value\":\"#1f77b4\"},\"left\":{\"field\":\"left\"},\"line_alpha\":{\"value\":0.1},\"line_color\":{\"value\":\"#1f77b4\"},\"right\":{\"field\":\"right\"},\"top\":{\"field\":\"freq\"}},\"id\":\"2031\",\"type\":\"Quad\"},{\"attributes\":{\"below\":[{\"id\":\"1985\",\"type\":\"LinearAxis\"}],\"center\":[{\"id\":\"1989\",\"type\":\"Grid\"},{\"id\":\"1994\",\"type\":\"Grid\"}],\"left\":[{\"id\":\"1990\",\"type\":\"LinearAxis\"}],\"plot_height\":300,\"plot_width\":324,\"renderers\":[{\"id\":\"2000\",\"type\":\"GlyphRenderer\"}],\"title\":{\"id\":\"1975\",\"type\":\"Title\"},\"toolbar\":{\"id\":\"1995\",\"type\":\"Toolbar\"},\"toolbar_location\":null,\"x_range\":{\"id\":\"1977\",\"type\":\"DataRange1d\"},\"x_scale\":{\"id\":\"1981\",\"type\":\"LinearScale\"},\"y_range\":{\"id\":\"1979\",\"type\":\"DataRange1d\"},\"y_scale\":{\"id\":\"1983\",\"type\":\"LinearScale\"}},\"id\":\"1974\",\"subtype\":\"Figure\",\"type\":\"Plot\"},{\"attributes\":{\"source\":{\"id\":\"1836\",\"type\":\"ColumnDataSource\"}},\"id\":\"1841\",\"type\":\"CDSView\"},{\"attributes\":{\"source\":{\"id\":\"2028\",\"type\":\"ColumnDataSource\"}},\"id\":\"2033\",\"type\":\"CDSView\"},{\"attributes\":{\"bottom\":{\"value\":0.01},\"fill_alpha\":{\"value\":0.1},\"fill_color\":{\"value\":\"#1f77b4\"},\"left\":{\"field\":\"left\"},\"line_alpha\":{\"value\":0.1},\"line_color\":{\"value\":\"#1f77b4\"},\"right\":{\"field\":\"right\"},\"top\":{\"field\":\"freq\"}},\"id\":\"1839\",\"type\":\"Quad\"},{\"attributes\":{},\"id\":\"1895\",\"type\":\"BasicTicker\"},{\"attributes\":{\"callback\":null,\"data\":{\"freq\":[359,0,0,0,0,0,0,0,0,255],\"index\":[0,1,2,3,4,5,6,7,8,9],\"intervals\":[\"[0.0,0.1)\",\"[0.1,0.2)\",\"[0.2,0.3)\",\"[0.3,0.4)\",\"[0.4,0.5)\",\"[0.5,0.6)\",\"[0.6,0.7)\",\"[0.7,0.8)\",\"[0.8,0.9)\",\"[0.9,1.0]\"],\"left\":{\"__ndarray__\":\"AAAAAAAAAACamZmZmZm5P5qZmZmZmck/NDMzMzMz0z+amZmZmZnZPwAAAAAAAOA/NDMzMzMz4z9nZmZmZmbmP5qZmZmZmek/zczMzMzM7D8=\",\"dtype\":\"float64\",\"shape\":[10]},\"pct\":{\"__ndarray__\":\"1PGqAQo8TUAAAAAAAAAAAAAAAAAAAAAAAAAAAAAAAAAAAAAAAAAAAAAAAAAAAAAAAAAAAAAAAAAAAAAAAAAAAAAAAAAAAAAALQ5V/vXDREA=\",\"dtype\":\"float64\",\"shape\":[10]},\"right\":{\"__ndarray__\":\"mpmZmZmZuT+amZmZmZnJPzQzMzMzM9M/mpmZmZmZ2T8AAAAAAADgPzQzMzMzM+M/Z2ZmZmZm5j+amZmZmZnpP83MzMzMzOw/AAAAAAAA8D8=\",\"dtype\":\"float64\",\"shape\":[10]}},\"selected\":{\"id\":\"2174\",\"type\":\"Selection\"},\"selection_policy\":{\"id\":\"2173\",\"type\":\"UnionRenderers\"}},\"id\":\"1996\",\"type\":\"ColumnDataSource\"},{\"attributes\":{},\"id\":\"2087\",\"type\":\"BasicTicker\"},{\"attributes\":{\"dimension\":1,\"grid_line_color\":null,\"ticker\":{\"id\":\"2087\",\"type\":\"BasicTicker\"}},\"id\":\"2090\",\"type\":\"Grid\"},{\"attributes\":{\"dimension\":1,\"grid_line_color\":null,\"ticker\":{\"id\":\"1895\",\"type\":\"BasicTicker\"}},\"id\":\"1898\",\"type\":\"Grid\"},{\"attributes\":{\"bottom\":{\"value\":0.01},\"fill_alpha\":{\"value\":0.5},\"fill_color\":{\"value\":\"#6baed6\"},\"left\":{\"field\":\"left\"},\"line_alpha\":{\"value\":0.5},\"line_color\":{\"value\":\"#1f77b4\"},\"right\":{\"field\":\"right\"},\"top\":{\"field\":\"freq\"}},\"id\":\"1838\",\"type\":\"Quad\"},{\"attributes\":{\"ticks\":[0.0,0.1,0.2,0.30000000000000004,0.4,0.5,0.6000000000000001,0.7000000000000001,0.8,0.9,1.0]},\"id\":\"1972\",\"type\":\"FixedTicker\"},{\"attributes\":{\"callback\":null,\"mode\":\"vline\",\"tooltips\":[[\"Bin\",\"@intervals\"],[\"Frequency\",\"@freq\"],[\"Percent\",\"@pct{0.2f}%\"]]},\"id\":\"2034\",\"type\":\"HoverTool\"},{\"attributes\":{\"active_drag\":\"auto\",\"active_inspect\":\"auto\",\"active_multi\":null,\"active_scroll\":\"auto\",\"active_tap\":\"auto\",\"tools\":[{\"id\":\"2098\",\"type\":\"HoverTool\"}]},\"id\":\"2091\",\"type\":\"Toolbar\"},{\"attributes\":{\"text\":\"treat\",\"text_font_size\":{\"value\":\"10pt\"}},\"id\":\"1815\",\"type\":\"Title\"},{\"attributes\":{\"active_drag\":\"auto\",\"active_inspect\":\"auto\",\"active_multi\":null,\"active_scroll\":\"auto\",\"active_tap\":\"auto\",\"tools\":[{\"id\":\"1906\",\"type\":\"HoverTool\"}]},\"id\":\"1899\",\"type\":\"Toolbar\"},{\"attributes\":{\"text\":\"married\",\"text_font_size\":{\"value\":\"10pt\"}},\"id\":\"1975\",\"type\":\"Title\"},{\"attributes\":{\"below\":[{\"id\":\"2049\",\"type\":\"LinearAxis\"}],\"center\":[{\"id\":\"2053\",\"type\":\"Grid\"},{\"id\":\"2058\",\"type\":\"Grid\"}],\"left\":[{\"id\":\"2054\",\"type\":\"LinearAxis\"}],\"plot_height\":300,\"plot_width\":324,\"renderers\":[{\"id\":\"2064\",\"type\":\"GlyphRenderer\"}],\"title\":{\"id\":\"2039\",\"type\":\"Title\"},\"toolbar\":{\"id\":\"2059\",\"type\":\"Toolbar\"},\"toolbar_location\":null,\"x_range\":{\"id\":\"2041\",\"type\":\"DataRange1d\"},\"x_scale\":{\"id\":\"2045\",\"type\":\"LinearScale\"},\"y_range\":{\"id\":\"2043\",\"type\":\"DataRange1d\"},\"y_scale\":{\"id\":\"2047\",\"type\":\"LinearScale\"}},\"id\":\"2038\",\"subtype\":\"Figure\",\"type\":\"Plot\"},{\"attributes\":{\"callback\":null,\"mode\":\"vline\",\"tooltips\":[[\"Bin\",\"@intervals\"],[\"Frequency\",\"@freq\"],[\"Percent\",\"@pct{0.2f}%\"]]},\"id\":\"1842\",\"type\":\"HoverTool\"},{\"attributes\":{\"below\":[{\"id\":\"1857\",\"type\":\"LinearAxis\"}],\"center\":[{\"id\":\"1861\",\"type\":\"Grid\"},{\"id\":\"1866\",\"type\":\"Grid\"}],\"left\":[{\"id\":\"1862\",\"type\":\"LinearAxis\"}],\"plot_height\":300,\"plot_width\":324,\"renderers\":[{\"id\":\"1872\",\"type\":\"GlyphRenderer\"}],\"title\":{\"id\":\"1847\",\"type\":\"Title\"},\"toolbar\":{\"id\":\"1867\",\"type\":\"Toolbar\"},\"toolbar_location\":null,\"x_range\":{\"id\":\"1849\",\"type\":\"DataRange1d\"},\"x_scale\":{\"id\":\"1853\",\"type\":\"LinearScale\"},\"y_range\":{\"id\":\"1851\",\"type\":\"DataRange1d\"},\"y_scale\":{\"id\":\"1855\",\"type\":\"LinearScale\"}},\"id\":\"1846\",\"subtype\":\"Figure\",\"type\":\"Plot\"},{\"attributes\":{\"formatter\":{\"id\":\"2135\",\"type\":\"BasicTickFormatter\"},\"major_label_orientation\":1.0471975511965976,\"major_label_text_font_size\":{\"value\":\"9pt\"},\"minor_tick_line_color\":{\"value\":null},\"ticker\":{\"id\":\"1844\",\"type\":\"FixedTicker\"}},\"id\":\"1825\",\"type\":\"LinearAxis\"},{\"attributes\":{\"callback\":null},\"id\":\"1977\",\"type\":\"DataRange1d\"},{\"attributes\":{},\"id\":\"2157\",\"type\":\"BasicTickFormatter\"},{\"attributes\":{\"callback\":null,\"data\":{\"freq\":[153,124,113,62,35,35,34,23,20,15],\"index\":[0,1,2,3,4,5,6,7,8,9],\"intervals\":[\"[16.0,19.9)\",\"[19.9,23.8)\",\"[23.8,27.7)\",\"[27.7,31.6)\",\"[31.6,35.5)\",\"[35.5,39.4)\",\"[39.4,43.3)\",\"[43.3,47.2)\",\"[47.2,51.1)\",\"[51.1,55.0]\"],\"left\":{\"__ndarray__\":\"AAAAAAAAMEBmZmZmZuYzQM3MzMzMzDdAMzMzMzOzO0CamZmZmZk/QAAAAAAAwEFAMzMzMzOzQ0BmZmZmZqZFQJqZmZmZmUdAzczMzMyMSUA=\",\"dtype\":\"float64\",\"shape\":[10]},\"pct\":{\"__ndarray__\":\"0N0yMSfrOEDbHrlWCDI0QLIuGJFmZzJA2x65VggyJEDmZF0wIs0WQOZkXTAizRZAY1P0uVsmFkCHJeFGqfcNQHW8aoACDwpAWA1Q4EGLA0A=\",\"dtype\":\"float64\",\"shape\":[10]},\"right\":{\"__ndarray__\":\"ZmZmZmbmM0DNzMzMzMw3QDMzMzMzsztAmpmZmZmZP0AAAAAAAMBBQDMzMzMzs0NAZmZmZmamRUCamZmZmZlHQM3MzMzMjElAAAAAAACAS0A=\",\"dtype\":\"float64\",\"shape\":[10]}},\"selected\":{\"id\":\"2146\",\"type\":\"Selection\"},\"selection_policy\":{\"id\":\"2145\",\"type\":\"UnionRenderers\"}},\"id\":\"1868\",\"type\":\"ColumnDataSource\"},{\"attributes\":{\"bottom\":{\"value\":0.01},\"fill_alpha\":{\"value\":0.1},\"fill_color\":{\"value\":\"#1f77b4\"},\"left\":{\"field\":\"left\"},\"line_alpha\":{\"value\":0.1},\"line_color\":{\"value\":\"#1f77b4\"},\"right\":{\"field\":\"right\"},\"top\":{\"field\":\"freq\"}},\"id\":\"1903\",\"type\":\"Quad\"},{\"attributes\":{\"callback\":null,\"data\":{\"freq\":[388,59,56,46,28,17,10,9,0,1],\"index\":[0,1,2,3,4,5,6,7,8,9],\"intervals\":[\"[0.0,3504.007)\",\"[3504.007,7008.014)\",\"[7008.014,10512.021)\",\"[10512.021,14016.028)\",\"[14016.028,17520.035)\",\"[17520.035,21024.042)\",\"[21024.042,24528.049)\",\"[24528.049,28032.056)\",\"[28032.056,31536.063)\",\"[31536.063,35040.07]\"],\"left\":{\"__ndarray__\":\"AAAAAAAAAAAlBoGVA2CrQCUGgZUDYLtAnMQgsAKIxEAlBoGVA2DLQNejcD0CHNFAnMQgsAKI1EBg5dAiA/TXQCUGgZUDYNtA6iYxCATM3kA=\",\"dtype\":\"float64\",\"shape\":[10]},\"pct\":{\"__ndarray__\":\"TdHnbpmYT0CWhBul3jcjQFLqffO0PSJAhyXhRqn3HUBS6n3ztD0SQGNT9LlbJgZAdbxqgAIP+j9pdsam6HP3PwAAAAAAAAAAXjAizc7YxD8=\",\"dtype\":\"float64\",\"shape\":[10]},\"right\":{\"__ndarray__\":\"JQaBlQNgq0AlBoGVA2C7QJzEILACiMRAJQaBlQNgy0DXo3A9AhzRQJzEILACiNRAYOXQIgP010AlBoGVA2DbQOomMQgEzN5A16NwPQIc4UA=\",\"dtype\":\"float64\",\"shape\":[10]}},\"selected\":{\"id\":\"2188\",\"type\":\"Selection\"},\"selection_policy\":{\"id\":\"2187\",\"type\":\"UnionRenderers\"}},\"id\":\"2060\",\"type\":\"ColumnDataSource\"},{\"attributes\":{\"callback\":null},\"id\":\"1979\",\"type\":\"DataRange1d\"},{\"attributes\":{\"ticks\":[0.0,0.1,0.2,0.30000000000000004,0.4,0.5,0.6000000000000001,0.7000000000000001,0.8,0.9,1.0]},\"id\":\"1844\",\"type\":\"FixedTicker\"}],\"root_ids\":[\"2204\"]},\"title\":\"Bokeh Application\",\"version\":\"1.4.0\"}};\n",
       "  var render_items = [{\"docid\":\"f4b5cc37-a3a3-4eb8-bb09-813e1c672178\",\"roots\":{\"2204\":\"3f3b3ee3-47f9-441c-95e5-2913c8cc7467\"}}];\n",
       "  root.Bokeh.embed.embed_items_notebook(docs_json, render_items);\n",
       "\n",
       "  }\n",
       "  if (root.Bokeh !== undefined) {\n",
       "    embed_document(root);\n",
       "  } else {\n",
       "    var attempts = 0;\n",
       "    var timer = setInterval(function(root) {\n",
       "      if (root.Bokeh !== undefined) {\n",
       "        clearInterval(timer);\n",
       "        embed_document(root);\n",
       "      } else {\n",
       "        attempts++;\n",
       "        if (attempts > 100) {\n",
       "          clearInterval(timer);\n",
       "          console.log(\"Bokeh: ERROR: Unable to run BokehJS code because BokehJS library is missing\");\n",
       "        }\n",
       "      }\n",
       "    }, 10, root)\n",
       "  }\n",
       "})(window);"
      ],
      "application/vnd.bokehjs_exec.v0+json": ""
     },
     "metadata": {
      "application/vnd.bokehjs_exec.v0+json": {
       "id": "2204"
      }
     },
     "output_type": "display_data"
    },
    {
     "data": {
      "text/html": [
       "<div style=\"display: table;\"><div style=\"display: table-row;\"><div style=\"display: table-cell;\"><b title=\"bokeh.models.layouts.GridBox\">GridBox</b>(</div><div style=\"display: table-cell;\">id&nbsp;=&nbsp;'2204', <span id=\"2686\" style=\"cursor: pointer;\">&hellip;)</span></div></div><div class=\"2685\" style=\"display: none;\"><div style=\"display: table-cell;\"></div><div style=\"display: table-cell;\">align&nbsp;=&nbsp;'start',</div></div><div class=\"2685\" style=\"display: none;\"><div style=\"display: table-cell;\"></div><div style=\"display: table-cell;\">aspect_ratio&nbsp;=&nbsp;None,</div></div><div class=\"2685\" style=\"display: none;\"><div style=\"display: table-cell;\"></div><div style=\"display: table-cell;\">background&nbsp;=&nbsp;None,</div></div><div class=\"2685\" style=\"display: none;\"><div style=\"display: table-cell;\"></div><div style=\"display: table-cell;\">children&nbsp;=&nbsp;[(Figure(id='1814', ...), 0, 0), (Figure(id='1846', ...), 0, 1), (Figure(id='1878', ...), 0, 2), (Figure(id='1910', ...), 1, 0), (Figure(id='1942', ...), 1, 1), (Figure(id='1974', ...), 1, 2), (Figure(id='2006', ...), 2, 0), (Figure(id='2038', ...), 2, 1), (Figure(id='2070', ...), 2, 2), (Figure(id='2102', ...), 3, 0)],</div></div><div class=\"2685\" style=\"display: none;\"><div style=\"display: table-cell;\"></div><div style=\"display: table-cell;\">cols&nbsp;=&nbsp;'auto',</div></div><div class=\"2685\" style=\"display: none;\"><div style=\"display: table-cell;\"></div><div style=\"display: table-cell;\">css_classes&nbsp;=&nbsp;[],</div></div><div class=\"2685\" style=\"display: none;\"><div style=\"display: table-cell;\"></div><div style=\"display: table-cell;\">disabled&nbsp;=&nbsp;False,</div></div><div class=\"2685\" style=\"display: none;\"><div style=\"display: table-cell;\"></div><div style=\"display: table-cell;\">height&nbsp;=&nbsp;None,</div></div><div class=\"2685\" style=\"display: none;\"><div style=\"display: table-cell;\"></div><div style=\"display: table-cell;\">height_policy&nbsp;=&nbsp;'auto',</div></div><div class=\"2685\" style=\"display: none;\"><div style=\"display: table-cell;\"></div><div style=\"display: table-cell;\">js_event_callbacks&nbsp;=&nbsp;{},</div></div><div class=\"2685\" style=\"display: none;\"><div style=\"display: table-cell;\"></div><div style=\"display: table-cell;\">js_property_callbacks&nbsp;=&nbsp;{},</div></div><div class=\"2685\" style=\"display: none;\"><div style=\"display: table-cell;\"></div><div style=\"display: table-cell;\">margin&nbsp;=&nbsp;(0, 0, 0, 0),</div></div><div class=\"2685\" style=\"display: none;\"><div style=\"display: table-cell;\"></div><div style=\"display: table-cell;\">max_height&nbsp;=&nbsp;None,</div></div><div class=\"2685\" style=\"display: none;\"><div style=\"display: table-cell;\"></div><div style=\"display: table-cell;\">max_width&nbsp;=&nbsp;None,</div></div><div class=\"2685\" style=\"display: none;\"><div style=\"display: table-cell;\"></div><div style=\"display: table-cell;\">min_height&nbsp;=&nbsp;None,</div></div><div class=\"2685\" style=\"display: none;\"><div style=\"display: table-cell;\"></div><div style=\"display: table-cell;\">min_width&nbsp;=&nbsp;None,</div></div><div class=\"2685\" style=\"display: none;\"><div style=\"display: table-cell;\"></div><div style=\"display: table-cell;\">name&nbsp;=&nbsp;None,</div></div><div class=\"2685\" style=\"display: none;\"><div style=\"display: table-cell;\"></div><div style=\"display: table-cell;\">rows&nbsp;=&nbsp;'auto',</div></div><div class=\"2685\" style=\"display: none;\"><div style=\"display: table-cell;\"></div><div style=\"display: table-cell;\">sizing_mode&nbsp;=&nbsp;None,</div></div><div class=\"2685\" style=\"display: none;\"><div style=\"display: table-cell;\"></div><div style=\"display: table-cell;\">spacing&nbsp;=&nbsp;0,</div></div><div class=\"2685\" style=\"display: none;\"><div style=\"display: table-cell;\"></div><div style=\"display: table-cell;\">subscribed_events&nbsp;=&nbsp;[],</div></div><div class=\"2685\" style=\"display: none;\"><div style=\"display: table-cell;\"></div><div style=\"display: table-cell;\">tags&nbsp;=&nbsp;[],</div></div><div class=\"2685\" style=\"display: none;\"><div style=\"display: table-cell;\"></div><div style=\"display: table-cell;\">visible&nbsp;=&nbsp;True,</div></div><div class=\"2685\" style=\"display: none;\"><div style=\"display: table-cell;\"></div><div style=\"display: table-cell;\">width&nbsp;=&nbsp;None,</div></div><div class=\"2685\" style=\"display: none;\"><div style=\"display: table-cell;\"></div><div style=\"display: table-cell;\">width_policy&nbsp;=&nbsp;'auto')</div></div></div>\n",
       "<script>\n",
       "(function() {\n",
       "  var expanded = false;\n",
       "  var ellipsis = document.getElementById(\"2686\");\n",
       "  ellipsis.addEventListener(\"click\", function() {\n",
       "    var rows = document.getElementsByClassName(\"2685\");\n",
       "    for (var i = 0; i < rows.length; i++) {\n",
       "      var el = rows[i];\n",
       "      el.style.display = expanded ? \"none\" : \"table-row\";\n",
       "    }\n",
       "    ellipsis.innerHTML = expanded ? \"&hellip;)\" : \"&lsaquo;&lsaquo;&lsaquo;\";\n",
       "    expanded = !expanded;\n",
       "  });\n",
       "})();\n",
       "</script>\n"
      ],
      "text/plain": [
       "GridBox(id='2204', ...)"
      ]
     },
     "execution_count": 27,
     "metadata": {},
     "output_type": "execute_result"
    }
   ],
   "source": [
    "plot(lalonde)"
   ]
  },
  {
   "cell_type": "markdown",
   "metadata": {},
   "source": [
    "## Task 1. Causal Graph \n",
    "In this task, you will draw a causal graph on a real-world dataset based on the information given. Please remind yourself of the difference between causality and correlation."
   ]
  },
  {
   "cell_type": "code",
   "execution_count": 28,
   "metadata": {},
   "outputs": [],
   "source": [
    "#import graphviz, the python tool we are going to use for this task\n",
    "from graphviz import Digraph"
   ]
  },
  {
   "cell_type": "markdown",
   "metadata": {},
   "source": [
    "In the Lalonde dataset, `treat` is the treatment attribute, which represents whether an individual was enrolled in the job training program or not. `re78` is the outcome attribute. `age` and `married` are confounding variables. Please draw the causal graph for these four attributes using Graphviz."
   ]
  },
  {
   "cell_type": "code",
   "execution_count": 29,
   "metadata": {},
   "outputs": [
    {
     "data": {
      "image/svg+xml": [
       "<?xml version=\"1.0\" encoding=\"UTF-8\" standalone=\"no\"?>\n",
       "<!DOCTYPE svg PUBLIC \"-//W3C//DTD SVG 1.1//EN\"\n",
       " \"http://www.w3.org/Graphics/SVG/1.1/DTD/svg11.dtd\">\n",
       "<!-- Generated by graphviz version 2.42.3 (20191010.1750)\n",
       " -->\n",
       "<!-- Title: %3 Pages: 1 -->\n",
       "<svg width=\"300pt\" height=\"44pt\"\n",
       " viewBox=\"0.00 0.00 300.00 44.00\" xmlns=\"http://www.w3.org/2000/svg\" xmlns:xlink=\"http://www.w3.org/1999/xlink\">\n",
       "<g id=\"graph0\" class=\"graph\" transform=\"scale(1 1) rotate(0) translate(4 40)\">\n",
       "<title>%3</title>\n",
       "<polygon fill=\"white\" stroke=\"transparent\" points=\"-4,4 -4,-40 296,-40 296,4 -4,4\"/>\n",
       "<!-- a -->\n",
       "<g id=\"node1\" class=\"node\">\n",
       "<title>a</title>\n",
       "<ellipse fill=\"none\" stroke=\"black\" cx=\"27\" cy=\"-18\" rx=\"27\" ry=\"18\"/>\n",
       "<text text-anchor=\"middle\" x=\"27\" y=\"-13.8\" font-family=\"Times,serif\" font-size=\"14.00\">treat</text>\n",
       "</g>\n",
       "<!-- b -->\n",
       "<g id=\"node2\" class=\"node\">\n",
       "<title>b</title>\n",
       "<ellipse fill=\"none\" stroke=\"black\" cx=\"99\" cy=\"-18\" rx=\"27\" ry=\"18\"/>\n",
       "<text text-anchor=\"middle\" x=\"99\" y=\"-13.8\" font-family=\"Times,serif\" font-size=\"14.00\">age</text>\n",
       "</g>\n",
       "<!-- c -->\n",
       "<g id=\"node3\" class=\"node\">\n",
       "<title>c</title>\n",
       "<ellipse fill=\"none\" stroke=\"black\" cx=\"182\" cy=\"-18\" rx=\"37.71\" ry=\"18\"/>\n",
       "<text text-anchor=\"middle\" x=\"182\" y=\"-13.8\" font-family=\"Times,serif\" font-size=\"14.00\">married</text>\n",
       "</g>\n",
       "<!-- d -->\n",
       "<g id=\"node4\" class=\"node\">\n",
       "<title>d</title>\n",
       "<ellipse fill=\"none\" stroke=\"black\" cx=\"265\" cy=\"-18\" rx=\"27\" ry=\"18\"/>\n",
       "<text text-anchor=\"middle\" x=\"265\" y=\"-13.8\" font-family=\"Times,serif\" font-size=\"14.00\">re78</text>\n",
       "</g>\n",
       "</g>\n",
       "</svg>\n"
      ],
      "text/plain": [
       "<graphviz.dot.Digraph at 0x1c2cbe4d68>"
      ]
     },
     "execution_count": 29,
     "metadata": {},
     "output_type": "execute_result"
    }
   ],
   "source": [
    "dot = Digraph(comment='The causal graph for Lalonde')\n",
    "dot.node('a','treat')\n",
    "dot.node('b','age')\n",
    "dot.node('c','married')\n",
    "dot.node('d','re78')\n",
    "\n",
    "dot"
   ]
  },
  {
   "cell_type": "code",
   "execution_count": 30,
   "metadata": {},
   "outputs": [
    {
     "data": {
      "image/svg+xml": [
       "<?xml version=\"1.0\" encoding=\"UTF-8\" standalone=\"no\"?>\n",
       "<!DOCTYPE svg PUBLIC \"-//W3C//DTD SVG 1.1//EN\"\n",
       " \"http://www.w3.org/Graphics/SVG/1.1/DTD/svg11.dtd\">\n",
       "<!-- Generated by graphviz version 2.42.3 (20191010.1750)\n",
       " -->\n",
       "<!-- Title: %3 Pages: 1 -->\n",
       "<svg width=\"130pt\" height=\"260pt\"\n",
       " viewBox=\"0.00 0.00 129.79 260.00\" xmlns=\"http://www.w3.org/2000/svg\" xmlns:xlink=\"http://www.w3.org/1999/xlink\">\n",
       "<g id=\"graph0\" class=\"graph\" transform=\"scale(1 1) rotate(0) translate(4 256)\">\n",
       "<title>%3</title>\n",
       "<polygon fill=\"white\" stroke=\"transparent\" points=\"-4,4 -4,-256 125.79,-256 125.79,4 -4,4\"/>\n",
       "<!-- a -->\n",
       "<g id=\"node1\" class=\"node\">\n",
       "<title>a</title>\n",
       "<ellipse fill=\"none\" stroke=\"black\" cx=\"27\" cy=\"-90\" rx=\"27\" ry=\"18\"/>\n",
       "<text text-anchor=\"middle\" x=\"27\" y=\"-85.8\" font-family=\"Times,serif\" font-size=\"14.00\">treat</text>\n",
       "</g>\n",
       "<!-- d -->\n",
       "<g id=\"node4\" class=\"node\">\n",
       "<title>d</title>\n",
       "<ellipse fill=\"none\" stroke=\"black\" cx=\"82\" cy=\"-18\" rx=\"27\" ry=\"18\"/>\n",
       "<text text-anchor=\"middle\" x=\"82\" y=\"-13.8\" font-family=\"Times,serif\" font-size=\"14.00\">re78</text>\n",
       "</g>\n",
       "<!-- a&#45;&gt;d -->\n",
       "<g id=\"edge6\" class=\"edge\">\n",
       "<title>a&#45;&gt;d</title>\n",
       "<path fill=\"none\" stroke=\"black\" d=\"M38.93,-73.81C46.21,-64.55 55.66,-52.52 63.85,-42.09\"/>\n",
       "<polygon fill=\"black\" stroke=\"black\" points=\"66.66,-44.18 70.09,-34.16 61.16,-39.86 66.66,-44.18\"/>\n",
       "</g>\n",
       "<!-- b -->\n",
       "<g id=\"node2\" class=\"node\">\n",
       "<title>b</title>\n",
       "<ellipse fill=\"none\" stroke=\"black\" cx=\"68\" cy=\"-234\" rx=\"27\" ry=\"18\"/>\n",
       "<text text-anchor=\"middle\" x=\"68\" y=\"-229.8\" font-family=\"Times,serif\" font-size=\"14.00\">age</text>\n",
       "</g>\n",
       "<!-- b&#45;&gt;a -->\n",
       "<g id=\"edge2\" class=\"edge\">\n",
       "<title>b&#45;&gt;a</title>\n",
       "<path fill=\"none\" stroke=\"black\" d=\"M51.09,-219.71C40.21,-210.03 27.02,-195.87 21,-180 13.42,-160.03 15.75,-135.74 19.51,-117.59\"/>\n",
       "<polygon fill=\"black\" stroke=\"black\" points=\"22.96,-118.22 21.83,-107.69 16.14,-116.63 22.96,-118.22\"/>\n",
       "</g>\n",
       "<!-- c -->\n",
       "<g id=\"node3\" class=\"node\">\n",
       "<title>c</title>\n",
       "<ellipse fill=\"none\" stroke=\"black\" cx=\"68\" cy=\"-162\" rx=\"37.71\" ry=\"18\"/>\n",
       "<text text-anchor=\"middle\" x=\"68\" y=\"-157.8\" font-family=\"Times,serif\" font-size=\"14.00\">married</text>\n",
       "</g>\n",
       "<!-- b&#45;&gt;c -->\n",
       "<g id=\"edge1\" class=\"edge\">\n",
       "<title>b&#45;&gt;c</title>\n",
       "<path fill=\"none\" stroke=\"black\" d=\"M68,-215.7C68,-207.98 68,-198.71 68,-190.11\"/>\n",
       "<polygon fill=\"black\" stroke=\"black\" points=\"71.5,-190.1 68,-180.1 64.5,-190.1 71.5,-190.1\"/>\n",
       "</g>\n",
       "<!-- b&#45;&gt;d -->\n",
       "<g id=\"edge3\" class=\"edge\">\n",
       "<title>b&#45;&gt;d</title>\n",
       "<path fill=\"none\" stroke=\"black\" d=\"M84.91,-219.71C95.79,-210.03 108.98,-195.87 115,-180 132.52,-133.83 111.26,-76.49 95.66,-44.19\"/>\n",
       "<polygon fill=\"black\" stroke=\"black\" points=\"98.66,-42.38 91.04,-35.01 92.41,-45.52 98.66,-42.38\"/>\n",
       "</g>\n",
       "<!-- c&#45;&gt;a -->\n",
       "<g id=\"edge4\" class=\"edge\">\n",
       "<title>c&#45;&gt;a</title>\n",
       "<path fill=\"none\" stroke=\"black\" d=\"M58.28,-144.41C53.26,-135.83 47.03,-125.19 41.45,-115.67\"/>\n",
       "<polygon fill=\"black\" stroke=\"black\" points=\"44.44,-113.85 36.36,-106.99 38.4,-117.39 44.44,-113.85\"/>\n",
       "</g>\n",
       "<!-- c&#45;&gt;d -->\n",
       "<g id=\"edge5\" class=\"edge\">\n",
       "<title>c&#45;&gt;d</title>\n",
       "<path fill=\"none\" stroke=\"black\" d=\"M69.69,-143.87C72.07,-119.67 76.46,-75.21 79.3,-46.39\"/>\n",
       "<polygon fill=\"black\" stroke=\"black\" points=\"82.81,-46.48 80.31,-36.19 75.84,-45.8 82.81,-46.48\"/>\n",
       "</g>\n",
       "</g>\n",
       "</svg>\n"
      ],
      "text/plain": [
       "<graphviz.dot.Digraph at 0x1c2cbb56a0>"
      ]
     },
     "execution_count": 30,
     "metadata": {},
     "output_type": "execute_result"
    }
   ],
   "source": [
    "#<-- Write Your Code -->\n",
    "def plot():\n",
    "    dot = Digraph(comment='The causal graph for Lalonde')\n",
    "    dot.node('a','treat')\n",
    "    dot.node('b','age')\n",
    "    dot.node('c','married')\n",
    "    dot.node('d','re78')\n",
    "    dot.edge('b', 'c')\n",
    "    dot.edge('b', 'a')\n",
    "    dot.edge('b', 'd')\n",
    "    dot.edge('c', 'a')\n",
    "    dot.edge('c', 'd')\n",
    "    dot.edge('a', 'd')\n",
    "\n",
    "    return dot\n",
    "#Implement your plot function here and show the graph, the output should be a causal graph\n",
    "dot = plot()\n",
    "dot\n"
   ]
  },
  {
   "cell_type": "markdown",
   "metadata": {},
   "source": [
    "## Task 2. ATE Estimation\n",
    "In this task, your job is to implement different AET estimation approaches and draw useful conclusions."
   ]
  },
  {
   "cell_type": "markdown",
   "metadata": {},
   "source": [
    "### 2.1 Perfect Matching\n",
    "For the PSID tuples in the dataset (i.e., those individuals who weren't enrolled in the job training program), please use perfect matching to estimate their salaries if they received treatments?\n"
   ]
  },
  {
   "cell_type": "code",
   "execution_count": 31,
   "metadata": {},
   "outputs": [
    {
     "data": {
      "text/html": [
       "<div>\n",
       "<style scoped>\n",
       "    .dataframe tbody tr th:only-of-type {\n",
       "        vertical-align: middle;\n",
       "    }\n",
       "\n",
       "    .dataframe tbody tr th {\n",
       "        vertical-align: top;\n",
       "    }\n",
       "\n",
       "    .dataframe thead th {\n",
       "        text-align: right;\n",
       "    }\n",
       "</style>\n",
       "<table border=\"1\" class=\"dataframe\">\n",
       "  <thead>\n",
       "    <tr style=\"text-align: right;\">\n",
       "      <th></th>\n",
       "      <th>id_untreated</th>\n",
       "      <th>treat_untreated</th>\n",
       "      <th>age</th>\n",
       "      <th>educ</th>\n",
       "      <th>black</th>\n",
       "      <th>hispan</th>\n",
       "      <th>married</th>\n",
       "      <th>nodegree</th>\n",
       "      <th>re74</th>\n",
       "      <th>re75</th>\n",
       "      <th>re78_untreated</th>\n",
       "      <th>id_treated</th>\n",
       "      <th>treat_treated</th>\n",
       "      <th>re78_treated</th>\n",
       "    </tr>\n",
       "  </thead>\n",
       "  <tbody>\n",
       "    <tr>\n",
       "      <th>366</th>\n",
       "      <td>PSID367</td>\n",
       "      <td>0</td>\n",
       "      <td>18</td>\n",
       "      <td>10</td>\n",
       "      <td>1</td>\n",
       "      <td>0</td>\n",
       "      <td>0</td>\n",
       "      <td>1</td>\n",
       "      <td>0.0</td>\n",
       "      <td>0.0</td>\n",
       "      <td>2281.610</td>\n",
       "      <td>NSW25</td>\n",
       "      <td>1</td>\n",
       "      <td>11163.170</td>\n",
       "    </tr>\n",
       "    <tr>\n",
       "      <th>410</th>\n",
       "      <td>PSID411</td>\n",
       "      <td>0</td>\n",
       "      <td>18</td>\n",
       "      <td>10</td>\n",
       "      <td>1</td>\n",
       "      <td>0</td>\n",
       "      <td>0</td>\n",
       "      <td>1</td>\n",
       "      <td>0.0</td>\n",
       "      <td>0.0</td>\n",
       "      <td>5306.516</td>\n",
       "      <td>NSW25</td>\n",
       "      <td>1</td>\n",
       "      <td>11163.170</td>\n",
       "    </tr>\n",
       "    <tr>\n",
       "      <th>372</th>\n",
       "      <td>PSID373</td>\n",
       "      <td>0</td>\n",
       "      <td>20</td>\n",
       "      <td>12</td>\n",
       "      <td>1</td>\n",
       "      <td>0</td>\n",
       "      <td>0</td>\n",
       "      <td>0</td>\n",
       "      <td>0.0</td>\n",
       "      <td>0.0</td>\n",
       "      <td>0.000</td>\n",
       "      <td>NSW34</td>\n",
       "      <td>1</td>\n",
       "      <td>0.000</td>\n",
       "    </tr>\n",
       "    <tr>\n",
       "      <th>385</th>\n",
       "      <td>PSID386</td>\n",
       "      <td>0</td>\n",
       "      <td>20</td>\n",
       "      <td>12</td>\n",
       "      <td>1</td>\n",
       "      <td>0</td>\n",
       "      <td>0</td>\n",
       "      <td>0</td>\n",
       "      <td>0.0</td>\n",
       "      <td>0.0</td>\n",
       "      <td>11594.240</td>\n",
       "      <td>NSW34</td>\n",
       "      <td>1</td>\n",
       "      <td>0.000</td>\n",
       "    </tr>\n",
       "    <tr>\n",
       "      <th>373</th>\n",
       "      <td>PSID374</td>\n",
       "      <td>0</td>\n",
       "      <td>18</td>\n",
       "      <td>11</td>\n",
       "      <td>1</td>\n",
       "      <td>0</td>\n",
       "      <td>0</td>\n",
       "      <td>1</td>\n",
       "      <td>0.0</td>\n",
       "      <td>0.0</td>\n",
       "      <td>0.000</td>\n",
       "      <td>NSW53</td>\n",
       "      <td>1</td>\n",
       "      <td>0.000</td>\n",
       "    </tr>\n",
       "    <tr>\n",
       "      <th>388</th>\n",
       "      <td>PSID389</td>\n",
       "      <td>0</td>\n",
       "      <td>18</td>\n",
       "      <td>11</td>\n",
       "      <td>1</td>\n",
       "      <td>0</td>\n",
       "      <td>0</td>\n",
       "      <td>1</td>\n",
       "      <td>0.0</td>\n",
       "      <td>0.0</td>\n",
       "      <td>7146.286</td>\n",
       "      <td>NSW53</td>\n",
       "      <td>1</td>\n",
       "      <td>0.000</td>\n",
       "    </tr>\n",
       "    <tr>\n",
       "      <th>375</th>\n",
       "      <td>PSID376</td>\n",
       "      <td>0</td>\n",
       "      <td>17</td>\n",
       "      <td>8</td>\n",
       "      <td>1</td>\n",
       "      <td>0</td>\n",
       "      <td>0</td>\n",
       "      <td>1</td>\n",
       "      <td>0.0</td>\n",
       "      <td>0.0</td>\n",
       "      <td>12760.170</td>\n",
       "      <td>NSW43</td>\n",
       "      <td>1</td>\n",
       "      <td>8061.485</td>\n",
       "    </tr>\n",
       "    <tr>\n",
       "      <th>397</th>\n",
       "      <td>PSID398</td>\n",
       "      <td>0</td>\n",
       "      <td>17</td>\n",
       "      <td>8</td>\n",
       "      <td>1</td>\n",
       "      <td>0</td>\n",
       "      <td>0</td>\n",
       "      <td>1</td>\n",
       "      <td>0.0</td>\n",
       "      <td>0.0</td>\n",
       "      <td>4520.366</td>\n",
       "      <td>NSW43</td>\n",
       "      <td>1</td>\n",
       "      <td>8061.485</td>\n",
       "    </tr>\n",
       "    <tr>\n",
       "      <th>380</th>\n",
       "      <td>PSID381</td>\n",
       "      <td>0</td>\n",
       "      <td>21</td>\n",
       "      <td>13</td>\n",
       "      <td>1</td>\n",
       "      <td>0</td>\n",
       "      <td>0</td>\n",
       "      <td>0</td>\n",
       "      <td>0.0</td>\n",
       "      <td>0.0</td>\n",
       "      <td>17941.080</td>\n",
       "      <td>NSW12</td>\n",
       "      <td>1</td>\n",
       "      <td>17094.640</td>\n",
       "    </tr>\n",
       "    <tr>\n",
       "      <th>387</th>\n",
       "      <td>PSID388</td>\n",
       "      <td>0</td>\n",
       "      <td>19</td>\n",
       "      <td>11</td>\n",
       "      <td>1</td>\n",
       "      <td>0</td>\n",
       "      <td>0</td>\n",
       "      <td>1</td>\n",
       "      <td>0.0</td>\n",
       "      <td>0.0</td>\n",
       "      <td>16485.520</td>\n",
       "      <td>NSW105</td>\n",
       "      <td>1</td>\n",
       "      <td>7458.105</td>\n",
       "    </tr>\n",
       "    <tr>\n",
       "      <th>391</th>\n",
       "      <td>PSID392</td>\n",
       "      <td>0</td>\n",
       "      <td>17</td>\n",
       "      <td>10</td>\n",
       "      <td>1</td>\n",
       "      <td>0</td>\n",
       "      <td>0</td>\n",
       "      <td>1</td>\n",
       "      <td>0.0</td>\n",
       "      <td>0.0</td>\n",
       "      <td>0.000</td>\n",
       "      <td>NSW29</td>\n",
       "      <td>1</td>\n",
       "      <td>16218.040</td>\n",
       "    </tr>\n",
       "    <tr>\n",
       "      <th>400</th>\n",
       "      <td>PSID401</td>\n",
       "      <td>0</td>\n",
       "      <td>17</td>\n",
       "      <td>10</td>\n",
       "      <td>1</td>\n",
       "      <td>0</td>\n",
       "      <td>0</td>\n",
       "      <td>1</td>\n",
       "      <td>0.0</td>\n",
       "      <td>0.0</td>\n",
       "      <td>1053.619</td>\n",
       "      <td>NSW29</td>\n",
       "      <td>1</td>\n",
       "      <td>16218.040</td>\n",
       "    </tr>\n",
       "  </tbody>\n",
       "</table>\n",
       "</div>"
      ],
      "text/plain": [
       "    id_untreated  treat_untreated  age  educ  black  hispan  married  \\\n",
       "366      PSID367                0   18    10      1       0        0   \n",
       "410      PSID411                0   18    10      1       0        0   \n",
       "372      PSID373                0   20    12      1       0        0   \n",
       "385      PSID386                0   20    12      1       0        0   \n",
       "373      PSID374                0   18    11      1       0        0   \n",
       "388      PSID389                0   18    11      1       0        0   \n",
       "375      PSID376                0   17     8      1       0        0   \n",
       "397      PSID398                0   17     8      1       0        0   \n",
       "380      PSID381                0   21    13      1       0        0   \n",
       "387      PSID388                0   19    11      1       0        0   \n",
       "391      PSID392                0   17    10      1       0        0   \n",
       "400      PSID401                0   17    10      1       0        0   \n",
       "\n",
       "     nodegree  re74  re75  re78_untreated id_treated  treat_treated  \\\n",
       "366         1   0.0   0.0        2281.610      NSW25              1   \n",
       "410         1   0.0   0.0        5306.516      NSW25              1   \n",
       "372         0   0.0   0.0           0.000      NSW34              1   \n",
       "385         0   0.0   0.0       11594.240      NSW34              1   \n",
       "373         1   0.0   0.0           0.000      NSW53              1   \n",
       "388         1   0.0   0.0        7146.286      NSW53              1   \n",
       "375         1   0.0   0.0       12760.170      NSW43              1   \n",
       "397         1   0.0   0.0        4520.366      NSW43              1   \n",
       "380         0   0.0   0.0       17941.080      NSW12              1   \n",
       "387         1   0.0   0.0       16485.520     NSW105              1   \n",
       "391         1   0.0   0.0           0.000      NSW29              1   \n",
       "400         1   0.0   0.0        1053.619      NSW29              1   \n",
       "\n",
       "     re78_treated  \n",
       "366     11163.170  \n",
       "410     11163.170  \n",
       "372         0.000  \n",
       "385         0.000  \n",
       "373         0.000  \n",
       "388         0.000  \n",
       "375      8061.485  \n",
       "397      8061.485  \n",
       "380     17094.640  \n",
       "387      7458.105  \n",
       "391     16218.040  \n",
       "400     16218.040  "
      ]
     },
     "execution_count": 31,
     "metadata": {},
     "output_type": "execute_result"
    }
   ],
   "source": [
    "#<-- Write Your Code -->\n",
    "# Implement the perfect matching method here and output the count of PSID tuples whose counterfactual can be computed\n",
    "# using perfect matching, as well as the percentage of such tuples among all PSID tuples. If there are multiple \n",
    "# tuples in the treatment group that can be matched with the control group, just select the first one\n",
    "# output: count and percentage\n",
    "\n",
    "\n",
    "# lalonde[lalonde.duplicated(['age','married','educ','black','hispan','nodegree','re74','re75'])]\n",
    "df0 = lalonde[lalonde['treat']==0].reset_index()\n",
    "df1 = lalonde[lalonde['treat']==1].reset_index()\n",
    "# df_perfect = df0.merge(df1, on=['age','married','educ','black','hispan','nodegree'], suffixes=['_untreated', '_treated'], how='inner')\n",
    "df_perfect = df0.merge(df1, on=lalonde.columns[1:-1].tolist(), suffixes=['_untreated', '_treated'], right_index=True)\n",
    "# df_perfect = df_perfect.reset_index()\n",
    "df_perfect = df_perfect.drop_duplicates(['id_untreated'])\n",
    "# df_perfect = df_perfect.drop_duplicates(['age','married','educ','black','hispan','nodegree'])\n",
    "count = df_perfect.shape[0]\n",
    "percentage = count/df0.shape[0]*100\n",
    "df_perfect"
   ]
  },
  {
   "cell_type": "code",
   "execution_count": 32,
   "metadata": {},
   "outputs": [
    {
     "name": "stdout",
     "output_type": "stream",
     "text": [
      "Count of tuples which can be computed by perfect matching is 12\n",
      "Percentage of such tuples among all PSID tuples is 2.797202797202797\n"
     ]
    }
   ],
   "source": [
    "# Run the following code to print out the result\n",
    "print(\"Count of tuples which can be computed by perfect matching is \" + str(count))\n",
    "print(\"Percentage of such tuples among all PSID tuples is \" + str(percentage))"
   ]
  },
  {
   "cell_type": "code",
   "execution_count": 33,
   "metadata": {},
   "outputs": [],
   "source": [
    "#<-- Write Your Code -->\n",
    "\n",
    "# Compute ATE among those PSID tuples whose counterfactual can be computed using perfect matching\n",
    "# output: value of ATE\n",
    "df_perfect['treatment_effect'] = df_perfect['re78_treated']-df_perfect['re78_untreated']\n",
    "ATE = df_perfect['treatment_effect'].mean()"
   ]
  },
  {
   "cell_type": "code",
   "execution_count": 34,
   "metadata": {},
   "outputs": [
    {
     "name": "stdout",
     "output_type": "stream",
     "text": [
      "ATE by perfect matching is 1362.3939999999998\n"
     ]
    }
   ],
   "source": [
    "# Run following code to print the result\n",
    "print(\"ATE by perfect matching is \" + str(ATE))"
   ]
  },
  {
   "cell_type": "markdown",
   "metadata": {},
   "source": [
    "### 2.2 Nearest Neighbor Matching\n",
    "For the PSID tuples in the dataset (i.e., those who weren't enrolled in the job training program), please use the nearest neighbor matching to estimate their salaries if they received treatments?\n",
    "\n",
    "Please use all covariates (the attributes besides treatment and outcome) and use Euclidean distance as the distance metric."
   ]
  },
  {
   "cell_type": "code",
   "execution_count": 35,
   "metadata": {},
   "outputs": [
    {
     "name": "stderr",
     "output_type": "stream",
     "text": [
      "/anaconda3/lib/python3.7/site-packages/ipykernel_launcher.py:14: FutureWarning: Method .as_matrix will be removed in a future version. Use .values instead.\n",
      "  \n",
      "/anaconda3/lib/python3.7/site-packages/ipykernel_launcher.py:18: FutureWarning: Method .as_matrix will be removed in a future version. Use .values instead.\n"
     ]
    }
   ],
   "source": [
    "#<-- Write Your Code -->\n",
    "\n",
    "# Implement the nearest neighbor matching method here and output the count of PSID tuples whose counterfactual can be\n",
    "# computed using nearest neighbor matching, when the threshold is set to 1000, as well as the percentage of such tuples among all PSID tuples\n",
    "# Output: count and percentage\n",
    "\n",
    "# Please use np.linalg.norm(x1 - x2) to compute the euclidean distance between two vectors\n",
    "df1 = lalonde[lalonde['treat']==1]\n",
    "df0 = lalonde[lalonde['treat']==0]\n",
    "# create two lists to store the qualified matches' re78 for calculating ATE\n",
    "re78_treat = []\n",
    "re78_untreat = []\n",
    "for i in range(df0.shape[0]):\n",
    "    vector0 = df0.iloc[[i]][lalonde.columns[1:-1]].as_matrix()\n",
    "    dists = []\n",
    "    re78s = []\n",
    "    for j in range(df1.shape[0]):\n",
    "        vector1 = df1.iloc[[j]][lalonde.columns[1:-1]].as_matrix()\n",
    "        re78_1 = float(df1.iloc[[j]]['re78'])\n",
    "        dist = np.linalg.norm(vector0-vector1)\n",
    "        dists.append(dist)\n",
    "        re78s.append(re78_1)\n",
    "    if min(dists)<1000:\n",
    "        re78_treat.append(re78s[dists.index(min(dists))])\n",
    "        re78_untreat.append(float(df0.iloc[[i]]['re78']))\n",
    "            \n",
    "\n",
    "# vector1 = df1[['age','married','educ','black','hispan','nodegree','re74', 're75']].iloc[[0]].as_matrix()\n",
    "# vector2 = df0[['age','married','educ','black','hispan','nodegree','re74', 're75']].iloc[[0]].as_matrix()\n",
    "# np.linalg.norm(vector1-vector2)\n",
    "\n",
    "\n"
   ]
  },
  {
   "cell_type": "code",
   "execution_count": 36,
   "metadata": {},
   "outputs": [],
   "source": [
    "count = len(re78_treat)\n",
    "percentage = count/df0.shape[0]*100"
   ]
  },
  {
   "cell_type": "code",
   "execution_count": 37,
   "metadata": {},
   "outputs": [
    {
     "name": "stdout",
     "output_type": "stream",
     "text": [
      "Count of tuples which can be computed by nearest neighbor matching is 318\n",
      "Percentage of such tuples among all PSID tuples is 74.12587412587412\n"
     ]
    }
   ],
   "source": [
    "#run following code to print the result\n",
    "print(\"Count of tuples which can be computed by nearest neighbor matching is \" + str(count))\n",
    "print(\"Percentage of such tuples among all PSID tuples is \" + str(percentage))"
   ]
  },
  {
   "cell_type": "code",
   "execution_count": 38,
   "metadata": {},
   "outputs": [],
   "source": [
    "#<-- Write Your Code -->\n",
    "\n",
    "# Compute ATE among those PSID tuples whose counterfactual can be computed using nearest neighbor matching\n",
    "# Output: value of ATE\n",
    "sum = 0\n",
    "for i in range(count):\n",
    "    sum = sum+(re78_treat[i]-re78_untreat[i])\n",
    "ATE = sum/count"
   ]
  },
  {
   "cell_type": "code",
   "execution_count": 39,
   "metadata": {},
   "outputs": [
    {
     "name": "stdout",
     "output_type": "stream",
     "text": [
      "ATE by nearest neighbor matching is 519.1813407232701\n"
     ]
    }
   ],
   "source": [
    "# Run following code to print out the result\n",
    "print(\"ATE by nearest neighbor matching is \" + str(ATE))"
   ]
  },
  {
   "cell_type": "markdown",
   "metadata": {},
   "source": [
    "### 2.3 Propensity Score Matching\n",
    "For the PSID tuples in the dataset (i.e., those weren't enrolled in the job training program), please use propensity score matching to estimate their salaries if they received treatments?\n",
    "\n",
    "Please use logistic regression to fit the propensity score."
   ]
  },
  {
   "cell_type": "code",
   "execution_count": 40,
   "metadata": {},
   "outputs": [
    {
     "name": "stderr",
     "output_type": "stream",
     "text": [
      "/anaconda3/lib/python3.7/site-packages/sklearn/linear_model/logistic.py:432: FutureWarning: Default solver will be changed to 'lbfgs' in 0.22. Specify a solver to silence this warning.\n",
      "  FutureWarning)\n"
     ]
    }
   ],
   "source": [
    "#<-- Write Your Code -->\n",
    "# Compute propensity score P(y = 1|X) for each tuple in the dataset. Use logistic regression.\n",
    "# Output: add the new column \"psm\" to lalonde dataframe\n",
    "from sklearn.linear_model import LogisticRegression\n",
    "\n",
    "X = lalonde[lalonde.columns[1:-1]]\n",
    "Y = lalonde['treat']\n",
    "logist = LogisticRegression().fit(X,Y)\n",
    "lalonde['psm'] = logist.predict_proba(X)[:,1]\n",
    "\n"
   ]
  },
  {
   "cell_type": "code",
   "execution_count": 41,
   "metadata": {},
   "outputs": [
    {
     "data": {
      "text/html": [
       "<div>\n",
       "<style scoped>\n",
       "    .dataframe tbody tr th:only-of-type {\n",
       "        vertical-align: middle;\n",
       "    }\n",
       "\n",
       "    .dataframe tbody tr th {\n",
       "        vertical-align: top;\n",
       "    }\n",
       "\n",
       "    .dataframe thead th {\n",
       "        text-align: right;\n",
       "    }\n",
       "</style>\n",
       "<table border=\"1\" class=\"dataframe\">\n",
       "  <thead>\n",
       "    <tr style=\"text-align: right;\">\n",
       "      <th></th>\n",
       "      <th>treat</th>\n",
       "      <th>age</th>\n",
       "      <th>educ</th>\n",
       "      <th>black</th>\n",
       "      <th>hispan</th>\n",
       "      <th>married</th>\n",
       "      <th>nodegree</th>\n",
       "      <th>re74</th>\n",
       "      <th>re75</th>\n",
       "      <th>re78</th>\n",
       "      <th>psm</th>\n",
       "    </tr>\n",
       "    <tr>\n",
       "      <th>id</th>\n",
       "      <th></th>\n",
       "      <th></th>\n",
       "      <th></th>\n",
       "      <th></th>\n",
       "      <th></th>\n",
       "      <th></th>\n",
       "      <th></th>\n",
       "      <th></th>\n",
       "      <th></th>\n",
       "      <th></th>\n",
       "      <th></th>\n",
       "    </tr>\n",
       "  </thead>\n",
       "  <tbody>\n",
       "    <tr>\n",
       "      <th>NSW1</th>\n",
       "      <td>1</td>\n",
       "      <td>37</td>\n",
       "      <td>11</td>\n",
       "      <td>1</td>\n",
       "      <td>0</td>\n",
       "      <td>1</td>\n",
       "      <td>1</td>\n",
       "      <td>0.0</td>\n",
       "      <td>0.0</td>\n",
       "      <td>9930.0460</td>\n",
       "      <td>0.443350</td>\n",
       "    </tr>\n",
       "    <tr>\n",
       "      <th>NSW2</th>\n",
       "      <td>1</td>\n",
       "      <td>22</td>\n",
       "      <td>9</td>\n",
       "      <td>0</td>\n",
       "      <td>1</td>\n",
       "      <td>0</td>\n",
       "      <td>1</td>\n",
       "      <td>0.0</td>\n",
       "      <td>0.0</td>\n",
       "      <td>3595.8940</td>\n",
       "      <td>0.144660</td>\n",
       "    </tr>\n",
       "    <tr>\n",
       "      <th>NSW3</th>\n",
       "      <td>1</td>\n",
       "      <td>30</td>\n",
       "      <td>12</td>\n",
       "      <td>1</td>\n",
       "      <td>0</td>\n",
       "      <td>0</td>\n",
       "      <td>0</td>\n",
       "      <td>0.0</td>\n",
       "      <td>0.0</td>\n",
       "      <td>24909.4500</td>\n",
       "      <td>0.722355</td>\n",
       "    </tr>\n",
       "    <tr>\n",
       "      <th>NSW4</th>\n",
       "      <td>1</td>\n",
       "      <td>27</td>\n",
       "      <td>11</td>\n",
       "      <td>1</td>\n",
       "      <td>0</td>\n",
       "      <td>0</td>\n",
       "      <td>1</td>\n",
       "      <td>0.0</td>\n",
       "      <td>0.0</td>\n",
       "      <td>7506.1460</td>\n",
       "      <td>0.664151</td>\n",
       "    </tr>\n",
       "    <tr>\n",
       "      <th>NSW5</th>\n",
       "      <td>1</td>\n",
       "      <td>33</td>\n",
       "      <td>8</td>\n",
       "      <td>1</td>\n",
       "      <td>0</td>\n",
       "      <td>0</td>\n",
       "      <td>1</td>\n",
       "      <td>0.0</td>\n",
       "      <td>0.0</td>\n",
       "      <td>289.7899</td>\n",
       "      <td>0.698286</td>\n",
       "    </tr>\n",
       "  </tbody>\n",
       "</table>\n",
       "</div>"
      ],
      "text/plain": [
       "      treat  age  educ  black  hispan  married  nodegree  re74  re75  \\\n",
       "id                                                                     \n",
       "NSW1      1   37    11      1       0        1         1   0.0   0.0   \n",
       "NSW2      1   22     9      0       1        0         1   0.0   0.0   \n",
       "NSW3      1   30    12      1       0        0         0   0.0   0.0   \n",
       "NSW4      1   27    11      1       0        0         1   0.0   0.0   \n",
       "NSW5      1   33     8      1       0        0         1   0.0   0.0   \n",
       "\n",
       "            re78       psm  \n",
       "id                          \n",
       "NSW1   9930.0460  0.443350  \n",
       "NSW2   3595.8940  0.144660  \n",
       "NSW3  24909.4500  0.722355  \n",
       "NSW4   7506.1460  0.664151  \n",
       "NSW5    289.7899  0.698286  "
      ]
     },
     "execution_count": 41,
     "metadata": {},
     "output_type": "execute_result"
    }
   ],
   "source": [
    "# Run the following code to see the result\n",
    "lalonde.head()"
   ]
  },
  {
   "cell_type": "code",
   "execution_count": 42,
   "metadata": {},
   "outputs": [],
   "source": [
    "#<-- Write Your Code -->\n",
    "\n",
    "df1 = lalonde[lalonde['treat']==1]\n",
    "df0 = lalonde[lalonde['treat']==0]\n",
    "# create two lists to store the qualified matches' re78 for calculating ATE\n",
    "re78_treat = []\n",
    "re78_untreat = []\n",
    "for i in range(df0.shape[0]):\n",
    "    psm1 = float(df0.iloc[[i]]['psm'])\n",
    "    diffs = []\n",
    "    re78s = []\n",
    "    for j in range(df1.shape[0]):\n",
    "        psm2 = float(df1.iloc[[j]]['psm'])\n",
    "        re78_1 = float(df1.iloc[[j]]['re78'])\n",
    "        diff = abs(psm1-psm2)\n",
    "        diffs.append(diff)\n",
    "        re78s.append(re78_1)\n",
    "    if min(diffs)<0.01:\n",
    "        re78_treat.append(re78s[diffs.index(min(diffs))])\n",
    "        re78_untreat.append(float(df0.iloc[[i]]['re78']))\n",
    "            \n",
    "\n",
    "# For each tuple in the control group, find the matching tuple in the treatment group, and then compute\n",
    "# the ATE over the population\n",
    "# Please match tuples with the metric |psm1 - psm2| to be minimum, threhold set to 0.01\n",
    "# Output: the value of ATE, the count of tuples that can be matched, as well as the percentage\n",
    "\n"
   ]
  },
  {
   "cell_type": "code",
   "execution_count": 43,
   "metadata": {},
   "outputs": [],
   "source": [
    "count = len(re78_treat)\n",
    "percentage = count/df0.shape[0]*100\n",
    "\n",
    "sum = 0\n",
    "for i in range(count):\n",
    "    sum =sum+(re78_treat[i]-re78_untreat[i])\n",
    "ATE = sum/count"
   ]
  },
  {
   "cell_type": "code",
   "execution_count": 44,
   "metadata": {},
   "outputs": [
    {
     "name": "stdout",
     "output_type": "stream",
     "text": [
      "ATE by propensity score matching is 520.6363361618803\n",
      "Count of tuples which can be computed by propensity score matching is 383\n",
      "Percentage of such tuples among all PSID tuples is 89.27738927738928\n"
     ]
    }
   ],
   "source": [
    "# Run the following code to print out the result\n",
    "print(\"ATE by propensity score matching is \" + str(ATE))\n",
    "print(\"Count of tuples which can be computed by propensity score matching is \" + str(count))\n",
    "print(\"Percentage of such tuples among all PSID tuples is \" + str(percentage))"
   ]
  },
  {
   "cell_type": "markdown",
   "metadata": {},
   "source": [
    "### 2.4 Linear Regression\n",
    "Train two individual models to fit P(y|t = 1,X) and P(y|t = 0,X), then infer the counterfactual outcome using two models while setting treatment to the opposite value. Infer the ATE over the population."
   ]
  },
  {
   "cell_type": "code",
   "execution_count": null,
   "metadata": {},
   "outputs": [],
   "source": []
  },
  {
   "cell_type": "code",
   "execution_count": 45,
   "metadata": {},
   "outputs": [],
   "source": [
    "#<-- Write Your Code -->\n",
    "\n",
    "# Train two individual linear regression models and infer the counterfactual result for each tuple\n",
    "# Output: the value of ATE, over the population\n",
    "from sklearn.linear_model import LinearRegression\n",
    "import statistics\n",
    "\n",
    "df0 = lalonde[lalonde['treat']==0]\n",
    "df1 = lalonde[lalonde['treat']==1]\n",
    "\n",
    "X_0 = df0[lalonde.columns[1:-2]]\n",
    "Y_0 = df0[lalonde.columns[-2]]\n",
    "X_1 = df1[lalonde.columns[1:-2]]\n",
    "Y_1 = df1[lalonde.columns[-2]]\n",
    "\n",
    "lr0 = LinearRegression().fit(X_0,Y_0)\n",
    "lr1 = LinearRegression().fit(X_1,Y_1)\n",
    "\n",
    "untreat_predict = lr1.predict(X_0)\n",
    "treat_predict = lr0.predict(X_1)\n",
    "\n",
    "\n",
    "diff1 = untreat_predict-df0['re78']\n",
    "diff2 = df1['re78']-treat_predict\n",
    "\n",
    "total = diff2.values.tolist()+diff1.values.tolist()\n",
    "ATE = statistics.mean(total)"
   ]
  },
  {
   "cell_type": "code",
   "execution_count": 46,
   "metadata": {},
   "outputs": [
    {
     "name": "stdout",
     "output_type": "stream",
     "text": [
      "ATE by linear regression is 1074.9085413954701\n"
     ]
    }
   ],
   "source": [
    "# Run following code to print out the result\n",
    "print(\"ATE by linear regression is \" + str(ATE))"
   ]
  },
  {
   "cell_type": "markdown",
   "metadata": {},
   "source": [
    "Please briefly discuss the advantages and disadvantages of the above four approaches."
   ]
  },
  {
   "cell_type": "markdown",
   "metadata": {},
   "source": [
    "**A.** Perfect Matching:\n",
    "Advantages: Straight forward and fast to run since we only use one merge.\n",
    "Disadvantages: In reality it could be hard to find perfect matchings and the count and percentage could be very low.\n",
    "\n",
    "Nearest Neighbour:\n",
    "Advantages: More general than perfect matching.\n",
    "Disadvantages: The performance is heavily relied on the distance metric we chose also two loops make the runtime huge.\n",
    "\n",
    "Propensity: \n",
    "Advantages: It actually has the same idea as Nearest Neighbour but with a more precise metric i.e. logistic regression. The results given by Nearest Neighbour and Propensity are very close.\n",
    "Disadvantages: The performance is relied on the training quality of logistic model also the run time is huge if we had a large dataset to match.\n",
    "\n",
    "Linear Regression:\n",
    "Advanteges: This seems to be the best method consider about the definition of counterfactual.\n",
    "Disadvantages: If we don't have enough data to train the linear regression model, then the model could predict trvial results. \n"
   ]
  },
  {
   "cell_type": "markdown",
   "metadata": {},
   "source": [
    "## Task 3. DoWhy\n",
    "In this task, you are required to apply DoWhy and analyze the dataset using two ATE estimation methods."
   ]
  },
  {
   "cell_type": "code",
   "execution_count": 24,
   "metadata": {},
   "outputs": [
    {
     "ename": "ModuleNotFoundError",
     "evalue": "No module named 'dowhy'",
     "output_type": "error",
     "traceback": [
      "\u001b[0;31m---------------------------------------------------------------------------\u001b[0m",
      "\u001b[0;31mModuleNotFoundError\u001b[0m                       Traceback (most recent call last)",
      "\u001b[0;32m<ipython-input-24-896c61a91d44>\u001b[0m in \u001b[0;36m<module>\u001b[0;34m\u001b[0m\n\u001b[1;32m      1\u001b[0m \u001b[0mlalonde\u001b[0m\u001b[0;34m[\u001b[0m\u001b[0;34m'treat'\u001b[0m\u001b[0;34m]\u001b[0m \u001b[0;34m=\u001b[0m \u001b[0mlalonde\u001b[0m\u001b[0;34m[\u001b[0m\u001b[0;34m'treat'\u001b[0m\u001b[0;34m]\u001b[0m\u001b[0;34m.\u001b[0m\u001b[0mastype\u001b[0m\u001b[0;34m(\u001b[0m\u001b[0mbool\u001b[0m\u001b[0;34m)\u001b[0m\u001b[0;34m\u001b[0m\u001b[0;34m\u001b[0m\u001b[0m\n\u001b[0;32m----> 2\u001b[0;31m \u001b[0;32mfrom\u001b[0m \u001b[0mdowhy\u001b[0m \u001b[0;32mimport\u001b[0m \u001b[0mCausalModel\u001b[0m\u001b[0;34m\u001b[0m\u001b[0;34m\u001b[0m\u001b[0m\n\u001b[0m\u001b[1;32m      3\u001b[0m model=CausalModel(\n\u001b[1;32m      4\u001b[0m         \u001b[0mdata\u001b[0m \u001b[0;34m=\u001b[0m \u001b[0mlalonde\u001b[0m\u001b[0;34m,\u001b[0m\u001b[0;34m\u001b[0m\u001b[0;34m\u001b[0m\u001b[0m\n\u001b[1;32m      5\u001b[0m         \u001b[0mtreatment\u001b[0m\u001b[0;34m=\u001b[0m\u001b[0;34m'treat'\u001b[0m\u001b[0;34m,\u001b[0m\u001b[0;34m\u001b[0m\u001b[0;34m\u001b[0m\u001b[0m\n",
      "\u001b[0;31mModuleNotFoundError\u001b[0m: No module named 'dowhy'"
     ]
    }
   ],
   "source": [
    "lalonde['treat'] = lalonde['treat'].astype(bool)\n",
    "from dowhy import CausalModel\n",
    "model=CausalModel(\n",
    "        data = lalonde,\n",
    "        treatment='treat',\n",
    "        outcome='re78',\n",
    "        common_causes='nodegree+black+hisp+age+educ+married'.split('+'))\n"
   ]
  },
  {
   "cell_type": "code",
   "execution_count": 15,
   "metadata": {},
   "outputs": [
    {
     "name": "stderr",
     "output_type": "stream",
     "text": [
      "INFO:dowhy.causal_identifier:Common causes of treatment and outcome:['educ', 'married', 'age', 'nodegree', 'hisp', 'black']\n",
      "WARNING:dowhy.causal_identifier:If this is observed data (not from a randomized experiment), there might always be missing confounders. Causal effect cannot be identified perfectly.\n",
      "INFO:dowhy.causal_identifier:Continuing by ignoring these unobserved confounders because proceed_when_unidentifiable flag is True.\n",
      "INFO:dowhy.causal_identifier:Instrumental variables for treatment and outcome:[]\n",
      "INFO:dowhy.causal_estimator:INFO: Using Linear Regression Estimator\n",
      "INFO:dowhy.causal_estimator:b: re78~treat+educ+married+age+nodegree+black\n",
      "INFO:dowhy.causal_identifier:Common causes of treatment and outcome:['educ', 'married', 'age', 'nodegree', 'hisp', 'black']\n",
      "WARNING:dowhy.causal_identifier:If this is observed data (not from a randomized experiment), there might always be missing confounders. Causal effect cannot be identified perfectly.\n",
      "INFO:dowhy.causal_identifier:Continuing by ignoring these unobserved confounders because proceed_when_unidentifiable flag is True.\n",
      "INFO:dowhy.causal_identifier:Instrumental variables for treatment and outcome:[]\n",
      "INFO:dowhy.causal_estimator:INFO: Using Propensity Score Matching Estimator\n",
      "INFO:dowhy.causal_estimator:b: re78~treat+educ+married+age+nodegree+black\n"
     ]
    }
   ],
   "source": [
    "#<-- Write Your Code -->\n",
    "\n",
    "# Use the linear regression and PSM methods provided by DoWhy to estimate ATE \n",
    "# Output: ATE_linear, ATE_psm\n",
    "estimate = model.estimate_effect(model.identify_effect(proceed_when_unidentifiable=True),method_name=\"backdoor.linear_regression\")\n",
    "\n",
    "ATE_linear=estimate.value\n",
    "\n",
    "estimate = model.estimate_effect(model.identify_effect(proceed_when_unidentifiable=True),method_name=\"backdoor.propensity_score_matching\")\n",
    "\n",
    "ATE_psm=estimate.value\n"
   ]
  },
  {
   "cell_type": "code",
   "execution_count": 17,
   "metadata": {},
   "outputs": [
    {
     "name": "stdout",
     "output_type": "stream",
     "text": [
      "ATE by linear regression is 1203.0914513083071\n",
      "ATE by psm is 73.62268737785037\n"
     ]
    }
   ],
   "source": [
    "# Run following code to print out the result\n",
    "print(\"ATE by linear regression is \" + str(ATE_linear))\n",
    "print(\"ATE by psm is \" + str(ATE_psm))"
   ]
  },
  {
   "cell_type": "markdown",
   "metadata": {},
   "source": [
    "Briefly explain why the result by DoWhy is not same as the result by your own implementation."
   ]
  },
  {
   "cell_type": "markdown",
   "metadata": {},
   "source": [
    "**A.** Because we used different confounding variables here. We didn't include re74 and re75."
   ]
  },
  {
   "cell_type": "markdown",
   "metadata": {},
   "source": [
    "## Submission"
   ]
  },
  {
   "cell_type": "markdown",
   "metadata": {},
   "source": [
    "Complete the code in this notebook, and submit it to the CourSys activity Assignment 9."
   ]
  }
 ],
 "metadata": {
  "kernelspec": {
   "display_name": "Python 3",
   "language": "python",
   "name": "python3"
  },
  "language_info": {
   "codemirror_mode": {
    "name": "ipython",
    "version": 3
   },
   "file_extension": ".py",
   "mimetype": "text/x-python",
   "name": "python",
   "nbconvert_exporter": "python",
   "pygments_lexer": "ipython3",
   "version": "3.7.1"
  }
 },
 "nbformat": 4,
 "nbformat_minor": 2
}
