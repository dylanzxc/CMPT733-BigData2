{
 "cells": [
  {
   "cell_type": "markdown",
   "metadata": {},
   "source": [
    "# Assignment 1: Web Scraping"
   ]
  },
  {
   "cell_type": "markdown",
   "metadata": {},
   "source": [
    "## Objective"
   ]
  },
  {
   "cell_type": "markdown",
   "metadata": {},
   "source": [
    "Data scientists often need to crawl data from websites and turn the crawled data (HTML pages) to structured data (tables). Thus, web scraping is an essential skill that every data scientist should master. In this assignment, you will learn the followings:\n",
    "\n",
    "\n",
    "* How to download HTML pages from a website?\n",
    "* How to extract relevant content from an HTML page? \n",
    "\n",
    "Furthermore, you will gain a deeper understanding of the data science lifecycle.\n",
    "\n",
    "**Requirements:**\n",
    "\n",
    "1. Please use [pandas.DataFrame](http://pandas.pydata.org/pandas-docs/stable/generated/pandas.DataFrame.html) rather than spark.DataFrame to manipulate data.\n",
    "\n",
    "2. Please use [BeautifulSoup](https://www.crummy.com/software/BeautifulSoup/) rather than [lxml](http://lxml.de/) to parse an HTML page and extract data from the page.\n",
    "\n",
    "3. Please follow python code style (https://www.python.org/dev/peps/pep-0008/). If TA finds your code hard to read, you will lose points. This requirement will stay for the whole semester."
   ]
  },
  {
   "cell_type": "markdown",
   "metadata": {},
   "source": [
    "## Preliminary"
   ]
  },
  {
   "cell_type": "markdown",
   "metadata": {},
   "source": [
    "If this is your first time to write a web scraper, you need to learn some basic knowledge of this topic. I found that this is a good resource: [Tutorial: Web Scraping and BeautifulSoup](https://www.dataquest.io/blog/web-scraping-beautifulsoup/). \n",
    "\n",
    "Please let me know if you find a better resource. I'll share it with the other students."
   ]
  },
  {
   "cell_type": "markdown",
   "metadata": {},
   "source": [
    "## Overview"
   ]
  },
  {
   "cell_type": "markdown",
   "metadata": {},
   "source": [
    "Imagine you are a data scientist working at SFU. Your job is to extract insights from SFU data to answer questions. \n",
    "\n",
    "In this assignment, you will do two tasks. Please recall the high-level data science lifecycle below. I suggest that when doing this assignment, please remind yourself of what data you collected and what questions you tried to answer.\n",
    "\n",
    "\n",
    "<img src=\"lifecycle.png\" width=\"500\">\n",
    "<center><h4>Figure 1. Data Science Lifecycle</h4></center>"
   ]
  },
  {
   "cell_type": "markdown",
   "metadata": {},
   "source": [
    "## Task 1: SFU CS Faculty Members"
   ]
  },
  {
   "cell_type": "markdown",
   "metadata": {},
   "source": [
    "Sometimes you don't know what questions to ask. No worries. Start collecting data first. \n",
    "\n",
    "In Task 1, your job is to write a web scraper to extract the faculty information from this page: [https://www.sfu.ca/computing/people/faculty.html](https://www.sfu.ca/computing/people/faculty.html).\n",
    "\n",
    "\n"
   ]
  },
  {
   "cell_type": "markdown",
   "metadata": {},
   "source": [
    "### (a) Crawl Web Page"
   ]
  },
  {
   "cell_type": "markdown",
   "metadata": {},
   "source": [
    "A web page is essentially a file stored in a remote machine (called web server). Please write code to download the HTML page and save it as a text file (\"csfaculty.html\")."
   ]
  },
  {
   "cell_type": "code",
   "execution_count": 2,
   "metadata": {},
   "outputs": [
    {
     "data": {
      "text/plain": [
       "134076"
      ]
     },
     "execution_count": 2,
     "metadata": {},
     "output_type": "execute_result"
    }
   ],
   "source": [
    "import requests\n",
    "response = requests.get(\"https://www.sfu.ca/computing/people/faculty.html\")\n",
    "open('./csfaculty.html', 'wb').write(response.content)\n"
   ]
  },
  {
   "cell_type": "markdown",
   "metadata": {},
   "source": [
    "### (b) Extract Structured Data"
   ]
  },
  {
   "cell_type": "markdown",
   "metadata": {},
   "source": [
    "Please write code to extract relevant content (name, rank, area, profile, homepage) from \"csfaculty.html\" and save them as a CSV file (like [faculty_table.csv](./faculty_table.csv)). "
   ]
  },
  {
   "cell_type": "code",
   "execution_count": 3,
   "metadata": {},
   "outputs": [
    {
     "name": "stdout",
     "output_type": "stream",
     "text": [
      "<class 'pandas.core.frame.DataFrame'>\n",
      "RangeIndex: 64 entries, 0 to 63\n",
      "Data columns (total 5 columns):\n",
      "name        64 non-null object\n",
      "rank        64 non-null object\n",
      "area        64 non-null object\n",
      "profile     64 non-null object\n",
      "homepage    64 non-null object\n",
      "dtypes: object(5)\n",
      "memory usage: 2.6+ KB\n",
      "None\n"
     ]
    }
   ],
   "source": [
    "from bs4 import BeautifulSoup\n",
    "html_soup = BeautifulSoup(response.text, 'html.parser')\n",
    "text_containers = html_soup.find_all('div', class_= 'textimage section')\n",
    "text_containers.pop()\n",
    "\n",
    "names = []\n",
    "ranks = []\n",
    "areas = []\n",
    "profiles = []\n",
    "homepages = []\n",
    "for container in text_containers:\n",
    "# The name\n",
    "    name = container.h4.text.split(',')[0].title()\n",
    "    names.append(name)\n",
    "# The rank\n",
    "    rank = container.h4.text.split('\\n')[0].split(',')[1].replace(u'\\xa0', u' ').strip().title()\n",
    "    ranks.append(rank)\n",
    "# The area\n",
    "    try:\n",
    "        area = container.p.text.split(':')[1].strip().replace(u'\\xa0', u' ')\n",
    "    except IndexError:\n",
    "        area = container.h4.text.split(':')[1]\n",
    "    areas.append(area.title())\n",
    "# The profile\n",
    "    try:\n",
    "        profile = container.select('p:nth-of-type(2) > a[href]')[0]['href']\n",
    "    except IndexError:\n",
    "        profile = container.find_all('a')[0]['href']\n",
    "    if(profile.startswith('http')):\n",
    "       profiles.append(profile)\n",
    "    else:\n",
    "       profiles.append('http://www.sfu.ca'+profile)\n",
    "\n",
    "# The homepage\n",
    "    try:\n",
    "        len_2nd_p = len(container.select('p:nth-of-type(2) > a[href]'))\n",
    "        if(len_2nd_p==2):\n",
    "            homepage = container.select('p:nth-of-type(2) > a[href]')[1]['href']\n",
    "        if(len_2nd_p==1):\n",
    "            homepage = \" \"\n",
    "    except IndexError:\n",
    "        homepage = container.find_all('a')[1]['href']\n",
    "    homepages.append(homepage)\n",
    "\n",
    "import pandas as pd\n",
    "df = pd.DataFrame({'name': names,\n",
    "                   'rank': ranks, \n",
    "                   'area': areas,\n",
    "                   'profile': profiles, \n",
    "                   'homepage': homepages})\n",
    "print(df.info())\n",
    "export_csv = df.to_csv('./faculty_table.csv',index = False)\n"
   ]
  },
  {
   "cell_type": "markdown",
   "metadata": {},
   "source": [
    "### (c) Interesting Finding"
   ]
  },
  {
   "cell_type": "markdown",
   "metadata": {},
   "source": [
    "Note that you don't need to do anything for Task 1(c). The purpose of this part is to give you some sense about how to leverage exploratory data analysis (EDA) to come up with interesting questions about the data. EDA is an important topic in data science; you will  learn it soon from this course. \n",
    "\n",
    "\n",
    "First, please install [dataprep](http://dataprep.ai).\n",
    "Then, run the cell below. \n",
    "It shows a bar chart for every column. What intersting findings can you get from these visualizations? "
   ]
  },
  {
   "cell_type": "code",
   "execution_count": 4,
   "metadata": {},
   "outputs": [
    {
     "data": {
      "application/javascript": [
       "\n",
       "(function(root) {\n",
       "  function now() {\n",
       "    return new Date();\n",
       "  }\n",
       "\n",
       "  var force = true;\n",
       "\n",
       "  if (typeof root._bokeh_onload_callbacks === \"undefined\" || force === true) {\n",
       "    root._bokeh_onload_callbacks = [];\n",
       "    root._bokeh_is_loading = undefined;\n",
       "  }\n",
       "\n",
       "  var JS_MIME_TYPE = 'application/javascript';\n",
       "  var HTML_MIME_TYPE = 'text/html';\n",
       "  var EXEC_MIME_TYPE = 'application/vnd.bokehjs_exec.v0+json';\n",
       "  var CLASS_NAME = 'output_bokeh rendered_html';\n",
       "\n",
       "  /**\n",
       "   * Render data to the DOM node\n",
       "   */\n",
       "  function render(props, node) {\n",
       "    var script = document.createElement(\"script\");\n",
       "    node.appendChild(script);\n",
       "  }\n",
       "\n",
       "  /**\n",
       "   * Handle when an output is cleared or removed\n",
       "   */\n",
       "  function handleClearOutput(event, handle) {\n",
       "    var cell = handle.cell;\n",
       "\n",
       "    var id = cell.output_area._bokeh_element_id;\n",
       "    var server_id = cell.output_area._bokeh_server_id;\n",
       "    // Clean up Bokeh references\n",
       "    if (id != null && id in Bokeh.index) {\n",
       "      Bokeh.index[id].model.document.clear();\n",
       "      delete Bokeh.index[id];\n",
       "    }\n",
       "\n",
       "    if (server_id !== undefined) {\n",
       "      // Clean up Bokeh references\n",
       "      var cmd = \"from bokeh.io.state import curstate; print(curstate().uuid_to_server['\" + server_id + \"'].get_sessions()[0].document.roots[0]._id)\";\n",
       "      cell.notebook.kernel.execute(cmd, {\n",
       "        iopub: {\n",
       "          output: function(msg) {\n",
       "            var id = msg.content.text.trim();\n",
       "            if (id in Bokeh.index) {\n",
       "              Bokeh.index[id].model.document.clear();\n",
       "              delete Bokeh.index[id];\n",
       "            }\n",
       "          }\n",
       "        }\n",
       "      });\n",
       "      // Destroy server and session\n",
       "      var cmd = \"import bokeh.io.notebook as ion; ion.destroy_server('\" + server_id + \"')\";\n",
       "      cell.notebook.kernel.execute(cmd);\n",
       "    }\n",
       "  }\n",
       "\n",
       "  /**\n",
       "   * Handle when a new output is added\n",
       "   */\n",
       "  function handleAddOutput(event, handle) {\n",
       "    var output_area = handle.output_area;\n",
       "    var output = handle.output;\n",
       "\n",
       "    // limit handleAddOutput to display_data with EXEC_MIME_TYPE content only\n",
       "    if ((output.output_type != \"display_data\") || (!output.data.hasOwnProperty(EXEC_MIME_TYPE))) {\n",
       "      return\n",
       "    }\n",
       "\n",
       "    var toinsert = output_area.element.find(\".\" + CLASS_NAME.split(' ')[0]);\n",
       "\n",
       "    if (output.metadata[EXEC_MIME_TYPE][\"id\"] !== undefined) {\n",
       "      toinsert[toinsert.length - 1].firstChild.textContent = output.data[JS_MIME_TYPE];\n",
       "      // store reference to embed id on output_area\n",
       "      output_area._bokeh_element_id = output.metadata[EXEC_MIME_TYPE][\"id\"];\n",
       "    }\n",
       "    if (output.metadata[EXEC_MIME_TYPE][\"server_id\"] !== undefined) {\n",
       "      var bk_div = document.createElement(\"div\");\n",
       "      bk_div.innerHTML = output.data[HTML_MIME_TYPE];\n",
       "      var script_attrs = bk_div.children[0].attributes;\n",
       "      for (var i = 0; i < script_attrs.length; i++) {\n",
       "        toinsert[toinsert.length - 1].firstChild.setAttribute(script_attrs[i].name, script_attrs[i].value);\n",
       "      }\n",
       "      // store reference to server id on output_area\n",
       "      output_area._bokeh_server_id = output.metadata[EXEC_MIME_TYPE][\"server_id\"];\n",
       "    }\n",
       "  }\n",
       "\n",
       "  function register_renderer(events, OutputArea) {\n",
       "\n",
       "    function append_mime(data, metadata, element) {\n",
       "      // create a DOM node to render to\n",
       "      var toinsert = this.create_output_subarea(\n",
       "        metadata,\n",
       "        CLASS_NAME,\n",
       "        EXEC_MIME_TYPE\n",
       "      );\n",
       "      this.keyboard_manager.register_events(toinsert);\n",
       "      // Render to node\n",
       "      var props = {data: data, metadata: metadata[EXEC_MIME_TYPE]};\n",
       "      render(props, toinsert[toinsert.length - 1]);\n",
       "      element.append(toinsert);\n",
       "      return toinsert\n",
       "    }\n",
       "\n",
       "    /* Handle when an output is cleared or removed */\n",
       "    events.on('clear_output.CodeCell', handleClearOutput);\n",
       "    events.on('delete.Cell', handleClearOutput);\n",
       "\n",
       "    /* Handle when a new output is added */\n",
       "    events.on('output_added.OutputArea', handleAddOutput);\n",
       "\n",
       "    /**\n",
       "     * Register the mime type and append_mime function with output_area\n",
       "     */\n",
       "    OutputArea.prototype.register_mime_type(EXEC_MIME_TYPE, append_mime, {\n",
       "      /* Is output safe? */\n",
       "      safe: true,\n",
       "      /* Index of renderer in `output_area.display_order` */\n",
       "      index: 0\n",
       "    });\n",
       "  }\n",
       "\n",
       "  // register the mime type if in Jupyter Notebook environment and previously unregistered\n",
       "  if (root.Jupyter !== undefined) {\n",
       "    var events = require('base/js/events');\n",
       "    var OutputArea = require('notebook/js/outputarea').OutputArea;\n",
       "\n",
       "    if (OutputArea.prototype.mime_types().indexOf(EXEC_MIME_TYPE) == -1) {\n",
       "      register_renderer(events, OutputArea);\n",
       "    }\n",
       "  }\n",
       "\n",
       "  \n",
       "  if (typeof (root._bokeh_timeout) === \"undefined\" || force === true) {\n",
       "    root._bokeh_timeout = Date.now() + 5000;\n",
       "    root._bokeh_failed_load = false;\n",
       "  }\n",
       "\n",
       "  var NB_LOAD_WARNING = {'data': {'text/html':\n",
       "     \"<div style='background-color: #fdd'>\\n\"+\n",
       "     \"<p>\\n\"+\n",
       "     \"BokehJS does not appear to have successfully loaded. If loading BokehJS from CDN, this \\n\"+\n",
       "     \"may be due to a slow or bad network connection. Possible fixes:\\n\"+\n",
       "     \"</p>\\n\"+\n",
       "     \"<ul>\\n\"+\n",
       "     \"<li>re-rerun `output_notebook()` to attempt to load from CDN again, or</li>\\n\"+\n",
       "     \"<li>use INLINE resources instead, as so:</li>\\n\"+\n",
       "     \"</ul>\\n\"+\n",
       "     \"<code>\\n\"+\n",
       "     \"from bokeh.resources import INLINE\\n\"+\n",
       "     \"output_notebook(resources=INLINE)\\n\"+\n",
       "     \"</code>\\n\"+\n",
       "     \"</div>\"}};\n",
       "\n",
       "  function display_loaded() {\n",
       "    var el = document.getElementById(null);\n",
       "    if (el != null) {\n",
       "      el.textContent = \"BokehJS is loading...\";\n",
       "    }\n",
       "    if (root.Bokeh !== undefined) {\n",
       "      if (el != null) {\n",
       "        el.textContent = \"BokehJS \" + root.Bokeh.version + \" successfully loaded.\";\n",
       "      }\n",
       "    } else if (Date.now() < root._bokeh_timeout) {\n",
       "      setTimeout(display_loaded, 100)\n",
       "    }\n",
       "  }\n",
       "\n",
       "\n",
       "  function run_callbacks() {\n",
       "    try {\n",
       "      root._bokeh_onload_callbacks.forEach(function(callback) {\n",
       "        if (callback != null)\n",
       "          callback();\n",
       "      });\n",
       "    } finally {\n",
       "      delete root._bokeh_onload_callbacks\n",
       "    }\n",
       "    console.debug(\"Bokeh: all callbacks have finished\");\n",
       "  }\n",
       "\n",
       "  function load_libs(css_urls, js_urls, callback) {\n",
       "    if (css_urls == null) css_urls = [];\n",
       "    if (js_urls == null) js_urls = [];\n",
       "\n",
       "    root._bokeh_onload_callbacks.push(callback);\n",
       "    if (root._bokeh_is_loading > 0) {\n",
       "      console.debug(\"Bokeh: BokehJS is being loaded, scheduling callback at\", now());\n",
       "      return null;\n",
       "    }\n",
       "    if (js_urls == null || js_urls.length === 0) {\n",
       "      run_callbacks();\n",
       "      return null;\n",
       "    }\n",
       "    console.debug(\"Bokeh: BokehJS not loaded, scheduling load and callback at\", now());\n",
       "    root._bokeh_is_loading = css_urls.length + js_urls.length;\n",
       "\n",
       "    function on_load() {\n",
       "      root._bokeh_is_loading--;\n",
       "      if (root._bokeh_is_loading === 0) {\n",
       "        console.debug(\"Bokeh: all BokehJS libraries/stylesheets loaded\");\n",
       "        run_callbacks()\n",
       "      }\n",
       "    }\n",
       "\n",
       "    function on_error() {\n",
       "      console.error(\"failed to load \" + url);\n",
       "    }\n",
       "\n",
       "    for (var i = 0; i < css_urls.length; i++) {\n",
       "      var url = css_urls[i];\n",
       "      const element = document.createElement(\"link\");\n",
       "      element.onload = on_load;\n",
       "      element.onerror = on_error;\n",
       "      element.rel = \"stylesheet\";\n",
       "      element.type = \"text/css\";\n",
       "      element.href = url;\n",
       "      console.debug(\"Bokeh: injecting link tag for BokehJS stylesheet: \", url);\n",
       "      document.body.appendChild(element);\n",
       "    }\n",
       "\n",
       "    for (var i = 0; i < js_urls.length; i++) {\n",
       "      var url = js_urls[i];\n",
       "      var element = document.createElement('script');\n",
       "      element.onload = on_load;\n",
       "      element.onerror = on_error;\n",
       "      element.async = false;\n",
       "      element.src = url;\n",
       "      console.debug(\"Bokeh: injecting script tag for BokehJS library: \", url);\n",
       "      document.head.appendChild(element);\n",
       "    }\n",
       "  };\n",
       "\n",
       "  function inject_raw_css(css) {\n",
       "    const element = document.createElement(\"style\");\n",
       "    element.appendChild(document.createTextNode(css));\n",
       "    document.body.appendChild(element);\n",
       "  }\n",
       "\n",
       "  \n",
       "  var js_urls = [\"https://cdn.pydata.org/bokeh/release/bokeh-1.4.0.min.js\", \"https://cdn.pydata.org/bokeh/release/bokeh-widgets-1.4.0.min.js\", \"https://cdn.pydata.org/bokeh/release/bokeh-tables-1.4.0.min.js\", \"https://cdn.pydata.org/bokeh/release/bokeh-gl-1.4.0.min.js\"];\n",
       "  var css_urls = [];\n",
       "  \n",
       "\n",
       "  var inline_js = [\n",
       "    function(Bokeh) {\n",
       "      Bokeh.set_log_level(\"info\");\n",
       "    },\n",
       "    function(Bokeh) {\n",
       "    \n",
       "    \n",
       "    }\n",
       "  ];\n",
       "\n",
       "  function run_inline_js() {\n",
       "    \n",
       "    if (root.Bokeh !== undefined || force === true) {\n",
       "      \n",
       "    for (var i = 0; i < inline_js.length; i++) {\n",
       "      inline_js[i].call(root, root.Bokeh);\n",
       "    }\n",
       "    } else if (Date.now() < root._bokeh_timeout) {\n",
       "      setTimeout(run_inline_js, 100);\n",
       "    } else if (!root._bokeh_failed_load) {\n",
       "      console.log(\"Bokeh: BokehJS failed to load within specified timeout.\");\n",
       "      root._bokeh_failed_load = true;\n",
       "    } else if (force !== true) {\n",
       "      var cell = $(document.getElementById(null)).parents('.cell').data().cell;\n",
       "      cell.output_area.append_execute_result(NB_LOAD_WARNING)\n",
       "    }\n",
       "\n",
       "  }\n",
       "\n",
       "  if (root._bokeh_is_loading === 0) {\n",
       "    console.debug(\"Bokeh: BokehJS loaded, going straight to plotting\");\n",
       "    run_inline_js();\n",
       "  } else {\n",
       "    load_libs(css_urls, js_urls, function() {\n",
       "      console.debug(\"Bokeh: BokehJS plotting callback run at\", now());\n",
       "      run_inline_js();\n",
       "    });\n",
       "  }\n",
       "}(window));"
      ],
      "application/vnd.bokehjs_load.v0+json": "\n(function(root) {\n  function now() {\n    return new Date();\n  }\n\n  var force = true;\n\n  if (typeof root._bokeh_onload_callbacks === \"undefined\" || force === true) {\n    root._bokeh_onload_callbacks = [];\n    root._bokeh_is_loading = undefined;\n  }\n\n  \n\n  \n  if (typeof (root._bokeh_timeout) === \"undefined\" || force === true) {\n    root._bokeh_timeout = Date.now() + 5000;\n    root._bokeh_failed_load = false;\n  }\n\n  var NB_LOAD_WARNING = {'data': {'text/html':\n     \"<div style='background-color: #fdd'>\\n\"+\n     \"<p>\\n\"+\n     \"BokehJS does not appear to have successfully loaded. If loading BokehJS from CDN, this \\n\"+\n     \"may be due to a slow or bad network connection. Possible fixes:\\n\"+\n     \"</p>\\n\"+\n     \"<ul>\\n\"+\n     \"<li>re-rerun `output_notebook()` to attempt to load from CDN again, or</li>\\n\"+\n     \"<li>use INLINE resources instead, as so:</li>\\n\"+\n     \"</ul>\\n\"+\n     \"<code>\\n\"+\n     \"from bokeh.resources import INLINE\\n\"+\n     \"output_notebook(resources=INLINE)\\n\"+\n     \"</code>\\n\"+\n     \"</div>\"}};\n\n  function display_loaded() {\n    var el = document.getElementById(null);\n    if (el != null) {\n      el.textContent = \"BokehJS is loading...\";\n    }\n    if (root.Bokeh !== undefined) {\n      if (el != null) {\n        el.textContent = \"BokehJS \" + root.Bokeh.version + \" successfully loaded.\";\n      }\n    } else if (Date.now() < root._bokeh_timeout) {\n      setTimeout(display_loaded, 100)\n    }\n  }\n\n\n  function run_callbacks() {\n    try {\n      root._bokeh_onload_callbacks.forEach(function(callback) {\n        if (callback != null)\n          callback();\n      });\n    } finally {\n      delete root._bokeh_onload_callbacks\n    }\n    console.debug(\"Bokeh: all callbacks have finished\");\n  }\n\n  function load_libs(css_urls, js_urls, callback) {\n    if (css_urls == null) css_urls = [];\n    if (js_urls == null) js_urls = [];\n\n    root._bokeh_onload_callbacks.push(callback);\n    if (root._bokeh_is_loading > 0) {\n      console.debug(\"Bokeh: BokehJS is being loaded, scheduling callback at\", now());\n      return null;\n    }\n    if (js_urls == null || js_urls.length === 0) {\n      run_callbacks();\n      return null;\n    }\n    console.debug(\"Bokeh: BokehJS not loaded, scheduling load and callback at\", now());\n    root._bokeh_is_loading = css_urls.length + js_urls.length;\n\n    function on_load() {\n      root._bokeh_is_loading--;\n      if (root._bokeh_is_loading === 0) {\n        console.debug(\"Bokeh: all BokehJS libraries/stylesheets loaded\");\n        run_callbacks()\n      }\n    }\n\n    function on_error() {\n      console.error(\"failed to load \" + url);\n    }\n\n    for (var i = 0; i < css_urls.length; i++) {\n      var url = css_urls[i];\n      const element = document.createElement(\"link\");\n      element.onload = on_load;\n      element.onerror = on_error;\n      element.rel = \"stylesheet\";\n      element.type = \"text/css\";\n      element.href = url;\n      console.debug(\"Bokeh: injecting link tag for BokehJS stylesheet: \", url);\n      document.body.appendChild(element);\n    }\n\n    for (var i = 0; i < js_urls.length; i++) {\n      var url = js_urls[i];\n      var element = document.createElement('script');\n      element.onload = on_load;\n      element.onerror = on_error;\n      element.async = false;\n      element.src = url;\n      console.debug(\"Bokeh: injecting script tag for BokehJS library: \", url);\n      document.head.appendChild(element);\n    }\n  };\n\n  function inject_raw_css(css) {\n    const element = document.createElement(\"style\");\n    element.appendChild(document.createTextNode(css));\n    document.body.appendChild(element);\n  }\n\n  \n  var js_urls = [\"https://cdn.pydata.org/bokeh/release/bokeh-1.4.0.min.js\", \"https://cdn.pydata.org/bokeh/release/bokeh-widgets-1.4.0.min.js\", \"https://cdn.pydata.org/bokeh/release/bokeh-tables-1.4.0.min.js\", \"https://cdn.pydata.org/bokeh/release/bokeh-gl-1.4.0.min.js\"];\n  var css_urls = [];\n  \n\n  var inline_js = [\n    function(Bokeh) {\n      Bokeh.set_log_level(\"info\");\n    },\n    function(Bokeh) {\n    \n    \n    }\n  ];\n\n  function run_inline_js() {\n    \n    if (root.Bokeh !== undefined || force === true) {\n      \n    for (var i = 0; i < inline_js.length; i++) {\n      inline_js[i].call(root, root.Bokeh);\n    }\n    } else if (Date.now() < root._bokeh_timeout) {\n      setTimeout(run_inline_js, 100);\n    } else if (!root._bokeh_failed_load) {\n      console.log(\"Bokeh: BokehJS failed to load within specified timeout.\");\n      root._bokeh_failed_load = true;\n    } else if (force !== true) {\n      var cell = $(document.getElementById(null)).parents('.cell').data().cell;\n      cell.output_area.append_execute_result(NB_LOAD_WARNING)\n    }\n\n  }\n\n  if (root._bokeh_is_loading === 0) {\n    console.debug(\"Bokeh: BokehJS loaded, going straight to plotting\");\n    run_inline_js();\n  } else {\n    load_libs(css_urls, js_urls, function() {\n      console.debug(\"Bokeh: BokehJS plotting callback run at\", now());\n      run_inline_js();\n    });\n  }\n}(window));"
     },
     "metadata": {},
     "output_type": "display_data"
    },
    {
     "data": {
      "text/html": [
       "\n",
       "\n",
       "\n",
       "\n",
       "\n",
       "\n",
       "  <div class=\"bk-root\" id=\"346ae057-0e49-4307-b985-a84cc4994ef2\" data-root-id=\"1191\"></div>\n"
      ]
     },
     "metadata": {},
     "output_type": "display_data"
    },
    {
     "data": {
      "application/javascript": [
       "(function(root) {\n",
       "  function embed_document(root) {\n",
       "    \n",
       "  var docs_json = {\"58b00fd2-fa33-45e2-88a0-c156568f865b\":{\"roots\":{\"references\":[{\"attributes\":{\"children\":[[{\"id\":\"1001\",\"subtype\":\"Figure\",\"type\":\"Plot\"},0,0],[{\"id\":\"1032\",\"subtype\":\"Figure\",\"type\":\"Plot\"},0,1],[{\"id\":\"1063\",\"subtype\":\"Figure\",\"type\":\"Plot\"},0,2],[{\"id\":\"1094\",\"subtype\":\"Figure\",\"type\":\"Plot\"},1,0],[{\"id\":\"1125\",\"subtype\":\"Figure\",\"type\":\"Plot\"},1,1]]},\"id\":\"1191\",\"type\":\"GridBox\"},{\"attributes\":{},\"id\":\"1182\",\"type\":\"Selection\"},{\"attributes\":{\"bottom\":{\"value\":0.01},\"fill_alpha\":{\"value\":0.1},\"fill_color\":{\"value\":\"#1f77b4\"},\"line_alpha\":{\"value\":0.1},\"line_color\":{\"value\":\"#1f77b4\"},\"top\":{\"field\":\"cnt\"},\"width\":{\"value\":0.9},\"x\":{\"field\":\"col\"}},\"id\":\"1027\",\"type\":\"VBar\"},{\"attributes\":{},\"id\":\"1186\",\"type\":\"BasicTickFormatter\"},{\"attributes\":{\"axis_label\":\"Count\",\"formatter\":{\"id\":\"1158\",\"type\":\"BasicTickFormatter\"},\"major_label_text_font_size\":{\"value\":\"0pt\"},\"major_tick_line_color\":{\"value\":null},\"minor_tick_line_color\":{\"value\":null},\"ticker\":{\"id\":\"1017\",\"type\":\"BasicTicker\"}},\"id\":\"1016\",\"type\":\"LinearAxis\"},{\"attributes\":{},\"id\":\"1188\",\"type\":\"UnionRenderers\"},{\"attributes\":{},\"id\":\"1189\",\"type\":\"Selection\"},{\"attributes\":{\"below\":[{\"id\":\"1105\",\"type\":\"CategoricalAxis\"}],\"center\":[{\"id\":\"1108\",\"type\":\"Grid\"},{\"id\":\"1113\",\"type\":\"Grid\"}],\"left\":[{\"id\":\"1109\",\"type\":\"LinearAxis\"}],\"plot_height\":300,\"plot_width\":324,\"renderers\":[{\"id\":\"1121\",\"type\":\"GlyphRenderer\"}],\"title\":{\"id\":\"1095\",\"type\":\"Title\"},\"toolbar\":{\"id\":\"1115\",\"type\":\"Toolbar\"},\"toolbar_location\":null,\"x_range\":{\"id\":\"1097\",\"type\":\"FactorRange\"},\"x_scale\":{\"id\":\"1101\",\"type\":\"CategoricalScale\"},\"y_range\":{\"id\":\"1099\",\"type\":\"DataRange1d\"},\"y_scale\":{\"id\":\"1103\",\"type\":\"LinearScale\"}},\"id\":\"1094\",\"subtype\":\"Figure\",\"type\":\"Plot\"},{\"attributes\":{\"callback\":null,\"factors\":[\"Andrei Bulatov\",\"Angel Chang\",\"Angelica Lim\",\"Anne Lavergne\",\"Anoop Sarkar\",\"Arrvindh Shriraman\",\"Binay Bhattacharya\",\"Bobby Chan\",\"Brad Bart\",\"Brian Fraser\"]},\"id\":\"1004\",\"type\":\"FactorRange\"},{\"attributes\":{},\"id\":\"1070\",\"type\":\"CategoricalScale\"},{\"attributes\":{\"callback\":null},\"id\":\"1068\",\"type\":\"DataRange1d\"},{\"attributes\":{},\"id\":\"1072\",\"type\":\"LinearScale\"},{\"attributes\":{\"source\":{\"id\":\"1117\",\"type\":\"ColumnDataSource\"}},\"id\":\"1122\",\"type\":\"CDSView\"},{\"attributes\":{},\"id\":\"1017\",\"type\":\"BasicTicker\"},{\"attributes\":{\"bottom\":{\"value\":0.01},\"fill_color\":{\"value\":\"#1f77b4\"},\"line_color\":{\"value\":\"#1f77b4\"},\"top\":{\"field\":\"cnt\"},\"width\":{\"value\":0.9},\"x\":{\"field\":\"col\"}},\"id\":\"1119\",\"type\":\"VBar\"},{\"attributes\":{\"axis_label\":\"Top 10 of 53 area\",\"axis_label_standoff\":0,\"formatter\":{\"id\":\"1092\",\"type\":\"FuncTickFormatter\"},\"major_label_orientation\":1.0471975511965976,\"major_label_text_font_size\":{\"value\":\"9pt\"},\"minor_tick_line_color\":{\"value\":null},\"ticker\":{\"id\":\"1075\",\"type\":\"CategoricalTicker\"}},\"id\":\"1074\",\"type\":\"CategoricalAxis\"},{\"attributes\":{},\"id\":\"1075\",\"type\":\"CategoricalTicker\"},{\"attributes\":{\"text\":\"name\",\"text_font_size\":{\"value\":\"10pt\"}},\"id\":\"1002\",\"type\":\"Title\"},{\"attributes\":{\"axis_label\":\"Count\",\"formatter\":{\"id\":\"1172\",\"type\":\"BasicTickFormatter\"},\"major_label_text_font_size\":{\"value\":\"0pt\"},\"major_tick_line_color\":{\"value\":null},\"minor_tick_line_color\":{\"value\":null},\"ticker\":{\"id\":\"1079\",\"type\":\"BasicTicker\"}},\"id\":\"1078\",\"type\":\"LinearAxis\"},{\"attributes\":{},\"id\":\"1013\",\"type\":\"CategoricalTicker\"},{\"attributes\":{\"grid_line_color\":null,\"ticker\":{\"id\":\"1075\",\"type\":\"CategoricalTicker\"}},\"id\":\"1077\",\"type\":\"Grid\"},{\"attributes\":{\"axis_label\":\"Top 10 of 64 name\",\"axis_label_standoff\":0,\"formatter\":{\"id\":\"1030\",\"type\":\"FuncTickFormatter\"},\"major_label_orientation\":1.0471975511965976,\"major_label_text_font_size\":{\"value\":\"9pt\"},\"minor_tick_line_color\":{\"value\":null},\"ticker\":{\"id\":\"1013\",\"type\":\"CategoricalTicker\"}},\"id\":\"1012\",\"type\":\"CategoricalAxis\"},{\"attributes\":{\"below\":[{\"id\":\"1136\",\"type\":\"CategoricalAxis\"}],\"center\":[{\"id\":\"1139\",\"type\":\"Grid\"},{\"id\":\"1144\",\"type\":\"Grid\"}],\"left\":[{\"id\":\"1140\",\"type\":\"LinearAxis\"}],\"plot_height\":300,\"plot_width\":324,\"renderers\":[{\"id\":\"1152\",\"type\":\"GlyphRenderer\"}],\"title\":{\"id\":\"1126\",\"type\":\"Title\"},\"toolbar\":{\"id\":\"1146\",\"type\":\"Toolbar\"},\"toolbar_location\":null,\"x_range\":{\"id\":\"1128\",\"type\":\"FactorRange\"},\"x_scale\":{\"id\":\"1132\",\"type\":\"CategoricalScale\"},\"y_range\":{\"id\":\"1130\",\"type\":\"DataRange1d\"},\"y_scale\":{\"id\":\"1134\",\"type\":\"LinearScale\"}},\"id\":\"1125\",\"subtype\":\"Figure\",\"type\":\"Plot\"},{\"attributes\":{\"text\":\"profile\",\"text_font_size\":{\"value\":\"10pt\"}},\"id\":\"1095\",\"type\":\"Title\"},{\"attributes\":{\"callback\":null,\"data\":{\"cnt\":[1,1,1,1,1,1,1,1,1,1],\"col\":[\"http://www.sfu.ca/computing/people/faculty/ArrvindhShriraman.html\",\"http://www.sfu.ca/computing/people/faculty/EugeniaTernovska.html\",\"http://www.sfu.ca/computing/people/faculty/JosephPeters.html\",\"http://www.sfu.ca/computing/people/faculty/NickSumner.html\",\"http://www.sfu.ca/computing/people/faculty/QianpingGu.html\",\"http://www.sfu.ca/computing/people/faculty/RameshKrishnamurti.html\",\"http://www.sfu.ca/computing/people/faculty/andreibulatov.html\",\"http://www.sfu.ca/computing/people/faculty/angelchang.html\",\"http://www.sfu.ca/computing/people/faculty/angelicalim.html\",\"http://www.sfu.ca/computing/people/faculty/annelavergne.html\"],\"index\":[0,1,2,3,4,5,6,7,8,9],\"pct\":{\"__ndarray__\":\"AAAAAAAA+T8AAAAAAAD5PwAAAAAAAPk/AAAAAAAA+T8AAAAAAAD5PwAAAAAAAPk/AAAAAAAA+T8AAAAAAAD5PwAAAAAAAPk/AAAAAAAA+T8=\",\"dtype\":\"float64\",\"shape\":[10]}},\"selected\":{\"id\":\"1182\",\"type\":\"Selection\"},\"selection_policy\":{\"id\":\"1181\",\"type\":\"UnionRenderers\"}},\"id\":\"1117\",\"type\":\"ColumnDataSource\"},{\"attributes\":{\"code\":\"\\n            if (tick.length > 15) return tick.substring(0, 15-2) + '...';\\n            else return tick;\\n        \"},\"id\":\"1030\",\"type\":\"FuncTickFormatter\"},{\"attributes\":{\"code\":\"\\n            if (tick.length > 15) return tick.substring(0, 15-2) + '...';\\n            else return tick;\\n        \"},\"id\":\"1123\",\"type\":\"FuncTickFormatter\"},{\"attributes\":{},\"id\":\"1008\",\"type\":\"CategoricalScale\"},{\"attributes\":{\"text\":\"homepage\",\"text_font_size\":{\"value\":\"10pt\"}},\"id\":\"1126\",\"type\":\"Title\"},{\"attributes\":{\"active_drag\":\"auto\",\"active_inspect\":\"auto\",\"active_multi\":null,\"active_scroll\":\"auto\",\"active_tap\":\"auto\",\"tools\":[{\"id\":\"1021\",\"type\":\"HoverTool\"}]},\"id\":\"1022\",\"type\":\"Toolbar\"},{\"attributes\":{\"callback\":null},\"id\":\"1099\",\"type\":\"DataRange1d\"},{\"attributes\":{},\"id\":\"1010\",\"type\":\"LinearScale\"},{\"attributes\":{\"grid_line_color\":null,\"ticker\":{\"id\":\"1013\",\"type\":\"CategoricalTicker\"}},\"id\":\"1015\",\"type\":\"Grid\"},{\"attributes\":{\"dimension\":1,\"grid_line_color\":null,\"ticker\":{\"id\":\"1110\",\"type\":\"BasicTicker\"}},\"id\":\"1113\",\"type\":\"Grid\"},{\"attributes\":{},\"id\":\"1101\",\"type\":\"CategoricalScale\"},{\"attributes\":{},\"id\":\"1103\",\"type\":\"LinearScale\"},{\"attributes\":{\"active_drag\":\"auto\",\"active_inspect\":\"auto\",\"active_multi\":null,\"active_scroll\":\"auto\",\"active_tap\":\"auto\",\"tools\":[{\"id\":\"1114\",\"type\":\"HoverTool\"}]},\"id\":\"1115\",\"type\":\"Toolbar\"},{\"attributes\":{\"below\":[{\"id\":\"1012\",\"type\":\"CategoricalAxis\"}],\"center\":[{\"id\":\"1015\",\"type\":\"Grid\"},{\"id\":\"1020\",\"type\":\"Grid\"}],\"left\":[{\"id\":\"1016\",\"type\":\"LinearAxis\"}],\"plot_height\":300,\"plot_width\":324,\"renderers\":[{\"id\":\"1028\",\"type\":\"GlyphRenderer\"}],\"title\":{\"id\":\"1002\",\"type\":\"Title\"},\"toolbar\":{\"id\":\"1022\",\"type\":\"Toolbar\"},\"toolbar_location\":null,\"x_range\":{\"id\":\"1004\",\"type\":\"FactorRange\"},\"x_scale\":{\"id\":\"1008\",\"type\":\"CategoricalScale\"},\"y_range\":{\"id\":\"1006\",\"type\":\"DataRange1d\"},\"y_scale\":{\"id\":\"1010\",\"type\":\"LinearScale\"}},\"id\":\"1001\",\"subtype\":\"Figure\",\"type\":\"Plot\"},{\"attributes\":{\"data_source\":{\"id\":\"1117\",\"type\":\"ColumnDataSource\"},\"glyph\":{\"id\":\"1119\",\"type\":\"VBar\"},\"hover_glyph\":null,\"muted_glyph\":null,\"nonselection_glyph\":{\"id\":\"1120\",\"type\":\"VBar\"},\"selection_glyph\":null,\"view\":{\"id\":\"1122\",\"type\":\"CDSView\"}},\"id\":\"1121\",\"type\":\"GlyphRenderer\"},{\"attributes\":{\"grid_line_color\":null,\"ticker\":{\"id\":\"1106\",\"type\":\"CategoricalTicker\"}},\"id\":\"1108\",\"type\":\"Grid\"},{\"attributes\":{\"axis_label\":\"Count\",\"formatter\":{\"id\":\"1179\",\"type\":\"BasicTickFormatter\"},\"major_label_text_font_size\":{\"value\":\"0pt\"},\"major_tick_line_color\":{\"value\":null},\"minor_tick_line_color\":{\"value\":null},\"ticker\":{\"id\":\"1110\",\"type\":\"BasicTicker\"}},\"id\":\"1109\",\"type\":\"LinearAxis\"},{\"attributes\":{\"callback\":null},\"id\":\"1006\",\"type\":\"DataRange1d\"},{\"attributes\":{\"callback\":null,\"tooltips\":[[\"name\",\"@col\"],[\"Count\",\"@cnt\"],[\"Percent\",\"@pct{0.2f}%\"]]},\"id\":\"1021\",\"type\":\"HoverTool\"},{\"attributes\":{\"callback\":null,\"data\":{\"cnt\":[13,2,2,2,2,1,1,1,1,1],\"col\":[\" \",\"http://www.cs.sfu.ca/~ashriram/\",\"http://www.cs.sfu.ca/~jpei/\",\"http://www.cs.sfu.ca/~mark/\",\"http://www.cs.sfu.ca/~ter/\",\"/computing/people/faculty/bobbychan1.html#main_content_title\",\"/computing/people/faculty/sabaalimadadi.html\",\"http://hci.cs.sfu.ca/\",\"http://people.inf.ethz.ch/aksoyy/\",\"http://www.cs.sfu.ca/~abulatov/\"],\"index\":[0,1,2,3,4,5,6,7,8,9],\"pct\":{\"__ndarray__\":\"AAAAAABQNEAAAAAAAAAJQAAAAAAAAAlAAAAAAAAACUAAAAAAAAAJQAAAAAAAAPk/AAAAAAAA+T8AAAAAAAD5PwAAAAAAAPk/AAAAAAAA+T8=\",\"dtype\":\"float64\",\"shape\":[10]}},\"selected\":{\"id\":\"1189\",\"type\":\"Selection\"},\"selection_policy\":{\"id\":\"1188\",\"type\":\"UnionRenderers\"}},\"id\":\"1148\",\"type\":\"ColumnDataSource\"},{\"attributes\":{\"dimension\":1,\"grid_line_color\":null,\"ticker\":{\"id\":\"1017\",\"type\":\"BasicTicker\"}},\"id\":\"1020\",\"type\":\"Grid\"},{\"attributes\":{\"callback\":null,\"tooltips\":[[\"profile\",\"@col\"],[\"Count\",\"@cnt\"],[\"Percent\",\"@pct{0.2f}%\"]]},\"id\":\"1114\",\"type\":\"HoverTool\"},{\"attributes\":{\"bottom\":{\"value\":0.01},\"fill_alpha\":{\"value\":0.1},\"fill_color\":{\"value\":\"#1f77b4\"},\"line_alpha\":{\"value\":0.1},\"line_color\":{\"value\":\"#1f77b4\"},\"top\":{\"field\":\"cnt\"},\"width\":{\"value\":0.9},\"x\":{\"field\":\"col\"}},\"id\":\"1120\",\"type\":\"VBar\"},{\"attributes\":{},\"id\":\"1160\",\"type\":\"UnionRenderers\"},{\"attributes\":{},\"id\":\"1110\",\"type\":\"BasicTicker\"},{\"attributes\":{},\"id\":\"1158\",\"type\":\"BasicTickFormatter\"},{\"attributes\":{},\"id\":\"1106\",\"type\":\"CategoricalTicker\"},{\"attributes\":{\"callback\":null,\"factors\":[\"http://www.sfu.ca/computing/people/faculty/ArrvindhShriraman.html\",\"http://www.sfu.ca/computing/people/faculty/EugeniaTernovska.html\",\"http://www.sfu.ca/computing/people/faculty/JosephPeters.html\",\"http://www.sfu.ca/computing/people/faculty/NickSumner.html\",\"http://www.sfu.ca/computing/people/faculty/QianpingGu.html\",\"http://www.sfu.ca/computing/people/faculty/RameshKrishnamurti.html\",\"http://www.sfu.ca/computing/people/faculty/andreibulatov.html\",\"http://www.sfu.ca/computing/people/faculty/angelchang.html\",\"http://www.sfu.ca/computing/people/faculty/angelicalim.html\",\"http://www.sfu.ca/computing/people/faculty/annelavergne.html\"]},\"id\":\"1097\",\"type\":\"FactorRange\"},{\"attributes\":{\"callback\":null,\"data\":{\"cnt\":[1,1,1,1,1,1,1,1,1,1],\"col\":[\"Andrei Bulatov\",\"Angel Chang\",\"Angelica Lim\",\"Anne Lavergne\",\"Anoop Sarkar\",\"Arrvindh Shriraman\",\"Binay Bhattacharya\",\"Bobby Chan\",\"Brad Bart\",\"Brian Fraser\"],\"index\":[0,1,2,3,4,5,6,7,8,9],\"pct\":{\"__ndarray__\":\"AAAAAAAA+T8AAAAAAAD5PwAAAAAAAPk/AAAAAAAA+T8AAAAAAAD5PwAAAAAAAPk/AAAAAAAA+T8AAAAAAAD5PwAAAAAAAPk/AAAAAAAA+T8=\",\"dtype\":\"float64\",\"shape\":[10]}},\"selected\":{\"id\":\"1161\",\"type\":\"Selection\"},\"selection_policy\":{\"id\":\"1160\",\"type\":\"UnionRenderers\"}},\"id\":\"1024\",\"type\":\"ColumnDataSource\"},{\"attributes\":{\"axis_label\":\"Top 10 of 64 profile\",\"axis_label_standoff\":0,\"formatter\":{\"id\":\"1123\",\"type\":\"FuncTickFormatter\"},\"major_label_orientation\":1.0471975511965976,\"major_label_text_font_size\":{\"value\":\"9pt\"},\"minor_tick_line_color\":{\"value\":null},\"ticker\":{\"id\":\"1106\",\"type\":\"CategoricalTicker\"}},\"id\":\"1105\",\"type\":\"CategoricalAxis\"},{\"attributes\":{\"bottom\":{\"value\":0.01},\"fill_color\":{\"value\":\"#1f77b4\"},\"line_color\":{\"value\":\"#1f77b4\"},\"top\":{\"field\":\"cnt\"},\"width\":{\"value\":0.9},\"x\":{\"field\":\"col\"}},\"id\":\"1026\",\"type\":\"VBar\"},{\"attributes\":{},\"id\":\"1044\",\"type\":\"CategoricalTicker\"},{\"attributes\":{\"callback\":null,\"tooltips\":[[\"area\",\"@col\"],[\"Count\",\"@cnt\"],[\"Percent\",\"@pct{0.2f}%\"]]},\"id\":\"1083\",\"type\":\"HoverTool\"},{\"attributes\":{\"data_source\":{\"id\":\"1148\",\"type\":\"ColumnDataSource\"},\"glyph\":{\"id\":\"1150\",\"type\":\"VBar\"},\"hover_glyph\":null,\"muted_glyph\":null,\"nonselection_glyph\":{\"id\":\"1151\",\"type\":\"VBar\"},\"selection_glyph\":null,\"view\":{\"id\":\"1153\",\"type\":\"CDSView\"}},\"id\":\"1152\",\"type\":\"GlyphRenderer\"},{\"attributes\":{\"bottom\":{\"value\":0.01},\"fill_alpha\":{\"value\":0.1},\"fill_color\":{\"value\":\"#1f77b4\"},\"line_alpha\":{\"value\":0.1},\"line_color\":{\"value\":\"#1f77b4\"},\"top\":{\"field\":\"cnt\"},\"width\":{\"value\":0.9},\"x\":{\"field\":\"col\"}},\"id\":\"1151\",\"type\":\"VBar\"},{\"attributes\":{\"callback\":null},\"id\":\"1037\",\"type\":\"DataRange1d\"},{\"attributes\":{},\"id\":\"1168\",\"type\":\"Selection\"},{\"attributes\":{\"bottom\":{\"value\":0.01},\"fill_alpha\":{\"value\":0.1},\"fill_color\":{\"value\":\"#1f77b4\"},\"line_alpha\":{\"value\":0.1},\"line_color\":{\"value\":\"#1f77b4\"},\"top\":{\"field\":\"cnt\"},\"width\":{\"value\":0.9},\"x\":{\"field\":\"col\"}},\"id\":\"1089\",\"type\":\"VBar\"},{\"attributes\":{\"dimension\":1,\"grid_line_color\":null,\"ticker\":{\"id\":\"1048\",\"type\":\"BasicTicker\"}},\"id\":\"1051\",\"type\":\"Grid\"},{\"attributes\":{\"axis_label\":\"Count\",\"formatter\":{\"id\":\"1186\",\"type\":\"BasicTickFormatter\"},\"major_label_text_font_size\":{\"value\":\"0pt\"},\"major_tick_line_color\":{\"value\":null},\"minor_tick_line_color\":{\"value\":null},\"ticker\":{\"id\":\"1141\",\"type\":\"BasicTicker\"}},\"id\":\"1140\",\"type\":\"LinearAxis\"},{\"attributes\":{\"text\":\"rank\",\"text_font_size\":{\"value\":\"10pt\"}},\"id\":\"1033\",\"type\":\"Title\"},{\"attributes\":{\"formatter\":{\"id\":\"1061\",\"type\":\"FuncTickFormatter\"},\"major_label_orientation\":1.0471975511965976,\"major_label_text_font_size\":{\"value\":\"9pt\"},\"minor_tick_line_color\":{\"value\":null},\"ticker\":{\"id\":\"1044\",\"type\":\"CategoricalTicker\"}},\"id\":\"1043\",\"type\":\"CategoricalAxis\"},{\"attributes\":{\"bottom\":{\"value\":0.01},\"fill_color\":{\"value\":\"#1f77b4\"},\"line_color\":{\"value\":\"#1f77b4\"},\"top\":{\"field\":\"cnt\"},\"width\":{\"value\":0.9},\"x\":{\"field\":\"col\"}},\"id\":\"1088\",\"type\":\"VBar\"},{\"attributes\":{\"active_drag\":\"auto\",\"active_inspect\":\"auto\",\"active_multi\":null,\"active_scroll\":\"auto\",\"active_tap\":\"auto\",\"tools\":[{\"id\":\"1145\",\"type\":\"HoverTool\"}]},\"id\":\"1146\",\"type\":\"Toolbar\"},{\"attributes\":{\"bottom\":{\"value\":0.01},\"fill_color\":{\"value\":\"#1f77b4\"},\"line_color\":{\"value\":\"#1f77b4\"},\"top\":{\"field\":\"cnt\"},\"width\":{\"value\":0.9},\"x\":{\"field\":\"col\"}},\"id\":\"1057\",\"type\":\"VBar\"},{\"attributes\":{},\"id\":\"1181\",\"type\":\"UnionRenderers\"},{\"attributes\":{\"callback\":null},\"id\":\"1130\",\"type\":\"DataRange1d\"},{\"attributes\":{\"grid_line_color\":null,\"ticker\":{\"id\":\"1044\",\"type\":\"CategoricalTicker\"}},\"id\":\"1046\",\"type\":\"Grid\"},{\"attributes\":{},\"id\":\"1174\",\"type\":\"UnionRenderers\"},{\"attributes\":{\"active_drag\":\"auto\",\"active_inspect\":\"auto\",\"active_multi\":null,\"active_scroll\":\"auto\",\"active_tap\":\"auto\",\"tools\":[{\"id\":\"1083\",\"type\":\"HoverTool\"}]},\"id\":\"1084\",\"type\":\"Toolbar\"},{\"attributes\":{\"callback\":null,\"data\":{\"cnt\":[29,12,9,8,3,2,1],\"col\":[\"Professor\",\"Assistant Professor\",\"Associate Professor\",\"Senior Lecturer\",\"Lecturer\",\"University Lecturer\",\"Assistant Professor Of Professional Practice\"],\"index\":[0,1,2,3,4,5,6],\"pct\":{\"__ndarray__\":\"AAAAAACoRkAAAAAAAMAyQAAAAAAAICxAAAAAAAAAKUAAAAAAAMASQAAAAAAAAAlAAAAAAAAA+T8=\",\"dtype\":\"float64\",\"shape\":[7]}},\"selected\":{\"id\":\"1168\",\"type\":\"Selection\"},\"selection_policy\":{\"id\":\"1167\",\"type\":\"UnionRenderers\"}},\"id\":\"1055\",\"type\":\"ColumnDataSource\"},{\"attributes\":{\"code\":\"\\n            if (tick.length > 15) return tick.substring(0, 15-2) + '...';\\n            else return tick;\\n        \"},\"id\":\"1154\",\"type\":\"FuncTickFormatter\"},{\"attributes\":{},\"id\":\"1048\",\"type\":\"BasicTicker\"},{\"attributes\":{\"source\":{\"id\":\"1024\",\"type\":\"ColumnDataSource\"}},\"id\":\"1029\",\"type\":\"CDSView\"},{\"attributes\":{},\"id\":\"1167\",\"type\":\"UnionRenderers\"},{\"attributes\":{\"callback\":null,\"data\":{\"cnt\":[10,2,2,1,1,1,1,1,1,1],\"col\":[\"Instruction\",\"Databases And Data Mining\",\"Robotics And Autonomous Systems\",\" Computational Linguistics And Logic Programming\",\"Artificial Intelligence, Robotics, Multi-Agent/Robot Systems, Machine Learning\",\"Automated Debugging, Debugging Tools, Concurrency & Parallelism, Program Analysis & Transformation\",\"Bioinformatics, Evolutionary Computation, Computational Intelligence, Visualization\",\"Combinatorial Optimization And Approximation Algorithms\",\"Computational Biology\",\"Computational Biology And Machine Learning\"],\"index\":[0,1,2,3,4,5,6,7,8,9],\"pct\":{\"__ndarray__\":\"AAAAAABAL0AAAAAAAAAJQAAAAAAAAAlAAAAAAAAA+T8AAAAAAAD5PwAAAAAAAPk/AAAAAAAA+T8AAAAAAAD5PwAAAAAAAPk/AAAAAAAA+T8=\",\"dtype\":\"float64\",\"shape\":[10]}},\"selected\":{\"id\":\"1175\",\"type\":\"Selection\"},\"selection_policy\":{\"id\":\"1174\",\"type\":\"UnionRenderers\"}},\"id\":\"1086\",\"type\":\"ColumnDataSource\"},{\"attributes\":{\"callback\":null,\"factors\":[\" \",\"http://www.cs.sfu.ca/~ashriram/\",\"http://www.cs.sfu.ca/~jpei/\",\"http://www.cs.sfu.ca/~mark/\",\"http://www.cs.sfu.ca/~ter/\",\"/computing/people/faculty/bobbychan1.html#main_content_title\",\"/computing/people/faculty/sabaalimadadi.html\",\"http://hci.cs.sfu.ca/\",\"http://people.inf.ethz.ch/aksoyy/\",\"http://www.cs.sfu.ca/~abulatov/\"]},\"id\":\"1128\",\"type\":\"FactorRange\"},{\"attributes\":{},\"id\":\"1179\",\"type\":\"BasicTickFormatter\"},{\"attributes\":{},\"id\":\"1137\",\"type\":\"CategoricalTicker\"},{\"attributes\":{\"code\":\"\\n            if (tick.length > 15) return tick.substring(0, 15-2) + '...';\\n            else return tick;\\n        \"},\"id\":\"1092\",\"type\":\"FuncTickFormatter\"},{\"attributes\":{\"axis_label\":\"Count\",\"formatter\":{\"id\":\"1165\",\"type\":\"BasicTickFormatter\"},\"major_label_text_font_size\":{\"value\":\"0pt\"},\"major_tick_line_color\":{\"value\":null},\"minor_tick_line_color\":{\"value\":null},\"ticker\":{\"id\":\"1048\",\"type\":\"BasicTicker\"}},\"id\":\"1047\",\"type\":\"LinearAxis\"},{\"attributes\":{\"grid_line_color\":null,\"ticker\":{\"id\":\"1137\",\"type\":\"CategoricalTicker\"}},\"id\":\"1139\",\"type\":\"Grid\"},{\"attributes\":{\"data_source\":{\"id\":\"1086\",\"type\":\"ColumnDataSource\"},\"glyph\":{\"id\":\"1088\",\"type\":\"VBar\"},\"hover_glyph\":null,\"muted_glyph\":null,\"nonselection_glyph\":{\"id\":\"1089\",\"type\":\"VBar\"},\"selection_glyph\":null,\"view\":{\"id\":\"1091\",\"type\":\"CDSView\"}},\"id\":\"1090\",\"type\":\"GlyphRenderer\"},{\"attributes\":{},\"id\":\"1172\",\"type\":\"BasicTickFormatter\"},{\"attributes\":{},\"id\":\"1175\",\"type\":\"Selection\"},{\"attributes\":{\"text\":\"area\",\"text_font_size\":{\"value\":\"10pt\"}},\"id\":\"1064\",\"type\":\"Title\"},{\"attributes\":{\"dimension\":1,\"grid_line_color\":null,\"ticker\":{\"id\":\"1141\",\"type\":\"BasicTicker\"}},\"id\":\"1144\",\"type\":\"Grid\"},{\"attributes\":{\"bottom\":{\"value\":0.01},\"fill_alpha\":{\"value\":0.1},\"fill_color\":{\"value\":\"#1f77b4\"},\"line_alpha\":{\"value\":0.1},\"line_color\":{\"value\":\"#1f77b4\"},\"top\":{\"field\":\"cnt\"},\"width\":{\"value\":0.9},\"x\":{\"field\":\"col\"}},\"id\":\"1058\",\"type\":\"VBar\"},{\"attributes\":{},\"id\":\"1039\",\"type\":\"CategoricalScale\"},{\"attributes\":{\"code\":\"\\n            if (tick.length > 15) return tick.substring(0, 15-2) + '...';\\n            else return tick;\\n        \"},\"id\":\"1061\",\"type\":\"FuncTickFormatter\"},{\"attributes\":{},\"id\":\"1041\",\"type\":\"LinearScale\"},{\"attributes\":{\"active_drag\":\"auto\",\"active_inspect\":\"auto\",\"active_multi\":null,\"active_scroll\":\"auto\",\"active_tap\":\"auto\",\"tools\":[{\"id\":\"1052\",\"type\":\"HoverTool\"}]},\"id\":\"1053\",\"type\":\"Toolbar\"},{\"attributes\":{},\"id\":\"1132\",\"type\":\"CategoricalScale\"},{\"attributes\":{\"callback\":null,\"factors\":[\"Instruction\",\"Databases And Data Mining\",\"Robotics And Autonomous Systems\",\" Computational Linguistics And Logic Programming\",\"Artificial Intelligence, Robotics, Multi-Agent/Robot Systems, Machine Learning\",\"Automated Debugging, Debugging Tools, Concurrency & Parallelism, Program Analysis & Transformation\",\"Bioinformatics, Evolutionary Computation, Computational Intelligence, Visualization\",\"Combinatorial Optimization And Approximation Algorithms\",\"Computational Biology\",\"Computational Biology And Machine Learning\"]},\"id\":\"1066\",\"type\":\"FactorRange\"},{\"attributes\":{},\"id\":\"1079\",\"type\":\"BasicTicker\"},{\"attributes\":{\"below\":[{\"id\":\"1043\",\"type\":\"CategoricalAxis\"}],\"center\":[{\"id\":\"1046\",\"type\":\"Grid\"},{\"id\":\"1051\",\"type\":\"Grid\"}],\"left\":[{\"id\":\"1047\",\"type\":\"LinearAxis\"}],\"plot_height\":300,\"plot_width\":324,\"renderers\":[{\"id\":\"1059\",\"type\":\"GlyphRenderer\"}],\"title\":{\"id\":\"1033\",\"type\":\"Title\"},\"toolbar\":{\"id\":\"1053\",\"type\":\"Toolbar\"},\"toolbar_location\":null,\"x_range\":{\"id\":\"1035\",\"type\":\"FactorRange\"},\"x_scale\":{\"id\":\"1039\",\"type\":\"CategoricalScale\"},\"y_range\":{\"id\":\"1037\",\"type\":\"DataRange1d\"},\"y_scale\":{\"id\":\"1041\",\"type\":\"LinearScale\"}},\"id\":\"1032\",\"subtype\":\"Figure\",\"type\":\"Plot\"},{\"attributes\":{\"below\":[{\"id\":\"1074\",\"type\":\"CategoricalAxis\"}],\"center\":[{\"id\":\"1077\",\"type\":\"Grid\"},{\"id\":\"1082\",\"type\":\"Grid\"}],\"left\":[{\"id\":\"1078\",\"type\":\"LinearAxis\"}],\"plot_height\":300,\"plot_width\":324,\"renderers\":[{\"id\":\"1090\",\"type\":\"GlyphRenderer\"}],\"title\":{\"id\":\"1064\",\"type\":\"Title\"},\"toolbar\":{\"id\":\"1084\",\"type\":\"Toolbar\"},\"toolbar_location\":null,\"x_range\":{\"id\":\"1066\",\"type\":\"FactorRange\"},\"x_scale\":{\"id\":\"1070\",\"type\":\"CategoricalScale\"},\"y_range\":{\"id\":\"1068\",\"type\":\"DataRange1d\"},\"y_scale\":{\"id\":\"1072\",\"type\":\"LinearScale\"}},\"id\":\"1063\",\"subtype\":\"Figure\",\"type\":\"Plot\"},{\"attributes\":{\"callback\":null,\"tooltips\":[[\"rank\",\"@col\"],[\"Count\",\"@cnt\"],[\"Percent\",\"@pct{0.2f}%\"]]},\"id\":\"1052\",\"type\":\"HoverTool\"},{\"attributes\":{\"dimension\":1,\"grid_line_color\":null,\"ticker\":{\"id\":\"1079\",\"type\":\"BasicTicker\"}},\"id\":\"1082\",\"type\":\"Grid\"},{\"attributes\":{},\"id\":\"1161\",\"type\":\"Selection\"},{\"attributes\":{\"source\":{\"id\":\"1055\",\"type\":\"ColumnDataSource\"}},\"id\":\"1060\",\"type\":\"CDSView\"},{\"attributes\":{\"source\":{\"id\":\"1086\",\"type\":\"ColumnDataSource\"}},\"id\":\"1091\",\"type\":\"CDSView\"},{\"attributes\":{},\"id\":\"1134\",\"type\":\"LinearScale\"},{\"attributes\":{\"source\":{\"id\":\"1148\",\"type\":\"ColumnDataSource\"}},\"id\":\"1153\",\"type\":\"CDSView\"},{\"attributes\":{},\"id\":\"1165\",\"type\":\"BasicTickFormatter\"},{\"attributes\":{\"callback\":null,\"factors\":[\"Professor\",\"Assistant Professor\",\"Associate Professor\",\"Senior Lecturer\",\"Lecturer\",\"University Lecturer\",\"Assistant Professor Of Professional Practice\"]},\"id\":\"1035\",\"type\":\"FactorRange\"},{\"attributes\":{\"data_source\":{\"id\":\"1024\",\"type\":\"ColumnDataSource\"},\"glyph\":{\"id\":\"1026\",\"type\":\"VBar\"},\"hover_glyph\":null,\"muted_glyph\":null,\"nonselection_glyph\":{\"id\":\"1027\",\"type\":\"VBar\"},\"selection_glyph\":null,\"view\":{\"id\":\"1029\",\"type\":\"CDSView\"}},\"id\":\"1028\",\"type\":\"GlyphRenderer\"},{\"attributes\":{\"callback\":null,\"tooltips\":[[\"homepage\",\"@col\"],[\"Count\",\"@cnt\"],[\"Percent\",\"@pct{0.2f}%\"]]},\"id\":\"1145\",\"type\":\"HoverTool\"},{\"attributes\":{},\"id\":\"1141\",\"type\":\"BasicTicker\"},{\"attributes\":{\"bottom\":{\"value\":0.01},\"fill_color\":{\"value\":\"#1f77b4\"},\"line_color\":{\"value\":\"#1f77b4\"},\"top\":{\"field\":\"cnt\"},\"width\":{\"value\":0.9},\"x\":{\"field\":\"col\"}},\"id\":\"1150\",\"type\":\"VBar\"},{\"attributes\":{\"axis_label\":\"Top 10 of 48 homepage\",\"axis_label_standoff\":0,\"formatter\":{\"id\":\"1154\",\"type\":\"FuncTickFormatter\"},\"major_label_orientation\":1.0471975511965976,\"major_label_text_font_size\":{\"value\":\"9pt\"},\"minor_tick_line_color\":{\"value\":null},\"ticker\":{\"id\":\"1137\",\"type\":\"CategoricalTicker\"}},\"id\":\"1136\",\"type\":\"CategoricalAxis\"},{\"attributes\":{\"data_source\":{\"id\":\"1055\",\"type\":\"ColumnDataSource\"},\"glyph\":{\"id\":\"1057\",\"type\":\"VBar\"},\"hover_glyph\":null,\"muted_glyph\":null,\"nonselection_glyph\":{\"id\":\"1058\",\"type\":\"VBar\"},\"selection_glyph\":null,\"view\":{\"id\":\"1060\",\"type\":\"CDSView\"}},\"id\":\"1059\",\"type\":\"GlyphRenderer\"}],\"root_ids\":[\"1191\"]},\"title\":\"Bokeh Application\",\"version\":\"1.4.0\"}};\n",
       "  var render_items = [{\"docid\":\"58b00fd2-fa33-45e2-88a0-c156568f865b\",\"roots\":{\"1191\":\"346ae057-0e49-4307-b985-a84cc4994ef2\"}}];\n",
       "  root.Bokeh.embed.embed_items_notebook(docs_json, render_items);\n",
       "\n",
       "  }\n",
       "  if (root.Bokeh !== undefined) {\n",
       "    embed_document(root);\n",
       "  } else {\n",
       "    var attempts = 0;\n",
       "    var timer = setInterval(function(root) {\n",
       "      if (root.Bokeh !== undefined) {\n",
       "        clearInterval(timer);\n",
       "        embed_document(root);\n",
       "      } else {\n",
       "        attempts++;\n",
       "        if (attempts > 100) {\n",
       "          clearInterval(timer);\n",
       "          console.log(\"Bokeh: ERROR: Unable to run BokehJS code because BokehJS library is missing\");\n",
       "        }\n",
       "      }\n",
       "    }, 10, root)\n",
       "  }\n",
       "})(window);"
      ],
      "application/vnd.bokehjs_exec.v0+json": ""
     },
     "metadata": {
      "application/vnd.bokehjs_exec.v0+json": {
       "id": "1191"
      }
     },
     "output_type": "display_data"
    },
    {
     "data": {
      "text/html": [
       "<div style=\"display: table;\"><div style=\"display: table-row;\"><div style=\"display: table-cell;\"><b title=\"bokeh.models.layouts.GridBox\">GridBox</b>(</div><div style=\"display: table-cell;\">id&nbsp;=&nbsp;'1191', <span id=\"1403\" style=\"cursor: pointer;\">&hellip;)</span></div></div><div class=\"1402\" style=\"display: none;\"><div style=\"display: table-cell;\"></div><div style=\"display: table-cell;\">align&nbsp;=&nbsp;'start',</div></div><div class=\"1402\" style=\"display: none;\"><div style=\"display: table-cell;\"></div><div style=\"display: table-cell;\">aspect_ratio&nbsp;=&nbsp;None,</div></div><div class=\"1402\" style=\"display: none;\"><div style=\"display: table-cell;\"></div><div style=\"display: table-cell;\">background&nbsp;=&nbsp;None,</div></div><div class=\"1402\" style=\"display: none;\"><div style=\"display: table-cell;\"></div><div style=\"display: table-cell;\">children&nbsp;=&nbsp;[(Figure(id='1001', ...), 0, 0), (Figure(id='1032', ...), 0, 1), (Figure(id='1063', ...), 0, 2), (Figure(id='1094', ...), 1, 0), (Figure(id='1125', ...), 1, 1)],</div></div><div class=\"1402\" style=\"display: none;\"><div style=\"display: table-cell;\"></div><div style=\"display: table-cell;\">cols&nbsp;=&nbsp;'auto',</div></div><div class=\"1402\" style=\"display: none;\"><div style=\"display: table-cell;\"></div><div style=\"display: table-cell;\">css_classes&nbsp;=&nbsp;[],</div></div><div class=\"1402\" style=\"display: none;\"><div style=\"display: table-cell;\"></div><div style=\"display: table-cell;\">disabled&nbsp;=&nbsp;False,</div></div><div class=\"1402\" style=\"display: none;\"><div style=\"display: table-cell;\"></div><div style=\"display: table-cell;\">height&nbsp;=&nbsp;None,</div></div><div class=\"1402\" style=\"display: none;\"><div style=\"display: table-cell;\"></div><div style=\"display: table-cell;\">height_policy&nbsp;=&nbsp;'auto',</div></div><div class=\"1402\" style=\"display: none;\"><div style=\"display: table-cell;\"></div><div style=\"display: table-cell;\">js_event_callbacks&nbsp;=&nbsp;{},</div></div><div class=\"1402\" style=\"display: none;\"><div style=\"display: table-cell;\"></div><div style=\"display: table-cell;\">js_property_callbacks&nbsp;=&nbsp;{},</div></div><div class=\"1402\" style=\"display: none;\"><div style=\"display: table-cell;\"></div><div style=\"display: table-cell;\">margin&nbsp;=&nbsp;(0, 0, 0, 0),</div></div><div class=\"1402\" style=\"display: none;\"><div style=\"display: table-cell;\"></div><div style=\"display: table-cell;\">max_height&nbsp;=&nbsp;None,</div></div><div class=\"1402\" style=\"display: none;\"><div style=\"display: table-cell;\"></div><div style=\"display: table-cell;\">max_width&nbsp;=&nbsp;None,</div></div><div class=\"1402\" style=\"display: none;\"><div style=\"display: table-cell;\"></div><div style=\"display: table-cell;\">min_height&nbsp;=&nbsp;None,</div></div><div class=\"1402\" style=\"display: none;\"><div style=\"display: table-cell;\"></div><div style=\"display: table-cell;\">min_width&nbsp;=&nbsp;None,</div></div><div class=\"1402\" style=\"display: none;\"><div style=\"display: table-cell;\"></div><div style=\"display: table-cell;\">name&nbsp;=&nbsp;None,</div></div><div class=\"1402\" style=\"display: none;\"><div style=\"display: table-cell;\"></div><div style=\"display: table-cell;\">rows&nbsp;=&nbsp;'auto',</div></div><div class=\"1402\" style=\"display: none;\"><div style=\"display: table-cell;\"></div><div style=\"display: table-cell;\">sizing_mode&nbsp;=&nbsp;None,</div></div><div class=\"1402\" style=\"display: none;\"><div style=\"display: table-cell;\"></div><div style=\"display: table-cell;\">spacing&nbsp;=&nbsp;0,</div></div><div class=\"1402\" style=\"display: none;\"><div style=\"display: table-cell;\"></div><div style=\"display: table-cell;\">subscribed_events&nbsp;=&nbsp;[],</div></div><div class=\"1402\" style=\"display: none;\"><div style=\"display: table-cell;\"></div><div style=\"display: table-cell;\">tags&nbsp;=&nbsp;[],</div></div><div class=\"1402\" style=\"display: none;\"><div style=\"display: table-cell;\"></div><div style=\"display: table-cell;\">visible&nbsp;=&nbsp;True,</div></div><div class=\"1402\" style=\"display: none;\"><div style=\"display: table-cell;\"></div><div style=\"display: table-cell;\">width&nbsp;=&nbsp;None,</div></div><div class=\"1402\" style=\"display: none;\"><div style=\"display: table-cell;\"></div><div style=\"display: table-cell;\">width_policy&nbsp;=&nbsp;'auto')</div></div></div>\n",
       "<script>\n",
       "(function() {\n",
       "  var expanded = false;\n",
       "  var ellipsis = document.getElementById(\"1403\");\n",
       "  ellipsis.addEventListener(\"click\", function() {\n",
       "    var rows = document.getElementsByClassName(\"1402\");\n",
       "    for (var i = 0; i < rows.length; i++) {\n",
       "      var el = rows[i];\n",
       "      el.style.display = expanded ? \"none\" : \"table-row\";\n",
       "    }\n",
       "    ellipsis.innerHTML = expanded ? \"&hellip;)\" : \"&lsaquo;&lsaquo;&lsaquo;\";\n",
       "    expanded = !expanded;\n",
       "  });\n",
       "})();\n",
       "</script>\n"
      ],
      "text/plain": [
       "GridBox(id='1191', ...)"
      ]
     },
     "execution_count": 4,
     "metadata": {},
     "output_type": "execute_result"
    }
   ],
   "source": [
    "from dataprep.eda import plot\n",
    "import pandas as pd\n",
    "\n",
    "df = pd.read_csv(\"faculty_table.csv\")\n",
    "plot(df)"
   ]
  },
  {
   "cell_type": "markdown",
   "metadata": {},
   "source": [
    "Below are some examples:\n",
    "\n",
    "**Finding 1:** Professor# (29) is more than 3x larger than Associate Professor# (9). \n",
    "\n",
    "**Questions:** Why did it happen? Is it common in all CS schools in Canada? Will the gap go larger or smaller in five years? What actions can be taken to enlarge/shrink the gap?\n",
    "\n",
    "\n",
    "**Finding 2:** Homepage has 20.3% missing values. \n",
    "\n",
    "**Questions:** Why are there so many missing values? Is it because many faculty do not have their own homepages or do not add their homepages to the school page? What actions can be taken to avoid this to happen in the future? "
   ]
  },
  {
   "cell_type": "markdown",
   "metadata": {},
   "source": [
    "## Task 2: Age Follows Normal Distribution?"
   ]
  },
  {
   "cell_type": "markdown",
   "metadata": {},
   "source": [
    "In this task, you start with a question and then figure out what data to collect.\n",
    "\n",
    "The question that you are intersted in is `Does SFU CS faculty age follow a normal distribution?`\n",
    "\n",
    "To estimate the age of a faculty member, you can collect the year in which s/he graduates from a university (`gradyear`) and then estimate `age` using the following equation:\n",
    "\n",
    "$$age \\approx 2020+23 - gradyear$$\n",
    "\n",
    "For example, if one graduates from a university in 1990, then the age is estimated as 2020+23-1990 = 53. \n",
    "\n"
   ]
  },
  {
   "cell_type": "markdown",
   "metadata": {},
   "source": [
    "### (a) Crawl Web Page"
   ]
  },
  {
   "cell_type": "markdown",
   "metadata": {},
   "source": [
    "You notice that faculty profile pages contain graduation information. For example, you can see that Dr. Jiannan Wang graduated from Harbin Institute of Technology in 2008 at [http://www.sfu.ca/computing/people/faculty/jiannanwang.html](http://www.sfu.ca/computing/people/faculty/jiannanwang.html). \n",
    "\n",
    "\n",
    "Please write code to download the 64 profile pages and save each page as a text file. "
   ]
  },
  {
   "cell_type": "code",
   "execution_count": 5,
   "metadata": {},
   "outputs": [],
   "source": [
    "import os,sys\n",
    "\n",
    "os.mkdir('./cs_faculty')\n",
    "\n",
    "for profile in profiles:\n",
    "    file_name = profile.split('/')[6].split('#')[0]\n",
    "    r= requests.get(profile)\n",
    "    open('./cs_faculty/'+file_name, 'wb').write(r.content)"
   ]
  },
  {
   "cell_type": "markdown",
   "metadata": {},
   "source": [
    "### (b) Extract Structured Data"
   ]
  },
  {
   "cell_type": "markdown",
   "metadata": {},
   "source": [
    "Please write code to extract the earliest graduation year (e.g., 2008 for Dr. Jiannan Wang) from each profile page, and create a csv file like [faculty_grad_year.csv](./faculty_grad_year.csv). "
   ]
  },
  {
   "cell_type": "code",
   "execution_count": 6,
   "metadata": {},
   "outputs": [
    {
     "name": "stdout",
     "output_type": "stream",
     "text": [
      "<class 'pandas.core.frame.DataFrame'>\n",
      "RangeIndex: 64 entries, 0 to 63\n",
      "Data columns (total 2 columns):\n",
      "name        64 non-null object\n",
      "gradyear    64 non-null object\n",
      "dtypes: object(2)\n",
      "memory usage: 1.1+ KB\n",
      "None\n"
     ]
    }
   ],
   "source": [
    "#get the list of all the text files\n",
    "path = './cs_faculty/'\n",
    "dirs=[f for f in os.listdir(path) if not f.startswith('.')]\n",
    "gradyear = []\n",
    "names = []\n",
    "\n",
    "for direct in dirs:\n",
    "    f = open('./cs_faculty/'+direct, 'r')\n",
    "    response= f.read()\n",
    "    from bs4 import BeautifulSoup\n",
    "    html_soup = BeautifulSoup(response, 'html.parser')\n",
    "\n",
    "    container = html_soup.find_all('div', class_= 'parsys_column cq-colctrl-lt0 ')\n",
    "    title_section = html_soup.find_all('div', class_= 'title section')\n",
    "\n",
    "    name = title_section[0].h1.text\n",
    "    names.append(name)\n",
    "    \n",
    "    part1 = container[0].find_all('p')\n",
    "    \n",
    "    part2 = container[0].find_all('li')\n",
    "\n",
    "    full = part1+part2\n",
    "    \n",
    "    all_years = []\n",
    "\n",
    "    for element in full:\n",
    "        words = element.text.replace('\\n', ' ').replace('.','').replace('\\xa0', '').split(' ')\n",
    "        for s in words:\n",
    "            if(s.isdigit()==True and len(str(s))==4):\n",
    "                result=s\n",
    "                all_years.append(result)\n",
    "    try:\n",
    "        grad_year = min(all_years)\n",
    "    except:\n",
    "        grad_year = ''\n",
    "    gradyear.append(grad_year)\n",
    "\n",
    "import pandas as pd\n",
    "df = pd.DataFrame({'name': names,\n",
    "                   'gradyear': gradyear})\n",
    "print(df.info())\n",
    "\n",
    "export_csv = df.to_csv(r'./faculty_grad_year.csv', index=False)"
   ]
  },
  {
   "cell_type": "markdown",
   "metadata": {},
   "source": [
    "### (c) Interesting Finding"
   ]
  },
  {
   "cell_type": "markdown",
   "metadata": {},
   "source": [
    "Similar to Task 1(c), you don't need to do anything here. Just look at different visualizations w.r.t. age and give yourself an answer to the question: `Does SFU CS faculty age follow a normal distribution?`"
   ]
  },
  {
   "cell_type": "code",
   "execution_count": 7,
   "metadata": {
    "scrolled": true
   },
   "outputs": [
    {
     "data": {
      "text/html": [
       "\n",
       "\n",
       "\n",
       "\n",
       "\n",
       "\n",
       "  <div class=\"bk-root\" id=\"202093f9-7ccd-4b1e-8372-33f623accad6\" data-root-id=\"1574\"></div>\n"
      ]
     },
     "metadata": {},
     "output_type": "display_data"
    },
    {
     "data": {
      "application/javascript": [
       "(function(root) {\n",
       "  function embed_document(root) {\n",
       "    \n",
       "  var docs_json = {\"69a2cbfe-1d19-4c88-b19b-3cef0afdc2ef\":{\"roots\":{\"references\":[{\"attributes\":{\"callback\":null,\"tabs\":[{\"id\":\"1436\",\"type\":\"Panel\"},{\"id\":\"1476\",\"type\":\"Panel\"},{\"id\":\"1511\",\"type\":\"Panel\"},{\"id\":\"1573\",\"type\":\"Panel\"}]},\"id\":\"1574\",\"type\":\"Tabs\"},{\"attributes\":{\"active_drag\":\"auto\",\"active_inspect\":\"auto\",\"active_multi\":null,\"active_scroll\":\"auto\",\"active_tap\":\"auto\",\"tools\":[{\"id\":\"1465\",\"type\":\"HoverTool\"},{\"id\":\"1471\",\"type\":\"HoverTool\"}]},\"id\":\"1458\",\"type\":\"Toolbar\"},{\"attributes\":{\"callback\":null},\"id\":\"1517\",\"type\":\"DataRange1d\"},{\"attributes\":{},\"id\":\"1626\",\"type\":\"UnionRenderers\"},{\"attributes\":{\"axis_label\":\"age\",\"formatter\":{\"id\":\"1620\",\"type\":\"BasicTickFormatter\"},\"major_label_text_font_size\":{\"value\":\"9pt\"},\"minor_tick_line_color\":{\"value\":null},\"ticker\":{\"id\":\"1528\",\"type\":\"BasicTicker\"}},\"id\":\"1527\",\"type\":\"LinearAxis\"},{\"attributes\":{},\"id\":\"1627\",\"type\":\"Selection\"},{\"attributes\":{\"active_drag\":\"auto\",\"active_inspect\":\"auto\",\"active_multi\":null,\"active_scroll\":\"auto\",\"active_tap\":\"auto\",\"tools\":[{\"id\":\"1432\",\"type\":\"HoverTool\"}]},\"id\":\"1425\",\"type\":\"Toolbar\"},{\"attributes\":{\"ticks\":[26.0,30.9,35.8,40.7,45.6,50.5,55.400000000000006,60.300000000000004,65.2,70.1,75.0]},\"id\":\"1434\",\"type\":\"FixedTicker\"},{\"attributes\":{},\"id\":\"1628\",\"type\":\"UnionRenderers\"},{\"attributes\":{\"text\":\"age\",\"text_font_size\":{\"value\":\"10pt\"}},\"id\":\"1513\",\"type\":\"Title\"},{\"attributes\":{},\"id\":\"1629\",\"type\":\"Selection\"},{\"attributes\":{\"child\":{\"id\":\"1477\",\"subtype\":\"Figure\",\"type\":\"Plot\"},\"title\":\"QQ normal plot\"},\"id\":\"1511\",\"type\":\"Panel\"},{\"attributes\":{},\"id\":\"1630\",\"type\":\"UnionRenderers\"},{\"attributes\":{},\"id\":\"1631\",\"type\":\"Selection\"},{\"attributes\":{\"callback\":null,\"data\":{\"freq\":[5,7,5,7,9,10,5,6,4,4],\"index\":[0,1,2,3,4,5,6,7,8,9],\"intervals\":[\"[26.0,30.9)\",\"[30.9,35.8)\",\"[35.8,40.7)\",\"[40.7,45.6)\",\"[45.6,50.5)\",\"[50.5,55.4)\",\"[55.4,60.3)\",\"[60.3,65.2)\",\"[65.2,70.1)\",\"[70.1,75.0]\"],\"left\":{\"__ndarray__\":\"AAAAAAAAOkBmZmZmZuY+QGZmZmZm5kFAmpmZmZlZREDNzMzMzMxGQAAAAAAAQElANDMzMzOzS0BnZmZmZiZOQM3MzMzMTFBAZmZmZmaGUUA=\",\"dtype\":\"float64\",\"shape\":[10]},\"pct\":{\"__ndarray__\":\"AAAAAABAH0AAAAAAAOAlQAAAAAAAQB9AAAAAAADgJUAAAAAAACAsQAAAAAAAQC9AAAAAAABAH0AAAAAAAMAiQAAAAAAAABlAAAAAAAAAGUA=\",\"dtype\":\"float64\",\"shape\":[10]},\"right\":{\"__ndarray__\":\"ZmZmZmbmPkBmZmZmZuZBQJqZmZmZWURAzczMzMzMRkAAAAAAAEBJQDQzMzMzs0tAZ2ZmZmYmTkDNzMzMzExQQGZmZmZmhlFAAAAAAADAUkA=\",\"dtype\":\"float64\",\"shape\":[10]}},\"selected\":{\"id\":\"1623\",\"type\":\"Selection\"},\"selection_policy\":{\"id\":\"1622\",\"type\":\"UnionRenderers\"}},\"id\":\"1426\",\"type\":\"ColumnDataSource\"},{\"attributes\":{},\"id\":\"1632\",\"type\":\"UnionRenderers\"},{\"attributes\":{\"axis_label\":null,\"formatter\":{\"id\":\"1571\",\"type\":\"FuncTickFormatter\"},\"major_label_orientation\":1.0471975511965976,\"major_label_text_font_size\":{\"value\":\"0pt\"},\"major_tick_line_color\":{\"value\":null},\"minor_tick_line_color\":{\"value\":null},\"ticker\":{\"id\":\"1524\",\"type\":\"CategoricalTicker\"}},\"id\":\"1523\",\"type\":\"CategoricalAxis\"},{\"attributes\":{\"below\":[{\"id\":\"1448\",\"type\":\"LinearAxis\"}],\"center\":[{\"id\":\"1452\",\"type\":\"Grid\"},{\"id\":\"1457\",\"type\":\"Grid\"}],\"left\":[{\"id\":\"1453\",\"type\":\"LinearAxis\"}],\"plot_height\":400,\"plot_width\":450,\"renderers\":[{\"id\":\"1463\",\"type\":\"GlyphRenderer\"},{\"id\":\"1469\",\"type\":\"GlyphRenderer\"}],\"title\":{\"id\":\"1438\",\"type\":\"Title\"},\"toolbar\":{\"id\":\"1458\",\"type\":\"Toolbar\"},\"toolbar_location\":null,\"x_range\":{\"id\":\"1440\",\"type\":\"DataRange1d\"},\"x_scale\":{\"id\":\"1444\",\"type\":\"LinearScale\"},\"y_range\":{\"id\":\"1442\",\"type\":\"DataRange1d\"},\"y_scale\":{\"id\":\"1446\",\"type\":\"LinearScale\"}},\"id\":\"1437\",\"subtype\":\"Figure\",\"type\":\"Plot\"},{\"attributes\":{},\"id\":\"1633\",\"type\":\"Selection\"},{\"attributes\":{},\"id\":\"1634\",\"type\":\"UnionRenderers\"},{\"attributes\":{\"source\":{\"id\":\"1459\",\"type\":\"ColumnDataSource\"}},\"id\":\"1464\",\"type\":\"CDSView\"},{\"attributes\":{},\"id\":\"1635\",\"type\":\"Selection\"},{\"attributes\":{\"callback\":null,\"factors\":[\"age\"]},\"id\":\"1515\",\"type\":\"FactorRange\"},{\"attributes\":{},\"id\":\"1636\",\"type\":\"UnionRenderers\"},{\"attributes\":{\"grid_line_color\":null,\"ticker\":{\"id\":\"1524\",\"type\":\"CategoricalTicker\"}},\"id\":\"1526\",\"type\":\"Grid\"},{\"attributes\":{},\"id\":\"1637\",\"type\":\"Selection\"},{\"attributes\":{},\"id\":\"1524\",\"type\":\"CategoricalTicker\"},{\"attributes\":{},\"id\":\"1638\",\"type\":\"UnionRenderers\"},{\"attributes\":{\"callback\":null,\"data\":{\"x\":{\"__ndarray__\":\"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\",\"dtype\":\"float64\",\"shape\":[1000]},\"y\":{\"__ndarray__\":\"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\",\"dtype\":\"float64\",\"shape\":[1000]}},\"selected\":{\"id\":\"1627\",\"type\":\"Selection\"},\"selection_policy\":{\"id\":\"1626\",\"type\":\"UnionRenderers\"}},\"id\":\"1466\",\"type\":\"ColumnDataSource\"},{\"attributes\":{\"grid_line_color\":null,\"ticker\":{\"id\":\"1416\",\"type\":\"BasicTicker\"}},\"id\":\"1419\",\"type\":\"Grid\"},{\"attributes\":{},\"id\":\"1639\",\"type\":\"Selection\"},{\"attributes\":{\"callback\":null,\"data\":{\"grp\":[\"age\"],\"index\":[0],\"lw\":[26.0],\"otlrs\":[[]],\"q1\":[38.25],\"q2\":[49.5],\"q3\":[59.0],\"uw\":[75.0],\"x\":[1],\"x0\":[0.19999999999999996],\"x1\":[0.8]},\"selected\":{\"id\":\"1633\",\"type\":\"Selection\"},\"selection_policy\":{\"id\":\"1632\",\"type\":\"UnionRenderers\"}},\"id\":\"1533\",\"type\":\"ColumnDataSource\"},{\"attributes\":{\"callback\":null,\"mode\":\"vline\",\"renderers\":[{\"id\":\"1463\",\"type\":\"GlyphRenderer\"}],\"tooltips\":[[\"Bin\",\"@intervals\"],[\"Density\",\"@freq\"]]},\"id\":\"1465\",\"type\":\"HoverTool\"},{\"attributes\":{},\"id\":\"1640\",\"type\":\"UnionRenderers\"},{\"attributes\":{\"below\":[{\"id\":\"1523\",\"type\":\"CategoricalAxis\"}],\"center\":[{\"id\":\"1526\",\"type\":\"Grid\"},{\"id\":\"1531\",\"type\":\"Grid\"}],\"left\":[{\"id\":\"1527\",\"type\":\"LinearAxis\"}],\"plot_height\":400,\"plot_width\":450,\"renderers\":[{\"id\":\"1537\",\"type\":\"GlyphRenderer\"},{\"id\":\"1543\",\"type\":\"GlyphRenderer\"},{\"id\":\"1549\",\"type\":\"GlyphRenderer\"},{\"id\":\"1555\",\"type\":\"GlyphRenderer\"},{\"id\":\"1561\",\"type\":\"GlyphRenderer\"},{\"id\":\"1567\",\"type\":\"GlyphRenderer\"}],\"title\":{\"id\":\"1513\",\"type\":\"Title\"},\"toolbar\":{\"id\":\"1532\",\"type\":\"Toolbar\"},\"toolbar_location\":null,\"x_range\":{\"id\":\"1515\",\"type\":\"FactorRange\"},\"x_scale\":{\"id\":\"1519\",\"type\":\"CategoricalScale\"},\"y_range\":{\"id\":\"1517\",\"type\":\"DataRange1d\"},\"y_scale\":{\"id\":\"1521\",\"type\":\"LinearScale\"}},\"id\":\"1512\",\"subtype\":\"Figure\",\"type\":\"Plot\"},{\"attributes\":{},\"id\":\"1641\",\"type\":\"Selection\"},{\"attributes\":{\"data_source\":{\"id\":\"1426\",\"type\":\"ColumnDataSource\"},\"glyph\":{\"id\":\"1428\",\"type\":\"Quad\"},\"hover_glyph\":null,\"muted_glyph\":null,\"nonselection_glyph\":{\"id\":\"1429\",\"type\":\"Quad\"},\"selection_glyph\":null,\"view\":{\"id\":\"1431\",\"type\":\"CDSView\"}},\"id\":\"1430\",\"type\":\"GlyphRenderer\"},{\"attributes\":{},\"id\":\"1642\",\"type\":\"UnionRenderers\"},{\"attributes\":{\"line_alpha\":0.1,\"line_color\":\"#1f77b4\",\"x\":{\"field\":\"x\"},\"y\":{\"field\":\"y\"}},\"id\":\"1508\",\"type\":\"Line\"},{\"attributes\":{},\"id\":\"1643\",\"type\":\"Selection\"},{\"attributes\":{},\"id\":\"1521\",\"type\":\"LinearScale\"},{\"attributes\":{},\"id\":\"1519\",\"type\":\"CategoricalScale\"},{\"attributes\":{\"callback\":null,\"mode\":\"vline\",\"tooltips\":[[\"Bin\",\"@intervals\"],[\"Frequency\",\"@freq\"],[\"Percent\",\"@pct{0.2f}%\"]]},\"id\":\"1432\",\"type\":\"HoverTool\"},{\"attributes\":{\"axis_label\":\"Frequency\",\"formatter\":{\"id\":\"1610\",\"type\":\"BasicTickFormatter\"},\"major_label_text_font_size\":{\"value\":\"9pt\"},\"minor_tick_line_color\":{\"value\":null},\"ticker\":{\"id\":\"1421\",\"type\":\"BasicTicker\"}},\"id\":\"1420\",\"type\":\"LinearAxis\"},{\"attributes\":{\"source\":{\"id\":\"1501\",\"type\":\"ColumnDataSource\"}},\"id\":\"1505\",\"type\":\"CDSView\"},{\"attributes\":{\"bottom\":{\"value\":0.01},\"fill_alpha\":{\"value\":0.5},\"fill_color\":{\"value\":\"#6baed6\"},\"left\":{\"field\":\"left\"},\"line_alpha\":{\"value\":0.5},\"line_color\":{\"value\":\"#1f77b4\"},\"right\":{\"field\":\"right\"},\"top\":{\"field\":\"freq\"}},\"id\":\"1428\",\"type\":\"Quad\"},{\"attributes\":{\"dimension\":1,\"grid_line_color\":null,\"ticker\":{\"id\":\"1421\",\"type\":\"BasicTicker\"}},\"id\":\"1424\",\"type\":\"Grid\"},{\"attributes\":{},\"id\":\"1416\",\"type\":\"BasicTicker\"},{\"attributes\":{},\"id\":\"1421\",\"type\":\"BasicTicker\"},{\"attributes\":{\"child\":{\"id\":\"1404\",\"subtype\":\"Figure\",\"type\":\"Plot\"},\"title\":\"histogram\"},\"id\":\"1436\",\"type\":\"Panel\"},{\"attributes\":{\"line_alpha\":{\"value\":0.1},\"line_color\":{\"value\":\"#1f77b4\"},\"x0\":{\"field\":\"grp\"},\"x1\":{\"field\":\"grp\"},\"y0\":{\"field\":\"lw\"},\"y1\":{\"field\":\"q1\"}},\"id\":\"1542\",\"type\":\"Segment\"},{\"attributes\":{\"formatter\":{\"id\":\"1609\",\"type\":\"BasicTickFormatter\"},\"major_label_orientation\":1.0471975511965976,\"major_label_text_font_size\":{\"value\":\"9pt\"},\"minor_tick_line_color\":{\"value\":null},\"ticker\":{\"id\":\"1434\",\"type\":\"FixedTicker\"}},\"id\":\"1415\",\"type\":\"LinearAxis\"},{\"attributes\":{\"bottom\":{\"value\":0.01},\"fill_alpha\":{\"value\":0.1},\"fill_color\":{\"value\":\"#1f77b4\"},\"left\":{\"field\":\"left\"},\"line_alpha\":{\"value\":0.1},\"line_color\":{\"value\":\"#1f77b4\"},\"right\":{\"field\":\"right\"},\"top\":{\"field\":\"freq\"}},\"id\":\"1429\",\"type\":\"Quad\"},{\"attributes\":{\"source\":{\"id\":\"1426\",\"type\":\"ColumnDataSource\"}},\"id\":\"1431\",\"type\":\"CDSView\"},{\"attributes\":{\"bottom\":{\"value\":0},\"fill_alpha\":{\"value\":0.1},\"fill_color\":{\"value\":\"#1f77b4\"},\"left\":{\"field\":\"left\"},\"line_alpha\":{\"value\":0.1},\"line_color\":{\"value\":\"#1f77b4\"},\"right\":{\"field\":\"right\"},\"top\":{\"field\":\"freq\"}},\"id\":\"1462\",\"type\":\"Quad\"},{\"attributes\":{},\"id\":\"1413\",\"type\":\"LinearScale\"},{\"attributes\":{},\"id\":\"1411\",\"type\":\"LinearScale\"},{\"attributes\":{\"data_source\":{\"id\":\"1459\",\"type\":\"ColumnDataSource\"},\"glyph\":{\"id\":\"1461\",\"type\":\"Quad\"},\"hover_glyph\":null,\"muted_glyph\":null,\"nonselection_glyph\":{\"id\":\"1462\",\"type\":\"Quad\"},\"selection_glyph\":null,\"view\":{\"id\":\"1464\",\"type\":\"CDSView\"}},\"id\":\"1463\",\"type\":\"GlyphRenderer\"},{\"attributes\":{},\"id\":\"1612\",\"type\":\"BasicTickFormatter\"},{\"attributes\":{\"source\":{\"id\":\"1506\",\"type\":\"ColumnDataSource\"}},\"id\":\"1510\",\"type\":\"CDSView\"},{\"attributes\":{\"callback\":null},\"id\":\"1409\",\"type\":\"DataRange1d\"},{\"attributes\":{\"line_alpha\":0.5,\"line_color\":\"#9467bd\",\"line_width\":2,\"x\":{\"field\":\"x\"},\"y\":{\"field\":\"y\"}},\"id\":\"1467\",\"type\":\"Line\"},{\"attributes\":{\"bottom\":{\"field\":\"q2\"},\"fill_color\":{\"value\":\"#1f77b4\"},\"top\":{\"field\":\"q3\"},\"width\":{\"value\":0.7},\"x\":{\"field\":\"grp\"}},\"id\":\"1547\",\"type\":\"VBar\"},{\"attributes\":{\"line_alpha\":0.1,\"line_color\":\"#1f77b4\",\"line_width\":2,\"x\":{\"field\":\"x\"},\"y\":{\"field\":\"y\"}},\"id\":\"1468\",\"type\":\"Line\"},{\"attributes\":{\"bottom\":{\"field\":\"q1\"},\"fill_color\":{\"value\":\"#1f77b4\"},\"top\":{\"field\":\"q2\"},\"width\":{\"value\":0.7},\"x\":{\"field\":\"grp\"}},\"id\":\"1553\",\"type\":\"VBar\"},{\"attributes\":{\"data_source\":{\"id\":\"1466\",\"type\":\"ColumnDataSource\"},\"glyph\":{\"id\":\"1467\",\"type\":\"Line\"},\"hover_glyph\":null,\"muted_glyph\":null,\"nonselection_glyph\":{\"id\":\"1468\",\"type\":\"Line\"},\"selection_glyph\":null,\"view\":{\"id\":\"1470\",\"type\":\"CDSView\"}},\"id\":\"1469\",\"type\":\"GlyphRenderer\"},{\"attributes\":{\"callback\":null,\"data\":{\"grp\":[\"age\"],\"index\":[0],\"lw\":[26.0],\"otlrs\":[[]],\"q1\":[38.25],\"q2\":[49.5],\"q3\":[59.0],\"uw\":[75.0],\"x\":[1],\"x0\":[0.19999999999999996],\"x1\":[0.8]},\"selected\":{\"id\":\"1637\",\"type\":\"Selection\"},\"selection_policy\":{\"id\":\"1636\",\"type\":\"UnionRenderers\"}},\"id\":\"1545\",\"type\":\"ColumnDataSource\"},{\"attributes\":{\"source\":{\"id\":\"1466\",\"type\":\"ColumnDataSource\"}},\"id\":\"1470\",\"type\":\"CDSView\"},{\"attributes\":{\"source\":{\"id\":\"1539\",\"type\":\"ColumnDataSource\"}},\"id\":\"1544\",\"type\":\"CDSView\"},{\"attributes\":{\"data_source\":{\"id\":\"1539\",\"type\":\"ColumnDataSource\"},\"glyph\":{\"id\":\"1541\",\"type\":\"Segment\"},\"hover_glyph\":null,\"muted_glyph\":null,\"nonselection_glyph\":{\"id\":\"1542\",\"type\":\"Segment\"},\"selection_glyph\":null,\"view\":{\"id\":\"1544\",\"type\":\"CDSView\"}},\"id\":\"1543\",\"type\":\"GlyphRenderer\"},{\"attributes\":{\"callback\":null,\"renderers\":[{\"id\":\"1469\",\"type\":\"GlyphRenderer\"}],\"tooltips\":[[\"x\",\"@x\"],[\"y\",\"@y\"]]},\"id\":\"1471\",\"type\":\"HoverTool\"},{\"attributes\":{\"child\":{\"id\":\"1437\",\"subtype\":\"Figure\",\"type\":\"Plot\"},\"title\":\"KDE plot\"},\"id\":\"1476\",\"type\":\"Panel\"},{\"attributes\":{\"fill_alpha\":{\"value\":0.1},\"fill_color\":{\"value\":\"#1f77b4\"},\"line_alpha\":{\"value\":0.1},\"line_color\":{\"value\":\"#1f77b4\"},\"size\":{\"units\":\"screen\",\"value\":3},\"x\":{\"field\":\"x\"},\"y\":{\"field\":\"y\"}},\"id\":\"1503\",\"type\":\"Circle\"},{\"attributes\":{\"callback\":null,\"data\":{\"grp\":[\"age\"],\"index\":[0],\"lw\":[26.0],\"otlrs\":[[]],\"q1\":[38.25],\"q2\":[49.5],\"q3\":[59.0],\"uw\":[75.0],\"x\":[1],\"x0\":[0.19999999999999996],\"x1\":[0.8]},\"selected\":{\"id\":\"1639\",\"type\":\"Selection\"},\"selection_policy\":{\"id\":\"1638\",\"type\":\"UnionRenderers\"}},\"id\":\"1551\",\"type\":\"ColumnDataSource\"},{\"attributes\":{\"below\":[{\"id\":\"1488\",\"type\":\"LinearAxis\"}],\"center\":[{\"id\":\"1492\",\"type\":\"Grid\"},{\"id\":\"1497\",\"type\":\"Grid\"}],\"left\":[{\"id\":\"1493\",\"type\":\"LinearAxis\"}],\"plot_height\":400,\"plot_width\":450,\"renderers\":[{\"id\":\"1504\",\"type\":\"GlyphRenderer\"},{\"id\":\"1509\",\"type\":\"GlyphRenderer\"}],\"title\":{\"id\":\"1478\",\"type\":\"Title\"},\"toolbar\":{\"id\":\"1499\",\"type\":\"Toolbar\"},\"toolbar_location\":null,\"x_range\":{\"id\":\"1480\",\"type\":\"DataRange1d\"},\"x_scale\":{\"id\":\"1484\",\"type\":\"LinearScale\"},\"y_range\":{\"id\":\"1482\",\"type\":\"DataRange1d\"},\"y_scale\":{\"id\":\"1486\",\"type\":\"LinearScale\"}},\"id\":\"1477\",\"subtype\":\"Figure\",\"type\":\"Plot\"},{\"attributes\":{\"ticks\":[26.0,30.9,35.8,40.7,45.6,50.5,55.400000000000006,60.300000000000004,65.2,70.1,75.0]},\"id\":\"1474\",\"type\":\"FixedTicker\"},{\"attributes\":{\"source\":{\"id\":\"1545\",\"type\":\"ColumnDataSource\"}},\"id\":\"1550\",\"type\":\"CDSView\"},{\"attributes\":{\"data_source\":{\"id\":\"1545\",\"type\":\"ColumnDataSource\"},\"glyph\":{\"id\":\"1547\",\"type\":\"VBar\"},\"hover_glyph\":null,\"muted_glyph\":null,\"nonselection_glyph\":{\"id\":\"1548\",\"type\":\"VBar\"},\"selection_glyph\":null,\"view\":{\"id\":\"1550\",\"type\":\"CDSView\"}},\"id\":\"1549\",\"type\":\"GlyphRenderer\"},{\"attributes\":{\"callback\":null,\"data\":{\"x\":{\"__ndarray__\":\"5B6ZkzSBMkBAMLCPDws2QKwTkgtFSzhAMJc8AR/9OUDEyd3ALF47QFABg2u+ijxALe4zCVCSPUDTsfBdUX4+QFLaUdH0VD9Aggl8eEMNQEAu72sMEmlAQOi76w4Qv0BAGJRjiyIQQUD+Yv+f/VxBQABR1qsxpkFAzAKLTzTsQUDQeT/AZi9CQCg3ulQacEJAKzjQ3ZOuQkDQKqonDutCQKIH5+G7JUNA1VetGMleQ0AEftBbXJZDQBLenaiXzENAC98YJZkBREBfnWy3ezVEQES0i4FXaERA8bD2RkKaREAp7i/BT8tEQPXeVOaR+0RA1kGMJBkrRUBWfGKU9FlFQNGvuyMyiEVArD6sut61RUDyiEVbBuNFQA6kMD20D0ZAQRjI5fI7RkBsk0E9zGdGQG8HX6FJk0ZARVYK9nO+RkAEYC60U+lGQC8kE/fwE0dA2gl4iFM+R0Cvx57rgmhHQLZqcmeGkkdAslPwD2W8R0BKcvTOJeZHQBJdhmzPD0hAxwDClmg5SEDJZHTp92JIQCdZg/WDjEhAKb01SBO2SEDeYHFyrN9IQKZLAxBWCUlAPmoHzxYzSUA6U4V39VxJQEH2WPP4hklAFrR/ViixSUDBmeTnittJQOxdySooBkpAqmft6AcxSkCBtpg9MlxKQIMqtqGvh0pAr6Uv+YizSkDiGcehx99KQP00soN1DEtARH9LJJ05S0AfDjy7SWdLQJpBlUqHlUtAGnxrumLES0D73qL46fNLQMfPxx0sJExA/wwBmDlVTECsCWxdJIdMQJEgiycAukxA5d7eueLtTEDe31k25CJNQOw/J4MfWU1AG2ZKxrKQTUBOthD9v8lNQCCTTbdtBE5AxIUnAehATkDIhj2KYX9OQCBEuB4VwE5AJLtsj0cDT0DwbCEzSklPQPJa+D5+kk9A2CmUU1nfT0AEAQboNRhQQGLnRek0Q1BAN9o9MxxxUEBjaCe7gKJQQIOy/5cp2FBAbOMu7SkTUUCkHptUDlVRQIZsRL8yoFFALLksL3b4UUAMWpes7GRSQOfSjwv69FJAP5eVynDXU0A=\",\"dtype\":\"float64\",\"shape\":[100]},\"y\":{\"__ndarray__\":\"AAAAAAAAOkAAAAAAAAA6QAAAAAAAADpAWA191dDXOkBxLr2RfQY8QDbWu7gSoTxA9vt0v093PUCBS3INeqw+QIbNty3ScD9AAAAAAAAAQEAAAAAAAABAQAAAAAAAAEBAAAAAAAAAQEAAAAAAAABAQBPe14soCEFA9jFXH3NVQUAAAAAAAIBBQAAAAAAAgEFAAAAAAACAQUA6W6qzpfpBQICBVG2dikJAY9XTAOjXQkAAAAAAAABDQAAAAAAAAENAAAAAAAAAQ0DtJNFOEg1DQNB4UOJcWkNAZZmf607PQ0AqQZ4S5GlEQAAAAAAAgERAWshNMIePREA8HM3D0dxEQCBwTFccKkVAAsTL6mZ3RUDkF0t+scRFQAAAAAAAAEZAAAAAAAAARkBvZ0jM23lGQFK7x18mx0ZAAAAAAAAAR0AAAAAAAABHQPq2RRoGL0dA3ArFrVB8R0AAAAAAAIBHQKKyw9TllkdAhAZDaDDkR0AAAAAAAABIQAAAAAAAAEhALALBIhBMSEAPVkC2WplIQPGpv0ml5khAAAAAAAAASUC2Ub5wOgFJQJmlPQSFTklAAAAAAACASUAAAAAAAIBJQAAAAAAAgElAJPU6Uq+DSUAGSbrl+dBJQAAAAAAAAEpAAAAAAAAASkAAAAAAAABKQAAAAAAAAEpAAAAAAAAASkAAAAAAAABKQAAAAAAAAEpANtBpA512SkAAAAAAAABLQAAAAAAAAEtAhsdleFxGS0BMb2Sf8eBLQJiilClKuUxAAAAAAACATUAAAAAAAIBNQAAAAAAAgE1AAAAAAACATUAAAAAAAIBNQLAFW7AFm01AdK1Z15o1TkAAAAAAAIBOQAAAAAAAgE5AAAAAAACATkBFJqq5949OQCd6KU1C3U5AAAAAAAAAT0AAAAAAAABPQAAAAAAAAE9AnutOD0SKT0CyySabbBJQQJQdpi63X1BAAAAAAACAUEAAAAAAAIBQQNoltl1i61BAAAAAAABAUUAAAAAAAEBRQFgfc/Uxh1FAKh2y0iH7UUBUXlDlBSVSQAAAAAAAQFJAAAAAAABAUkA=\",\"dtype\":\"float64\",\"shape\":[100]}},\"selected\":{\"id\":\"1629\",\"type\":\"Selection\"},\"selection_policy\":{\"id\":\"1628\",\"type\":\"UnionRenderers\"}},\"id\":\"1501\",\"type\":\"ColumnDataSource\"},{\"attributes\":{\"text\":\"age\",\"text_font_size\":{\"value\":\"10pt\"}},\"id\":\"1478\",\"type\":\"Title\"},{\"attributes\":{\"bottom\":{\"field\":\"q2\"},\"fill_alpha\":{\"value\":0.1},\"fill_color\":{\"value\":\"#1f77b4\"},\"line_alpha\":{\"value\":0.1},\"line_color\":{\"value\":\"#1f77b4\"},\"top\":{\"field\":\"q3\"},\"width\":{\"value\":0.7},\"x\":{\"field\":\"grp\"}},\"id\":\"1548\",\"type\":\"VBar\"},{\"attributes\":{\"formatter\":{\"id\":\"1612\",\"type\":\"BasicTickFormatter\"},\"major_label_orientation\":1.0471975511965976,\"major_label_text_font_size\":{\"value\":\"9pt\"},\"minor_tick_line_color\":{\"value\":null},\"ticker\":{\"id\":\"1474\",\"type\":\"FixedTicker\"}},\"id\":\"1448\",\"type\":\"LinearAxis\"},{\"attributes\":{\"callback\":null},\"id\":\"1480\",\"type\":\"DataRange1d\"},{\"attributes\":{\"bottom\":{\"value\":0},\"fill_alpha\":{\"value\":0.5},\"fill_color\":{\"value\":\"#6baed6\"},\"left\":{\"field\":\"left\"},\"line_alpha\":{\"value\":0.5},\"line_color\":{\"value\":\"#1f77b4\"},\"right\":{\"field\":\"right\"},\"top\":{\"field\":\"freq\"}},\"id\":\"1461\",\"type\":\"Quad\"},{\"attributes\":{\"callback\":null},\"id\":\"1482\",\"type\":\"DataRange1d\"},{\"attributes\":{\"x0\":{\"field\":\"x0\"},\"x1\":{\"field\":\"x1\"},\"y0\":{\"field\":\"lw\"},\"y1\":{\"field\":\"lw\"}},\"id\":\"1559\",\"type\":\"Segment\"},{\"attributes\":{\"callback\":null,\"data\":{\"grp\":[\"age\"],\"index\":[0],\"lw\":[26.0],\"otlrs\":[[]],\"q1\":[38.25],\"q2\":[49.5],\"q3\":[59.0],\"uw\":[75.0],\"x\":[1],\"x0\":[0.19999999999999996],\"x1\":[0.8]},\"selected\":{\"id\":\"1641\",\"type\":\"Selection\"},\"selection_policy\":{\"id\":\"1640\",\"type\":\"UnionRenderers\"}},\"id\":\"1557\",\"type\":\"ColumnDataSource\"},{\"attributes\":{\"below\":[{\"id\":\"1415\",\"type\":\"LinearAxis\"}],\"center\":[{\"id\":\"1419\",\"type\":\"Grid\"},{\"id\":\"1424\",\"type\":\"Grid\"}],\"left\":[{\"id\":\"1420\",\"type\":\"LinearAxis\"}],\"plot_height\":400,\"plot_width\":450,\"renderers\":[{\"id\":\"1430\",\"type\":\"GlyphRenderer\"}],\"title\":{\"id\":\"1405\",\"type\":\"Title\"},\"toolbar\":{\"id\":\"1425\",\"type\":\"Toolbar\"},\"toolbar_location\":null,\"x_range\":{\"id\":\"1407\",\"type\":\"DataRange1d\"},\"x_scale\":{\"id\":\"1411\",\"type\":\"LinearScale\"},\"y_range\":{\"id\":\"1409\",\"type\":\"DataRange1d\"},\"y_scale\":{\"id\":\"1413\",\"type\":\"LinearScale\"}},\"id\":\"1404\",\"subtype\":\"Figure\",\"type\":\"Plot\"},{\"attributes\":{},\"id\":\"1484\",\"type\":\"LinearScale\"},{\"attributes\":{\"callback\":null,\"data\":{\"grp\":[\"age\"],\"index\":[0],\"lw\":[26.0],\"otlrs\":[[]],\"q1\":[38.25],\"q2\":[49.5],\"q3\":[59.0],\"uw\":[75.0],\"x\":[1],\"x0\":[0.19999999999999996],\"x1\":[0.8]},\"selected\":{\"id\":\"1643\",\"type\":\"Selection\"},\"selection_policy\":{\"id\":\"1642\",\"type\":\"UnionRenderers\"}},\"id\":\"1563\",\"type\":\"ColumnDataSource\"},{\"attributes\":{},\"id\":\"1486\",\"type\":\"LinearScale\"},{\"attributes\":{\"source\":{\"id\":\"1551\",\"type\":\"ColumnDataSource\"}},\"id\":\"1556\",\"type\":\"CDSView\"},{\"attributes\":{\"axis_label\":\"Normal Quantiles\",\"formatter\":{\"id\":\"1615\",\"type\":\"BasicTickFormatter\"},\"major_label_orientation\":1.0471975511965976,\"major_label_text_font_size\":{\"value\":\"9pt\"},\"minor_tick_line_color\":{\"value\":null},\"ticker\":{\"id\":\"1489\",\"type\":\"BasicTicker\"}},\"id\":\"1488\",\"type\":\"LinearAxis\"},{\"attributes\":{\"data_source\":{\"id\":\"1551\",\"type\":\"ColumnDataSource\"},\"glyph\":{\"id\":\"1553\",\"type\":\"VBar\"},\"hover_glyph\":null,\"muted_glyph\":null,\"nonselection_glyph\":{\"id\":\"1554\",\"type\":\"VBar\"},\"selection_glyph\":null,\"view\":{\"id\":\"1556\",\"type\":\"CDSView\"}},\"id\":\"1555\",\"type\":\"GlyphRenderer\"},{\"attributes\":{\"dimension\":1,\"grid_line_color\":null,\"ticker\":{\"id\":\"1454\",\"type\":\"BasicTicker\"}},\"id\":\"1457\",\"type\":\"Grid\"},{\"attributes\":{},\"id\":\"1489\",\"type\":\"BasicTicker\"},{\"attributes\":{\"bottom\":{\"field\":\"q1\"},\"fill_alpha\":{\"value\":0.1},\"fill_color\":{\"value\":\"#1f77b4\"},\"line_alpha\":{\"value\":0.1},\"line_color\":{\"value\":\"#1f77b4\"},\"top\":{\"field\":\"q2\"},\"width\":{\"value\":0.7},\"x\":{\"field\":\"grp\"}},\"id\":\"1554\",\"type\":\"VBar\"},{\"attributes\":{\"grid_line_color\":null,\"ticker\":{\"id\":\"1489\",\"type\":\"BasicTicker\"}},\"id\":\"1492\",\"type\":\"Grid\"},{\"attributes\":{},\"id\":\"1623\",\"type\":\"Selection\"},{\"attributes\":{},\"id\":\"1454\",\"type\":\"BasicTicker\"},{\"attributes\":{\"code\":\"\\n            if (tick.length > 15) return tick.substring(0, 15-2) + '...';\\n            else return tick;\\n        \"},\"id\":\"1571\",\"type\":\"FuncTickFormatter\"},{\"attributes\":{\"axis_label\":\"Quantiles of age\",\"formatter\":{\"id\":\"1617\",\"type\":\"BasicTickFormatter\"},\"major_label_text_font_size\":{\"value\":\"9pt\"},\"minor_tick_line_color\":{\"value\":null},\"ticker\":{\"id\":\"1494\",\"type\":\"BasicTicker\"}},\"id\":\"1493\",\"type\":\"LinearAxis\"},{\"attributes\":{\"x0\":{\"field\":\"x0\"},\"x1\":{\"field\":\"x1\"},\"y0\":{\"field\":\"uw\"},\"y1\":{\"field\":\"uw\"}},\"id\":\"1565\",\"type\":\"Segment\"},{\"attributes\":{\"line_color\":\"red\",\"x\":{\"field\":\"x\"},\"y\":{\"field\":\"y\"}},\"id\":\"1507\",\"type\":\"Line\"},{\"attributes\":{},\"id\":\"1494\",\"type\":\"BasicTicker\"},{\"attributes\":{\"dimension\":1,\"grid_line_color\":null,\"ticker\":{\"id\":\"1494\",\"type\":\"BasicTicker\"}},\"id\":\"1497\",\"type\":\"Grid\"},{\"attributes\":{\"source\":{\"id\":\"1557\",\"type\":\"ColumnDataSource\"}},\"id\":\"1562\",\"type\":\"CDSView\"},{\"attributes\":{\"active_drag\":\"auto\",\"active_inspect\":\"auto\",\"active_multi\":null,\"active_scroll\":\"auto\",\"active_tap\":\"auto\",\"tools\":[{\"id\":\"1498\",\"type\":\"HoverTool\"}]},\"id\":\"1499\",\"type\":\"Toolbar\"},{\"attributes\":{\"data_source\":{\"id\":\"1557\",\"type\":\"ColumnDataSource\"},\"glyph\":{\"id\":\"1559\",\"type\":\"Segment\"},\"hover_glyph\":null,\"muted_glyph\":null,\"nonselection_glyph\":{\"id\":\"1560\",\"type\":\"Segment\"},\"selection_glyph\":null,\"view\":{\"id\":\"1562\",\"type\":\"CDSView\"}},\"id\":\"1561\",\"type\":\"GlyphRenderer\"},{\"attributes\":{\"callback\":null,\"tooltips\":[[\"x\",\"@x\"],[\"y\",\"@y\"]]},\"id\":\"1498\",\"type\":\"HoverTool\"},{\"attributes\":{\"line_alpha\":{\"value\":0.1},\"line_color\":{\"value\":\"#1f77b4\"},\"x0\":{\"field\":\"x0\"},\"x1\":{\"field\":\"x1\"},\"y0\":{\"field\":\"lw\"},\"y1\":{\"field\":\"lw\"}},\"id\":\"1560\",\"type\":\"Segment\"},{\"attributes\":{},\"id\":\"1622\",\"type\":\"UnionRenderers\"},{\"attributes\":{\"fill_color\":{\"value\":\"#1f77b4\"},\"line_color\":{\"value\":\"#1f77b4\"},\"size\":{\"units\":\"screen\",\"value\":3},\"x\":{\"field\":\"x\"},\"y\":{\"field\":\"y\"}},\"id\":\"1502\",\"type\":\"Circle\"},{\"attributes\":{\"child\":{\"id\":\"1512\",\"subtype\":\"Figure\",\"type\":\"Plot\"},\"title\":\"box plot\"},\"id\":\"1573\",\"type\":\"Panel\"},{\"attributes\":{\"callback\":null,\"data\":{\"freq\":{\"__ndarray__\":\"9vtn2WrakD+/YF4wL5iXP+/7Z9lq2pA/v2BeMC+Ylz+HxVSH81WeP+/7Z9lq2qA/9vtn2WrakD9aLuMETTmUPy6T2VsR94o/GJPZWxH3ij8=\",\"dtype\":\"float64\",\"shape\":[10]},\"index\":[0,1,2,3,4,5,6,7,8,9],\"intervals\":[\"[26.0,30.9)\",\"[30.9,35.8)\",\"[35.8,40.7)\",\"[40.7,45.6)\",\"[45.6,50.5)\",\"[50.5,55.4)\",\"[55.4,60.3)\",\"[60.3,65.2)\",\"[65.2,70.1)\",\"[70.1,75.0]\"],\"left\":{\"__ndarray__\":\"AAAAAAAAOkBmZmZmZuY+QGZmZmZm5kFAmpmZmZlZREDNzMzMzMxGQAAAAAAAQElANDMzMzOzS0BnZmZmZiZOQM3MzMzMTFBAZmZmZmaGUUA=\",\"dtype\":\"float64\",\"shape\":[10]},\"right\":{\"__ndarray__\":\"ZmZmZmbmPkBmZmZmZuZBQJqZmZmZWURAzczMzMzMRkAAAAAAAEBJQDQzMzMzs0tAZ2ZmZmYmTkDNzMzMzExQQGZmZmZmhlFAAAAAAADAUkA=\",\"dtype\":\"float64\",\"shape\":[10]}},\"selected\":{\"id\":\"1625\",\"type\":\"Selection\"},\"selection_policy\":{\"id\":\"1624\",\"type\":\"UnionRenderers\"}},\"id\":\"1459\",\"type\":\"ColumnDataSource\"},{\"attributes\":{\"callback\":null,\"point_policy\":\"follow_mouse\",\"renderers\":[{\"id\":\"1567\",\"type\":\"GlyphRenderer\"},{\"id\":\"1537\",\"type\":\"GlyphRenderer\"},{\"id\":\"1549\",\"type\":\"GlyphRenderer\"},{\"id\":\"1555\",\"type\":\"GlyphRenderer\"},{\"id\":\"1543\",\"type\":\"GlyphRenderer\"},{\"id\":\"1561\",\"type\":\"GlyphRenderer\"}],\"tooltips\":[[\"Upper Whisker\",\"@uw\"],[\"Upper Quartile\",\"@q3\"],[\"Median\",\"@q2\"],[\"Lower Quartile\",\"@q1\"],[\"Lower Whisker\",\"@lw\"]]},\"id\":\"1569\",\"type\":\"HoverTool\"},{\"attributes\":{},\"id\":\"1528\",\"type\":\"BasicTicker\"},{\"attributes\":{\"callback\":null},\"id\":\"1407\",\"type\":\"DataRange1d\"},{\"attributes\":{\"text\":\"age\",\"text_font_size\":{\"value\":\"10pt\"}},\"id\":\"1438\",\"type\":\"Title\"},{\"attributes\":{\"dimension\":1,\"grid_line_color\":null,\"ticker\":{\"id\":\"1528\",\"type\":\"BasicTicker\"}},\"id\":\"1531\",\"type\":\"Grid\"},{\"attributes\":{\"text\":\"age (3.1% missing)\",\"text_font_size\":{\"value\":\"10pt\"}},\"id\":\"1405\",\"type\":\"Title\"},{\"attributes\":{\"source\":{\"id\":\"1563\",\"type\":\"ColumnDataSource\"}},\"id\":\"1568\",\"type\":\"CDSView\"},{\"attributes\":{\"active_drag\":\"auto\",\"active_inspect\":\"auto\",\"active_multi\":null,\"active_scroll\":\"auto\",\"active_tap\":\"auto\",\"tools\":[{\"id\":\"1569\",\"type\":\"HoverTool\"}]},\"id\":\"1532\",\"type\":\"Toolbar\"},{\"attributes\":{\"data_source\":{\"id\":\"1501\",\"type\":\"ColumnDataSource\"},\"glyph\":{\"id\":\"1502\",\"type\":\"Circle\"},\"hover_glyph\":null,\"muted_glyph\":null,\"nonselection_glyph\":{\"id\":\"1503\",\"type\":\"Circle\"},\"selection_glyph\":null,\"view\":{\"id\":\"1505\",\"type\":\"CDSView\"}},\"id\":\"1504\",\"type\":\"GlyphRenderer\"},{\"attributes\":{\"data_source\":{\"id\":\"1563\",\"type\":\"ColumnDataSource\"},\"glyph\":{\"id\":\"1565\",\"type\":\"Segment\"},\"hover_glyph\":null,\"muted_glyph\":null,\"nonselection_glyph\":{\"id\":\"1566\",\"type\":\"Segment\"},\"selection_glyph\":null,\"view\":{\"id\":\"1568\",\"type\":\"CDSView\"}},\"id\":\"1567\",\"type\":\"GlyphRenderer\"},{\"attributes\":{\"line_alpha\":{\"value\":0.1},\"line_color\":{\"value\":\"#1f77b4\"},\"x0\":{\"field\":\"x0\"},\"x1\":{\"field\":\"x1\"},\"y0\":{\"field\":\"uw\"},\"y1\":{\"field\":\"uw\"}},\"id\":\"1566\",\"type\":\"Segment\"},{\"attributes\":{\"x0\":{\"field\":\"grp\"},\"x1\":{\"field\":\"grp\"},\"y0\":{\"field\":\"uw\"},\"y1\":{\"field\":\"q3\"}},\"id\":\"1535\",\"type\":\"Segment\"},{\"attributes\":{},\"id\":\"1620\",\"type\":\"BasicTickFormatter\"},{\"attributes\":{\"axis_label\":\"Density\",\"formatter\":{\"id\":\"1613\",\"type\":\"BasicTickFormatter\"},\"major_label_text_font_size\":{\"value\":\"9pt\"},\"minor_tick_line_color\":{\"value\":null},\"ticker\":{\"id\":\"1454\",\"type\":\"BasicTicker\"}},\"id\":\"1453\",\"type\":\"LinearAxis\"},{\"attributes\":{},\"id\":\"1613\",\"type\":\"BasicTickFormatter\"},{\"attributes\":{\"callback\":null,\"data\":{\"grp\":[\"age\"],\"index\":[0],\"lw\":[26.0],\"otlrs\":[[]],\"q1\":[38.25],\"q2\":[49.5],\"q3\":[59.0],\"uw\":[75.0],\"x\":[1],\"x0\":[0.19999999999999996],\"x1\":[0.8]},\"selected\":{\"id\":\"1635\",\"type\":\"Selection\"},\"selection_policy\":{\"id\":\"1634\",\"type\":\"UnionRenderers\"}},\"id\":\"1539\",\"type\":\"ColumnDataSource\"},{\"attributes\":{\"data_source\":{\"id\":\"1506\",\"type\":\"ColumnDataSource\"},\"glyph\":{\"id\":\"1507\",\"type\":\"Line\"},\"hover_glyph\":null,\"muted_glyph\":null,\"nonselection_glyph\":{\"id\":\"1508\",\"type\":\"Line\"},\"selection_glyph\":null,\"view\":{\"id\":\"1510\",\"type\":\"CDSView\"}},\"id\":\"1509\",\"type\":\"GlyphRenderer\"},{\"attributes\":{\"x0\":{\"field\":\"grp\"},\"x1\":{\"field\":\"grp\"},\"y0\":{\"field\":\"lw\"},\"y1\":{\"field\":\"q1\"}},\"id\":\"1541\",\"type\":\"Segment\"},{\"attributes\":{\"callback\":null},\"id\":\"1440\",\"type\":\"DataRange1d\"},{\"attributes\":{},\"id\":\"1609\",\"type\":\"BasicTickFormatter\"},{\"attributes\":{\"callback\":null},\"id\":\"1442\",\"type\":\"DataRange1d\"},{\"attributes\":{\"source\":{\"id\":\"1533\",\"type\":\"ColumnDataSource\"}},\"id\":\"1538\",\"type\":\"CDSView\"},{\"attributes\":{\"callback\":null,\"data\":{\"x\":[18.504708504565215,79.36625923737027],\"y\":[18.504708504565215,79.36625923737027]},\"selected\":{\"id\":\"1631\",\"type\":\"Selection\"},\"selection_policy\":{\"id\":\"1630\",\"type\":\"UnionRenderers\"}},\"id\":\"1506\",\"type\":\"ColumnDataSource\"},{\"attributes\":{},\"id\":\"1446\",\"type\":\"LinearScale\"},{\"attributes\":{\"data_source\":{\"id\":\"1533\",\"type\":\"ColumnDataSource\"},\"glyph\":{\"id\":\"1535\",\"type\":\"Segment\"},\"hover_glyph\":null,\"muted_glyph\":null,\"nonselection_glyph\":{\"id\":\"1536\",\"type\":\"Segment\"},\"selection_glyph\":null,\"view\":{\"id\":\"1538\",\"type\":\"CDSView\"}},\"id\":\"1537\",\"type\":\"GlyphRenderer\"},{\"attributes\":{},\"id\":\"1610\",\"type\":\"BasicTickFormatter\"},{\"attributes\":{},\"id\":\"1449\",\"type\":\"BasicTicker\"},{\"attributes\":{\"line_alpha\":{\"value\":0.1},\"line_color\":{\"value\":\"#1f77b4\"},\"x0\":{\"field\":\"grp\"},\"x1\":{\"field\":\"grp\"},\"y0\":{\"field\":\"uw\"},\"y1\":{\"field\":\"q3\"}},\"id\":\"1536\",\"type\":\"Segment\"},{\"attributes\":{},\"id\":\"1617\",\"type\":\"BasicTickFormatter\"},{\"attributes\":{},\"id\":\"1615\",\"type\":\"BasicTickFormatter\"},{\"attributes\":{},\"id\":\"1624\",\"type\":\"UnionRenderers\"},{\"attributes\":{\"grid_line_color\":null,\"ticker\":{\"id\":\"1449\",\"type\":\"BasicTicker\"}},\"id\":\"1452\",\"type\":\"Grid\"},{\"attributes\":{},\"id\":\"1625\",\"type\":\"Selection\"},{\"attributes\":{},\"id\":\"1444\",\"type\":\"LinearScale\"}],\"root_ids\":[\"1574\"]},\"title\":\"Bokeh Application\",\"version\":\"1.4.0\"}};\n",
       "  var render_items = [{\"docid\":\"69a2cbfe-1d19-4c88-b19b-3cef0afdc2ef\",\"roots\":{\"1574\":\"202093f9-7ccd-4b1e-8372-33f623accad6\"}}];\n",
       "  root.Bokeh.embed.embed_items_notebook(docs_json, render_items);\n",
       "\n",
       "  }\n",
       "  if (root.Bokeh !== undefined) {\n",
       "    embed_document(root);\n",
       "  } else {\n",
       "    var attempts = 0;\n",
       "    var timer = setInterval(function(root) {\n",
       "      if (root.Bokeh !== undefined) {\n",
       "        clearInterval(timer);\n",
       "        embed_document(root);\n",
       "      } else {\n",
       "        attempts++;\n",
       "        if (attempts > 100) {\n",
       "          clearInterval(timer);\n",
       "          console.log(\"Bokeh: ERROR: Unable to run BokehJS code because BokehJS library is missing\");\n",
       "        }\n",
       "      }\n",
       "    }, 10, root)\n",
       "  }\n",
       "})(window);"
      ],
      "application/vnd.bokehjs_exec.v0+json": ""
     },
     "metadata": {
      "application/vnd.bokehjs_exec.v0+json": {
       "id": "1574"
      }
     },
     "output_type": "display_data"
    },
    {
     "data": {
      "text/html": [
       "<div style=\"display: table;\"><div style=\"display: table-row;\"><div style=\"display: table-cell;\"><b title=\"bokeh.models.layouts.Tabs\">Tabs</b>(</div><div style=\"display: table-cell;\">id&nbsp;=&nbsp;'1574', <span id=\"1879\" style=\"cursor: pointer;\">&hellip;)</span></div></div><div class=\"1878\" style=\"display: none;\"><div style=\"display: table-cell;\"></div><div style=\"display: table-cell;\">active&nbsp;=&nbsp;0,</div></div><div class=\"1878\" style=\"display: none;\"><div style=\"display: table-cell;\"></div><div style=\"display: table-cell;\">align&nbsp;=&nbsp;'start',</div></div><div class=\"1878\" style=\"display: none;\"><div style=\"display: table-cell;\"></div><div style=\"display: table-cell;\">aspect_ratio&nbsp;=&nbsp;None,</div></div><div class=\"1878\" style=\"display: none;\"><div style=\"display: table-cell;\"></div><div style=\"display: table-cell;\">background&nbsp;=&nbsp;None,</div></div><div class=\"1878\" style=\"display: none;\"><div style=\"display: table-cell;\"></div><div style=\"display: table-cell;\">callback&nbsp;=&nbsp;None,</div></div><div class=\"1878\" style=\"display: none;\"><div style=\"display: table-cell;\"></div><div style=\"display: table-cell;\">css_classes&nbsp;=&nbsp;[],</div></div><div class=\"1878\" style=\"display: none;\"><div style=\"display: table-cell;\"></div><div style=\"display: table-cell;\">disabled&nbsp;=&nbsp;False,</div></div><div class=\"1878\" style=\"display: none;\"><div style=\"display: table-cell;\"></div><div style=\"display: table-cell;\">height&nbsp;=&nbsp;None,</div></div><div class=\"1878\" style=\"display: none;\"><div style=\"display: table-cell;\"></div><div style=\"display: table-cell;\">height_policy&nbsp;=&nbsp;'auto',</div></div><div class=\"1878\" style=\"display: none;\"><div style=\"display: table-cell;\"></div><div style=\"display: table-cell;\">js_event_callbacks&nbsp;=&nbsp;{},</div></div><div class=\"1878\" style=\"display: none;\"><div style=\"display: table-cell;\"></div><div style=\"display: table-cell;\">js_property_callbacks&nbsp;=&nbsp;{},</div></div><div class=\"1878\" style=\"display: none;\"><div style=\"display: table-cell;\"></div><div style=\"display: table-cell;\">margin&nbsp;=&nbsp;(0, 0, 0, 0),</div></div><div class=\"1878\" style=\"display: none;\"><div style=\"display: table-cell;\"></div><div style=\"display: table-cell;\">max_height&nbsp;=&nbsp;None,</div></div><div class=\"1878\" style=\"display: none;\"><div style=\"display: table-cell;\"></div><div style=\"display: table-cell;\">max_width&nbsp;=&nbsp;None,</div></div><div class=\"1878\" style=\"display: none;\"><div style=\"display: table-cell;\"></div><div style=\"display: table-cell;\">min_height&nbsp;=&nbsp;None,</div></div><div class=\"1878\" style=\"display: none;\"><div style=\"display: table-cell;\"></div><div style=\"display: table-cell;\">min_width&nbsp;=&nbsp;None,</div></div><div class=\"1878\" style=\"display: none;\"><div style=\"display: table-cell;\"></div><div style=\"display: table-cell;\">name&nbsp;=&nbsp;None,</div></div><div class=\"1878\" style=\"display: none;\"><div style=\"display: table-cell;\"></div><div style=\"display: table-cell;\">sizing_mode&nbsp;=&nbsp;None,</div></div><div class=\"1878\" style=\"display: none;\"><div style=\"display: table-cell;\"></div><div style=\"display: table-cell;\">subscribed_events&nbsp;=&nbsp;[],</div></div><div class=\"1878\" style=\"display: none;\"><div style=\"display: table-cell;\"></div><div style=\"display: table-cell;\">tabs&nbsp;=&nbsp;[Panel(id='1436', ...), Panel(id='1476', ...), Panel(id='1511', ...), Panel(id='1573', ...)],</div></div><div class=\"1878\" style=\"display: none;\"><div style=\"display: table-cell;\"></div><div style=\"display: table-cell;\">tabs_location&nbsp;=&nbsp;'above',</div></div><div class=\"1878\" style=\"display: none;\"><div style=\"display: table-cell;\"></div><div style=\"display: table-cell;\">tags&nbsp;=&nbsp;[],</div></div><div class=\"1878\" style=\"display: none;\"><div style=\"display: table-cell;\"></div><div style=\"display: table-cell;\">visible&nbsp;=&nbsp;True,</div></div><div class=\"1878\" style=\"display: none;\"><div style=\"display: table-cell;\"></div><div style=\"display: table-cell;\">width&nbsp;=&nbsp;None,</div></div><div class=\"1878\" style=\"display: none;\"><div style=\"display: table-cell;\"></div><div style=\"display: table-cell;\">width_policy&nbsp;=&nbsp;'auto')</div></div></div>\n",
       "<script>\n",
       "(function() {\n",
       "  var expanded = false;\n",
       "  var ellipsis = document.getElementById(\"1879\");\n",
       "  ellipsis.addEventListener(\"click\", function() {\n",
       "    var rows = document.getElementsByClassName(\"1878\");\n",
       "    for (var i = 0; i < rows.length; i++) {\n",
       "      var el = rows[i];\n",
       "      el.style.display = expanded ? \"none\" : \"table-row\";\n",
       "    }\n",
       "    ellipsis.innerHTML = expanded ? \"&hellip;)\" : \"&lsaquo;&lsaquo;&lsaquo;\";\n",
       "    expanded = !expanded;\n",
       "  });\n",
       "})();\n",
       "</script>\n"
      ],
      "text/plain": [
       "Tabs(id='1574', ...)"
      ]
     },
     "execution_count": 7,
     "metadata": {},
     "output_type": "execute_result"
    }
   ],
   "source": [
    "from dataprep.eda import plot\n",
    "import pandas as pd\n",
    "\n",
    "df = pd.read_csv(\"faculty_grad_year.csv\")\n",
    "df[\"age\"] = 2020+23-df[\"gradyear\"]\n",
    "\n",
    "plot(df, \"age\")\n",
    "\n",
    "# Yes I think it follows a normal distribution as the data points mainly follows the qq plot line but this is under \n",
    "#the assumption that our age model is correct. "
   ]
  },
  {
   "cell_type": "markdown",
   "metadata": {},
   "source": [
    "## Submission"
   ]
  },
  {
   "cell_type": "markdown",
   "metadata": {},
   "source": [
    "Complete the code in this [notebook](https://github.com/sfu-db/bigdata-cmpt733/blob/master/Assignments/A1/A1.ipynb), and submit it to the CourSys activity `Assignment 1`."
   ]
  },
  {
   "cell_type": "markdown",
   "metadata": {},
   "source": [
    "<hr/>\n",
    "## <span style=\"color:red\">Bonus: Contribute to dataprep</span>"
   ]
  },
  {
   "cell_type": "markdown",
   "metadata": {},
   "source": [
    "**Total Bonus: 0.2 + 0.3 = 0.5**\n",
    "\n",
    "1. If you create an issue (i.e., report a bug or request a feature) at [link1](https://github.com/sfu-db/dataprep/issues) or [link2](https://github.com/sfu-db/DataConnectorConfigs/issues), you will get **0.2** bonus points.\n",
    "\n",
    "2.  Creating more issues will *not* give you more bonus points, but you are encouraged to do so for learning more.\n",
    "\n",
    "2. If you send a pull request (i.e., fix a bug or implement a feature or add data connector for a new website) at [link1](https://github.com/sfu-db/dataprep/pulls) or [link2](https://github.com/sfu-db/DataConnectorConfigs/pulls) and the pull request gets merged into the repo, you will get **0.3** bonus points. \n",
    "\n",
    "4.  Sending more pull requests will *not* give you more bonus points, but you are encouraged to do so for learning more.\n",
    "\n",
    "5. These bonus points will be directly added to your final grade.\n",
    "\n",
    "\n",
    "\n",
    "\n",
    "\n",
    "\n",
    "**How to Submit**\n",
    "* Submit github link(s) to the CourSys activity `Bonus`.\n",
    "* Due on `March 15, 2020`\n",
    "\n",
    "If you love dataprep, please support it by simply clicking the **<span style=\"color:red\">Star</span>** on [Github](https://github.com/sfu-db/dataprep).\n",
    "<img src=\"dataprep-star.png\" width=\"1000\">"
   ]
  }
 ],
 "metadata": {
  "kernelspec": {
   "display_name": "Python 3",
   "language": "python",
   "name": "python3"
  },
  "language_info": {
   "codemirror_mode": {
    "name": "ipython",
    "version": 3
   },
   "file_extension": ".py",
   "mimetype": "text/x-python",
   "name": "python",
   "nbconvert_exporter": "python",
   "pygments_lexer": "ipython3",
   "version": "3.7.1"
  }
 },
 "nbformat": 4,
 "nbformat_minor": 1
}
